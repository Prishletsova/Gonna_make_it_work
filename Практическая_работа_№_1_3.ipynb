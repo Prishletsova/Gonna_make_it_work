{
  "nbformat": 4,
  "nbformat_minor": 0,
  "metadata": {
    "colab": {
      "provenance": [],
      "authorship_tag": "ABX9TyOmiUeZTTIsz8VwEHnCMVg1",
      "include_colab_link": true
    },
    "kernelspec": {
      "name": "python3",
      "display_name": "Python 3"
    },
    "language_info": {
      "name": "python"
    }
  },
  "cells": [
    {
      "cell_type": "markdown",
      "metadata": {
        "id": "view-in-github",
        "colab_type": "text"
      },
      "source": [
        "<a href=\"https://colab.research.google.com/github/Prishletsova/Gonna_make_it_work/blob/main/%D0%9F%D1%80%D0%B0%D0%BA%D1%82%D0%B8%D1%87%D0%B5%D1%81%D0%BA%D0%B0%D1%8F_%D1%80%D0%B0%D0%B1%D0%BE%D1%82%D0%B0_%E2%84%96_1_3.ipynb\" target=\"_parent\"><img src=\"https://colab.research.google.com/assets/colab-badge.svg\" alt=\"Open In Colab\"/></a>"
      ]
    },
    {
      "cell_type": "markdown",
      "source": [
        "# № 1.3.1"
      ],
      "metadata": {
        "id": "bLHUtVckWUpC"
      }
    },
    {
      "cell_type": "markdown",
      "source": [
        "Без __init__()"
      ],
      "metadata": {
        "id": "u5LSfL_WEW7C"
      }
    },
    {
      "cell_type": "code",
      "execution_count": 16,
      "metadata": {
        "colab": {
          "base_uri": "https://localhost:8080/"
        },
        "id": "48IrkcayWPA7",
        "outputId": "a81b330b-ba7f-4095-fd91-2e68ab347ed3"
      },
      "outputs": [
        {
          "output_type": "stream",
          "name": "stdout",
          "text": [
            "Введите оценку первой дисциплины: 3\n",
            "Введите оценку второй дисциплины: 4\n",
            "Введите оценку третьей дисциплины: 5\n",
            "Средний балл: 4\n"
          ]
        }
      ],
      "source": [
        "class Student1:\n",
        "    def average_score(self, a, b, c):\n",
        "        if a < 2 or a > 5:\n",
        "            raise ValueError(\"Оценка должна варьироваться от 2 до 5\")\n",
        "        elif b < 2 or b > 5:\n",
        "            raise ValueError(\"Оценка должна варьироваться от 2 до 5\")\n",
        "        elif c < 2 or c > 5:\n",
        "            raise ValueError(\"Оценка должна варьироваться от 2 до 5\")\n",
        "\n",
        "        A = (a + b + c)//3\n",
        "        return f\"Средний балл: {A}\"\n",
        "\n",
        "a = Student1()\n",
        "\n",
        "try:\n",
        "    print(a.average_score(int(input(\"Введите оценку первой\" \\\n",
        "                                           \" дисциплины: \")),\n",
        "                                  int(input(\"Введите оценку второй\" \\\n",
        "                                            \" дисциплины: \")),\n",
        "                                  int(input(\"Введите оценку третьей\" \\\n",
        "                                            \" дисциплины: \"))))\n",
        "except ValueError as eh:\n",
        "    print(\"Произошла ошибка!\", eh)\n",
        "except TypeError as em:\n",
        "    print(\"Произошла ошибка!\", em)\n",
        "    "
      ]
    },
    {
      "cell_type": "markdown",
      "source": [
        "С __init__()"
      ],
      "metadata": {
        "id": "wS3R8tjPEbGU"
      }
    },
    {
      "cell_type": "code",
      "source": [
        "class Student2:\n",
        "    def __init__(self, a, b, c):\n",
        "        self.a = a\n",
        "        self.b = b\n",
        "        self.c = c\n",
        "        if a < 2 or a > 5:\n",
        "            raise ValueError(\"Оценка должна варьироваться от 2 до 5\")\n",
        "        elif b < 2 or b > 5:\n",
        "            raise ValueError(\"Оценка должна варьироваться от 2 до 5\")\n",
        "        elif c < 2 or c > 5:\n",
        "            raise ValueError(\"Оценка должна варьироваться от 2 до 5\")\n",
        "    def average_score_2(self):\n",
        "        d = (self.a + self.b + self.c) // 3\n",
        "        return f\"Средний балл: {d}\"\n",
        "\n",
        "try:\n",
        "    d = Student2(int(input(\"Введите оценку первой дисциплины: \")),\n",
        "             int(input(\"Введите оценку второй дисциплины: \")),\n",
        "             int(input(\"Введите оценку третьей дисциплины: \")))\n",
        "    print(d.average_score_2())\n",
        "\n",
        "except ValueError as eh:\n",
        "    print(\"Произошла ошибка!\", eh)\n",
        "except TypeError as em:\n",
        "    print(\"Произошла ошибка!\", em)"
      ],
      "metadata": {
        "colab": {
          "base_uri": "https://localhost:8080/"
        },
        "id": "LkzpMKxnEfsN",
        "outputId": "f6281b0e-3919-4977-9d90-9b58c5f17ea7"
      },
      "execution_count": 9,
      "outputs": [
        {
          "output_type": "stream",
          "name": "stdout",
          "text": [
            "Введите оценку первой дисциплины: 7\n",
            "Введите оценку второй дисциплины: 9\n",
            "Введите оценку третьей дисциплины: 2\n",
            "Произошла ошибка! Оценка должна варьироваться от 2 до 5\n"
          ]
        }
      ]
    },
    {
      "cell_type": "markdown",
      "source": [
        "# № 1.3.2"
      ],
      "metadata": {
        "id": "ZjJ-LtjcQZ-X"
      }
    },
    {
      "cell_type": "code",
      "source": [
        "class Employee:\n",
        "    def __init__(self, o, da, dr):  # допустим, что в месяце 22 рабочих дня,\n",
        "                                    # и оклад за месяц составляет 50 000.\n",
        "                                    # отработанных дней - 9\n",
        "                                    # зп = 20 457\n",
        "        self._oklad = o\n",
        "        self.rabdni = da\n",
        "        self.otrabdni = dr\n",
        "\n",
        "    def wages(self):\n",
        "        a = round(self._oklad / self.rabdni)\n",
        "        b = self.otrabdni * a\n",
        "        print(f'Заработная плата за этот месяц составляет: {b}')\n",
        "\n",
        "try:\n",
        "    employee1 = Employee(int(input(\"Введите размер оклада: \")),\n",
        "                     int(input(\"Введите количество рабочих дней: \")),\n",
        "                     int(input(\"Введите количество отработанных дней: \")))\n",
        "    employee1.wages()\n",
        "except ValueError as mis:\n",
        "    print(\"Произошла ошибка! Введите ответ в виде целого числа\")"
      ],
      "metadata": {
        "id": "cOZFXOyNQdct",
        "colab": {
          "base_uri": "https://localhost:8080/"
        },
        "outputId": "9d635e2b-6b9f-4317-fa70-eb0fffaacdd3"
      },
      "execution_count": 3,
      "outputs": [
        {
          "output_type": "stream",
          "name": "stdout",
          "text": [
            "Введите размер оклада: 50000\n",
            "Введите количество рабочих дней: 22\n",
            "Введите количество отработанных дней: 9\n",
            "Заработная плата за этот месяц составляет: 20457\n"
          ]
        }
      ]
    },
    {
      "cell_type": "markdown",
      "source": [
        "# № 1.3.3"
      ],
      "metadata": {
        "id": "17hlDF-rViTf"
      }
    },
    {
      "cell_type": "code",
      "source": [
        "class Employee:\n",
        "    def __init__(self, o, da, dr):  # допустим, что в месяце 22 рабочих дня,\n",
        "                                    # и оклад за месяц составляет 50 000.\n",
        "                                    # отработанных дней - 9\n",
        "                                    # зп = 20 454\n",
        "        self._oklad = o\n",
        "        self.rabdni = da\n",
        "        self.otrabdni = dr\n",
        "\n",
        "    def wages(self):\n",
        "        a = round(self._oklad / self.rabdni, 2)\n",
        "        b = self.otrabdni * a\n",
        "        print(f'Заработная плата за этот месяц составляет: {b}')\n",
        "        p = round(b / 100, 2)\n",
        "        print(f\"Премия сотрудника составляет: {p}\")\n",
        "\n",
        "try:\n",
        "    employee1 = Employee(int(input(\"Введите размер оклада: \")),\n",
        "                     int(input(\"Введите количество рабочих дней: \")),\n",
        "                     int(input(\"Введите количество отработанных дней: \")))\n",
        "    employee1.wages()\n",
        "except ValueError as mis:\n",
        "    print(\"Произошла ошибка! Введите ответ в виде целого числа\")"
      ],
      "metadata": {
        "id": "qR6AJPfGViqq",
        "colab": {
          "base_uri": "https://localhost:8080/"
        },
        "outputId": "e4991b87-bcb3-4b8b-b152-1c2eb20dfe44"
      },
      "execution_count": 5,
      "outputs": [
        {
          "output_type": "stream",
          "name": "stdout",
          "text": [
            "Введите размер оклада: 50000\n",
            "Введите количество рабочих дней: 22\n",
            "Введите количество отработанных дней: 9\n",
            "Заработная плата за этот месяц составляет: 20454.57\n",
            "Премия сотрудника составляет: 204.55\n"
          ]
        }
      ]
    },
    {
      "cell_type": "markdown",
      "source": [
        "# № 1.3.4"
      ],
      "metadata": {
        "id": "6jH6kc3aX9sc"
      }
    },
    {
      "cell_type": "code",
      "source": [
        "class Employee:\n",
        "    def __init__(self, q, o, da):   # допустим, что в месяце 22 рабочих дня,\n",
        "                                    # и оклад за месяц составляет 50 000.\n",
        "                                    # отработанных дней - 9\n",
        "                                    # зп = 20 454\n",
        "                                    # премия = 204\n",
        "                                    # фонд = 29 513\n",
        "        if q == 0 or o == 0 or da == 0:\n",
        "            raise ValueError(\"Введенные данные должны быть больше нуля.\")\n",
        "        elif isinstance(q, int) or isinstance(o, int) or isinstance(da, int):\n",
        "            pass\n",
        "        else:\n",
        "            raise ValueError(\"Введите целочисленные данные больше нуля.\")\n",
        "        self.quantity = q\n",
        "        self._oklad = o\n",
        "        self.rabdni = da\n",
        "        self.otrabdni = 0\n",
        "\n",
        "    def zapros(self):\n",
        "        a = round(self._oklad / self.rabdni, 2)\n",
        "        v = (self.quantity - (self.quantity - 1))\n",
        "        while self.quantity > 0: \n",
        "            self.otrabdni = int(input(f\"Введите количество отработанных дней\" \\\n",
        "                                      f\" {v}-го сотрудника: \"))\n",
        "            print(\" \")\n",
        "            b = self.otrabdni * a\n",
        "            x = str(f\"Заработная плата сотрудника №{v} за\" \\\n",
        "                    f\" этот месяц составляет: {b}\")\n",
        "            file = open(\"Данные.txt\", \"w+\", encoding ='utf-8')\n",
        "            file.write(x)\n",
        "            file.write(\"\\n\")\n",
        "            file.close()\n",
        "            p = round(b / 100, 2)\n",
        "            y = str(f\"Премия сотрудника №{v} составляет: {p}\")\n",
        "            file = open(\"Данные.txt\", \"a+\", encoding='utf-8')\n",
        "            file.write(y)\n",
        "            file.write(\"\\n\")\n",
        "            file.write(\"\\n\")\n",
        "            file.close()\n",
        "            fond = 0\n",
        "            fond += (p + b)\n",
        "            self.quantity -= 1\n",
        "            v += 1\n",
        "            with open(\"Данные.txt\", \"r\") as filename:\n",
        "                for ln in filename:\n",
        "                    print(ln)\n",
        "        z = str(f\"Фонд заработной платы составляет: {round(fond / 0.7, 2)}\")\n",
        "        file = open(\"Данные.txt\", \"w+\", encoding='utf-8')\n",
        "        file.write(z)\n",
        "        file.close()\n",
        "        with open(\"Данные.txt\", \"r\") as filename:\n",
        "            for ln in filename:\n",
        "                print(ln)\n",
        "                \n",
        "\n",
        "#    def fond(file):\n",
        "#        file = open('Данные.txt','r') \n",
        "#        with open(\"Данные.txt\", encoding='utf-8') as fl:\n",
        "#            for ln in fl:\n",
        "#                print(ln.strip())\n",
        "#        file.close()\n",
        "\n",
        "#        print(f\"Фонд заработной платы составляет: {fond / 0.7}\")\n",
        "    \n",
        "\n",
        "\n",
        "try:\n",
        "    employee1 = Employee(int(input(\"Введите количество сотрудников: \")),\n",
        "                     int(input(\"Введите размер оклада: \")),\n",
        "                     int(input(\"Введите количество рабочих дней: \")))\n",
        "\n",
        "    print(\" \")\n",
        "\n",
        "    employee1.zapros()\n",
        "except ValueError as eh:\n",
        "    print(\"Произошла ошибка!\", eh)\n",
        "\n",
        "# допустим, что в месяце 22 рабочих дня,\n",
        "# и оклад за месяц составляет 50 000.\n",
        "# отработанных дней у 1 - 9\n",
        "# отработанных дней у 2 - 20\n",
        "# зп 1 = 20 454\n",
        "# зп 2 = 45 454\n",
        "# премия 1 = 204\n",
        "# премия 2 = 454, 54\n",
        "# фонд = 65584,52"
      ],
      "metadata": {
        "colab": {
          "base_uri": "https://localhost:8080/"
        },
        "id": "WICCV-Moluno",
        "outputId": "2e797295-9dd0-4916-9bd1-e026881da70e"
      },
      "execution_count": 12,
      "outputs": [
        {
          "output_type": "stream",
          "name": "stdout",
          "text": [
            "Введите количество сотрудников: fghjk\n",
            "Произошла ошибка! invalid literal for int() with base 10: 'fghjk'\n"
          ]
        }
      ]
    },
    {
      "cell_type": "markdown",
      "source": [
        "# № 1.3.5"
      ],
      "metadata": {
        "id": "3FNN0T8rJnlB"
      }
    },
    {
      "cell_type": "code",
      "source": [
        "class A:\n",
        "    def __truediv__(self, x, y):\n",
        "        c = x / y\n",
        "        d = y / x\n",
        "        return f\"Деление числителя на знаменатель - {c}, и наоборот - {d}\"\n",
        "\n",
        "    def __floordiv__(self, x, y):\n",
        "        c = x / y\n",
        "        d = y / x\n",
        "        return f\"Целочисленное деление числителя на знаменатель - {c},\" \\\n",
        "               f\" и наоборот - {d}\"\n",
        "\n",
        "    def __mod__(self, x, y):\n",
        "        c = x % y\n",
        "        d = y % x\n",
        "        return f\"Оcатотк от деления числителя на знаменатель - {c},\" \\\n",
        "               f\" и наоборот - {d}\"\n",
        "\n",
        "a = A()\n",
        "try:\n",
        "    print(a.__truediv__(int(input(\"Введите числитель: \")),\n",
        "                             int(input(\"Введите знаменатель: \"))))\n",
        "\n",
        "    print(a.__floordiv__(int(input(\"Введите числитель: \")),\n",
        "                              int(input(\"Введите знаменатель: \"))))\n",
        "\n",
        "    print(a.__mod__(int(input(\"Введите числитель: \")),\n",
        "                         int(input(\"Введите знаменатель: \"))))\n",
        "except ValueError as eh:\n",
        "    print(\"Произошла ошибка!\", eh)\n",
        "except Exception as eh:\n",
        "    print(\"Произошла ошибка!\")\n",
        "    print(\"Тип:\", type(eh))\n",
        "    print(\"Описание:\", eh)\n"
      ],
      "metadata": {
        "colab": {
          "base_uri": "https://localhost:8080/"
        },
        "id": "wqPo-nzUJmSa",
        "outputId": "132a1fc0-262d-4e1b-b77c-a7af5d83cc43"
      },
      "execution_count": null,
      "outputs": [
        {
          "output_type": "stream",
          "name": "stdout",
          "text": [
            "Введите числитель: 10\n",
            "Введите знаменатель: 5\n",
            "Деление числителя на знаменатель - 2.0, и наоборот - 0.5\n",
            "Введите числитель: 10\n",
            "Введите знаменатель: 5\n",
            "Целочисленное деление числителя на знаменатель - 2.0, и наоборот - 0.5\n",
            "Введите числитель: 10\n",
            "Введите знаменатель: 5\n",
            "Оcатотк от деления числителя на знаменатель - 0, и наоборот - 5\n"
          ]
        }
      ]
    }
  ]
}