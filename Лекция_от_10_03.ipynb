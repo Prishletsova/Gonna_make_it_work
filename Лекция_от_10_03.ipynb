{
  "nbformat": 4,
  "nbformat_minor": 0,
  "metadata": {
    "colab": {
      "provenance": [],
      "authorship_tag": "ABX9TyP8yhK4V2epWMirgHjaTUUg",
      "include_colab_link": true
    },
    "kernelspec": {
      "name": "python3",
      "display_name": "Python 3"
    },
    "language_info": {
      "name": "python"
    }
  },
  "cells": [
    {
      "cell_type": "markdown",
      "metadata": {
        "id": "view-in-github",
        "colab_type": "text"
      },
      "source": [
        "<a href=\"https://colab.research.google.com/github/Prishletsova/Gonna_make_it_work/blob/main/%D0%9B%D0%B5%D0%BA%D1%86%D0%B8%D1%8F_%D0%BE%D1%82_10_03.ipynb\" target=\"_parent\"><img src=\"https://colab.research.google.com/assets/colab-badge.svg\" alt=\"Open In Colab\"/></a>"
      ]
    },
    {
      "cell_type": "markdown",
      "source": [
        "# Конструктор класса - метод __init__()\n"
      ],
      "metadata": {
        "id": "TkTGKpbUas2i"
      }
    },
    {
      "cell_type": "markdown",
      "source": [
        "В объектно-ориенторованном программировании конструктором класса называют метод, который автоматически вызывается при создании объекта. Его также можно назвать конструктором объектов класса.  "
      ],
      "metadata": {
        "id": "GeFQVbwwe-70"
      }
    },
    {
      "cell_type": "markdown",
      "source": [
        "Имя такого метода обычно регламентируется синтаксисом конкретного языка программирования. Так в Java, C# имя конструктора класса совпадает с именем самого класса. В Python же роль конструктора играет метод __init__()."
      ],
      "metadata": {
        "id": "NSfeP0z1bSMj"
      }
    },
    {
      "cell_type": "markdown",
      "source": [
        "В Python наличие признаков подчеркивания спереди и сзади в имени метода говорит о том, что он принадлежит к группе методов перегрузки операторов. Если подобные методы определены в классе, то объекты могут участвовать в таких операциях, как сложение, вычитание, вызываться как функции. "
      ],
      "metadata": {
        "id": "W0hHgtWjb7O1"
      }
    },
    {
      "cell_type": "markdown",
      "source": [
        "При этом методы перегрузки операторов не надо вызывать по имени. Вызовом для них является сам факт участия объекта в определенной операции. В случае конструктора класса - это операция создания объекта. Так как объект создается в момент вызова класса по имени, то в этот момент вызывается метод __init__(), если он оперделен в классе. "
      ],
      "metadata": {
        "id": "_o1Kk7nAcl2x"
      }
    },
    {
      "cell_type": "markdown",
      "source": [
        "Необходимость конструкторов свзяана с тем, что нередко объекты должны иметь собственные свойства сразу. Пусть имеется класс Person, объекты которого обязательно должны иметь имя и фамилию. Если класс будет описан подобным образом"
      ],
      "metadata": {
        "id": "BXZXHxCUjkto"
      }
    },
    {
      "cell_type": "code",
      "execution_count": null,
      "metadata": {
        "id": "kxvhu5o5anR6"
      },
      "outputs": [],
      "source": [
        "class Person:\n",
        "    def setName(self, n, s):\n",
        "        self.name = n\n",
        "        self.sername = s"
      ]
    },
    {
      "cell_type": "markdown",
      "source": [
        "то создание объекта возможно без полей. Для установки имени и фамилии метод setName() нужно вызывать отдельно:"
      ],
      "metadata": {
        "id": "-UYuaY22K4MK"
      }
    },
    {
      "cell_type": "code",
      "source": [
        "p1 = Person()\n",
        "p1.setName(\"Bill\", \"Ross\")\n",
        "p1.name, p1.sername"
      ],
      "metadata": {
        "colab": {
          "base_uri": "https://localhost:8080/"
        },
        "id": "JEgqc9Jdfd-0",
        "outputId": "1c099898-0ae7-49b7-a149-c8f7906a7c10"
      },
      "execution_count": null,
      "outputs": [
        {
          "output_type": "execute_result",
          "data": {
            "text/plain": [
              "('Bill', 'Rose')"
            ]
          },
          "metadata": {},
          "execution_count": 2
        }
      ]
    },
    {
      "cell_type": "markdown",
      "source": [
        "В свою очередь конструктор класса не позволит создать объект без обязательных полей:"
      ],
      "metadata": {
        "id": "kmFUFmTbMS1v"
      }
    },
    {
      "cell_type": "code",
      "source": [
        "class Person2:\n",
        "    def __init__(self, n, s):\n",
        "        self.name = n\n",
        "        self.sername = s\n",
        "\n",
        "p1 = Person2(\"Sam\", \"Baker\")\n",
        "print(p1.name, p1.sername)"
      ],
      "metadata": {
        "colab": {
          "base_uri": "https://localhost:8080/"
        },
        "id": "svyl0yBpf15h",
        "outputId": "861619c7-16f3-4f7f-c7e6-05dcf67efc77"
      },
      "execution_count": null,
      "outputs": [
        {
          "output_type": "stream",
          "name": "stdout",
          "text": [
            "Sam Kate\n"
          ]
        }
      ]
    },
    {
      "cell_type": "markdown",
      "source": [
        "Здесь при вызове класса в круглых скобках передаются значения, которые будут присвоены параметрам метода __init__(). Первый его параметр - self - ссылка на сам только что созданный объект."
      ],
      "metadata": {
        "id": "KhOH4TWIMiPA"
      }
    },
    {
      "cell_type": "markdown",
      "source": [
        "Однако бывает, что надо допустить создание объекта, даже если никакие данные в конструктор не передаются. В таком случае параметрам конструктора класса задаются значения по умолчанию:"
      ],
      "metadata": {
        "id": "KOruwQKjM9zF"
      }
    },
    {
      "cell_type": "code",
      "source": [
        "class Rectangle:\n",
        "    def __init__(self, w = 0.5, h = 1):\n",
        "        self.width = w\n",
        "        self.height = h\n",
        "    def square(self):\n",
        "        return self.width * self.height"
      ],
      "metadata": {
        "id": "9IcMnfIHgTTr"
      },
      "execution_count": null,
      "outputs": []
    },
    {
      "cell_type": "code",
      "source": [
        "rec1 = Rectangle(5, 2)\n",
        "print(rec1.square())\n",
        "\n",
        "rec2 = Rectangle()\n",
        "print(rec2.square())\n",
        "\n",
        "rec3 = Rectangle(3)\n",
        "print(rec3.square())\n",
        "\n",
        "rec4 = Rectangle(h = 4)\n",
        "print(rec4.square())"
      ],
      "metadata": {
        "id": "V17uNnM2gqlA",
        "colab": {
          "base_uri": "https://localhost:8080/"
        },
        "outputId": "5c2b28bf-fc16-42c1-ea6f-a311e682621e"
      },
      "execution_count": null,
      "outputs": [
        {
          "output_type": "stream",
          "name": "stdout",
          "text": [
            "10\n",
            "0.5\n",
            "3\n",
            "2.0\n"
          ]
        }
      ]
    },
    {
      "cell_type": "markdown",
      "source": [
        "# Практическая работа. Конструктор и деструктор"
      ],
      "metadata": {
        "id": "5ZKRzyCghESa"
      }
    },
    {
      "cell_type": "markdown",
      "source": [
        "Помимо конструктора объектов в языках программирования есть обратный ему метод - деструктор. Он вызывается, когда объект не создается, а уничтожается. "
      ],
      "metadata": {
        "id": "5yrPRNjac-4u"
      }
    },
    {
      "cell_type": "markdown",
      "source": [
        "В языке программмирования Python объект уничтожается, когда исчесзают все связанные с ним переменные или им приваивается другое значение, в результате чего связь со старым объектом теряется. Удалить переменную можно с помощью команды языка del. В классах Python функцию деструктора выполняет метод __del__().\n",
        "*******************************"
      ],
      "metadata": {
        "id": "6phEJRo5dQGl"
      }
    },
    {
      "cell_type": "markdown",
      "source": [
        "Напишите программу по следующему описанию:\n",
        "\n",
        "1.1 Есть класс Person, конструктор которого принимает три параметра: имя, фамилию и квалификацию специалиста. Квалификация имеет значение заданное по умолчанию, равное единице.\n",
        "\n",
        "1.2 У класса Person есть метод, который возвращает строку, включающую в себя всю информацию о сотруднике.\n",
        "\n",
        "1.3 Класс Person содержит деструктор, который выводит на экран фразу: \"До свидания, мистер...\" вместо троеточия должны выводиться имя и фамилия объекта.\n",
        "\n",
        "1.4 В основной ветке программы создайте три объекта класса Person. Посмотрите информацию о сотрудниках и увольте самое слабое звено. \n",
        "\n",
        "1.5 В конце программы добавьте функцию input(), чтобы скрипт не завершился сам, пока не будет нажат Enter. Иначе вы сразу увидите как удаляются все объекты при завершении работы программы. \n",
        "\n",
        "******************************"
      ],
      "metadata": {
        "id": "na20T0aceAXx"
      }
    },
    {
      "cell_type": "code",
      "source": [
        "class Person:\n",
        "    def __init__(self, n, s, q = 1):\n",
        "      self.name = n\n",
        "      self.surname = s\n",
        "      self.skill= q\n",
        "    def __del__(self):\n",
        "        print(\"До свидания, мистер\", self.name, self.surname)\n",
        "    def info(self):\n",
        "        return \"{0} {1}, {2}\". format(self.name, self.surname, self.skill)\n",
        "worker = Person(\"И\", \"Котов\", 3)\n",
        "helper = Person(\"Д\", \"Мышев\", 1)\n",
        "maker = Person(\"О\", \"Рисов\", 2)\n",
        "print(worker.info())\n",
        "print(helper.info())\n",
        "print(maker.info())\n",
        "del helper\n",
        "print(\"Конец программы\")\n",
        "input()"
      ],
      "metadata": {
        "colab": {
          "base_uri": "https://localhost:8080/",
          "height": 140
        },
        "id": "b9H-8Uu4g62E",
        "outputId": "0d5b9ae0-548e-48ef-9661-2301ebbed4a2"
      },
      "execution_count": null,
      "outputs": [
        {
          "name": "stdout",
          "output_type": "stream",
          "text": [
            "И Котов, 3\n",
            "Д Мышев, 1\n",
            "О Рисов, 2\n",
            "До свидания, мистер Д Мышев\n",
            "Конец программы\n",
            " \n"
          ]
        },
        {
          "output_type": "execute_result",
          "data": {
            "text/plain": [
              "' '"
            ],
            "application/vnd.google.colaboratory.intrinsic+json": {
              "type": "string"
            }
          },
          "metadata": {},
          "execution_count": 1
        }
      ]
    },
    {
      "cell_type": "markdown",
      "source": [
        "# Индивидуальное задание"
      ],
      "metadata": {
        "id": "PQCJHOiQl2KS"
      }
    },
    {
      "cell_type": "markdown",
      "source": [
        "1.1 Есть класс Student, конструктор которого принимает два параметра. Группа по умолчанию задается.\n",
        "\n",
        "1.2 У класса Student есть метод, который возвращает строку, включающую в себя всю информацию о студенте(ФИО, дата рождения, его пол, контактный телефон, почта) и ВУЗе(название, факультет, специальность, группа), где он обучается, и успеваемость(отличник, ударник, задолжник).\n",
        "\n",
        "1.3 Класс Student содержит деструктор, который выводит на экран фразу: \"Отчислен студент...\" вместо троеточия должны выводиться имя и фамилия объекта и его успеваемость, отлислять только тех, кто задолжник.\n",
        "\n",
        "1.4 В основной ветке программы создайте только два объекта класса Student. Посмотрите полную информацию о студентах, отчислить из этой пары студентов только того, кто по успеваемости менее всего успешен, если одинаковые параметры вывести сообщение: \"Молодцы!\""
      ],
      "metadata": {
        "id": "w3E6QPbXl6gy"
      }
    },
    {
      "cell_type": "code",
      "source": [],
      "metadata": {
        "id": "Y_UaCbLLhJQ9"
      },
      "execution_count": null,
      "outputs": []
    },
    {
      "cell_type": "markdown",
      "source": [
        "# Наследование"
      ],
      "metadata": {
        "id": "AXu2Ki8GjNz5"
      }
    },
    {
      "cell_type": "markdown",
      "source": [
        "Наследование - важная составляющая ооп. Так или иначе мы уже сталкивались с ним, ведь объекты наследуют атрибуты своих класса. Однако обычно под наследованием в ООП понимается наличие классов и подклассов. Также их называют супер- или надклассами и классами, а также родительскими и дочерними классами. "
      ],
      "metadata": {
        "id": "4AOAoI7q_d4e"
      }
    },
    {
      "cell_type": "markdown",
      "source": [
        "**Суть наследования** здесь схожа с наследованием объектами от классов. Дочерние классы наследуют атрибуты родительских, а также могут переопределять атрибуты и добавлять свои. "
      ],
      "metadata": {
        "id": "7IH5T91_AOp2"
      }
    },
    {
      "cell_type": "markdown",
      "source": [
        "# Просто наследование методов родительского класса"
      ],
      "metadata": {
        "id": "ksDbRs4VAi5z"
      }
    },
    {
      "cell_type": "markdown",
      "source": [
        "В качестве примера рассмотрим разборку класса столов и его двух подклассов - кухонных и письменных столов. Все столы, независимо от своего типа, имеют длину, ширину и высоту. Пусть для письменных столов важна площадь поверхности, а для кухонных - количество посадочных мест. Общее внесем в класс, частное - в подклассы."
      ],
      "metadata": {
        "id": "1hWSgMCCAptX"
      }
    },
    {
      "cell_type": "markdown",
      "source": [
        "Связь между родительским и дочерним классом устанавливается через дочерний: родительсике классы перечисляются в скобках после его имени. "
      ],
      "metadata": {
        "id": "tNyTXz6UBgUF"
      }
    },
    {
      "cell_type": "code",
      "source": [
        "class Table:\n",
        "    def __init__(self, l, w, h):\n",
        "        self.length = l\n",
        "        self.width = w\n",
        "        self.haight = h\n",
        "\n",
        "class KitchenTable(Table):\n",
        "    def setPlaces(self, p):\n",
        "        self.places = p\n",
        "\n",
        "class DeskTable(Table):\n",
        "    def square(self):\n",
        "        return self.width * self.length\n",
        "\n",
        "t1 = KitchenTable(2, 2, 0.7)\n",
        "t2 = DeskTable(1.5, 0.8, 0.75)\n",
        "print(t2.square())\n",
        "t3 = KitchenTable(1, 1.2, 0.8)"
      ],
      "metadata": {
        "id": "21st7HqUjPm-",
        "colab": {
          "base_uri": "https://localhost:8080/"
        },
        "outputId": "1c03cab1-ad26-4c51-a1ab-d7654e0a335f"
      },
      "execution_count": null,
      "outputs": [
        {
          "output_type": "stream",
          "name": "stdout",
          "text": [
            "1.2000000000000002\n"
          ]
        }
      ]
    },
    {
      "cell_type": "markdown",
      "source": [
        "В данном случае классы KitchenTable и DeskTable не имеют своих собственных конструкторов, поэтому наследуют его от родительского класса. При создании экземпляра этих столов передавать аргументы для __init__() обязательно, иначе возникает ошибка."
      ],
      "metadata": {
        "id": "qV0e5BrDCHNi"
      }
    },
    {
      "cell_type": "markdown",
      "source": [
        "# Практическая работа 4-2. Наследование"
      ],
      "metadata": {
        "id": "DYer22gcDlqz"
      }
    },
    {
      "cell_type": "markdown",
      "source": [
        "Несомненно можно создавать столы и о родительского класса Table. Однако он не будет, согласно неким родственным связям, иметь доступ к методам setPlaces() и square(). Точно так же как объект класса KitchenTable не имеет доступа к единоличным атрибутам класса DeskTable."
      ],
      "metadata": {
        "id": "YrmfQ3SPDr7B"
      }
    },
    {
      "cell_type": "markdown",
      "source": [
        "В этом смысле терминология \"родительский и дочерний класс\" не совсем верна. Наследование в ООП - это скорее аналог систематизации и классификации набодобие той, что есть в живой природе. Все млекопитающие имеют четырехкамерное сердце, но только носороги - рог."
      ],
      "metadata": {
        "id": "-MkWbcyhEIoz"
      }
    },
    {
      "cell_type": "markdown",
      "source": [
        "# Полное преодоление метода надкласса"
      ],
      "metadata": {
        "id": "sT73PfWplKKo"
      }
    },
    {
      "cell_type": "markdown",
      "source": [
        "Что если в подклассе нам не подходит код метода его надкласса. Допустим, мы вводим еще один класс столов, который является дочерним по отношению к DeskTable. Пусть это будут компьютерные столы, при вычислении рабочей поверхности которых надо отнимать заданную величину. Имеет смысл внести в этот новый подкласс его собственный метод square():"
      ],
      "metadata": {
        "id": "11b-FpEMlgnW"
      }
    },
    {
      "cell_type": "code",
      "source": [
        "class ComputerTable(DeskTable):\n",
        "    def square(self, e):\n",
        "        return self.width * self.length - e"
      ],
      "metadata": {
        "id": "bNM3NH1rlKXB"
      },
      "execution_count": null,
      "outputs": []
    },
    {
      "cell_type": "markdown",
      "source": [
        "# Дополнение, оно же расширение, метода"
      ],
      "metadata": {
        "id": "Wy8dTEiiZwnF"
      }
    },
    {
      "cell_type": "markdown",
      "source": [
        "Если посмотреть на вычисление площади, то часть кода надкласса дублируется в подклассе. Этого можно избежат, если вызывать родителський метод, а потом дополнить его:"
      ],
      "metadata": {
        "id": "hqngWJ6oFrGe"
      }
    },
    {
      "cell_type": "code",
      "source": [
        "class ComputerTable(DeskTable):\n",
        "    def square(self, e):\n",
        "        return DeskTable.square(self) - e"
      ],
      "metadata": {
        "id": "pO56kV-glnSR"
      },
      "execution_count": null,
      "outputs": []
    },
    {
      "cell_type": "markdown",
      "source": [
        "Здесь вызывается метод другого класса, а потом дополняется своими выражениями. В данном случае вычитанием."
      ],
      "metadata": {
        "id": "E7SzzfmHawu_"
      }
    },
    {
      "cell_type": "markdown",
      "source": [
        "Рассмотрим другой пример. Допустим, в классе KitchenTable нам не нужен метод, поле places должно устанавливаться при создании объекта в конструкторе. В классе можно создать собственный конструктор с чистого листа, чем переопределить родительский:"
      ],
      "metadata": {
        "id": "BrPemCdHa9W9"
      }
    },
    {
      "cell_type": "code",
      "source": [
        "class KitchenTable(Table):\n",
        "    def __init__(self, l, w, h, p):\n",
        "        self.length = l\n",
        "        self.wigth = w\n",
        "        self.heigt = h\n",
        "        self.places = p"
      ],
      "metadata": {
        "id": "4Z4MW_xqmXEc"
      },
      "execution_count": null,
      "outputs": []
    },
    {
      "cell_type": "markdown",
      "source": [
        "Однако это не лучший способ, если дублируется почти весь конструктор надкласса. Проще вызвать родителський конструктор, после чего дополнить своим кодом:"
      ],
      "metadata": {
        "id": "MAaVQmiSbU0o"
      }
    },
    {
      "cell_type": "code",
      "source": [
        "class KitchenTable(Table):\n",
        "    def __init__(self, l, w, h, p):\n",
        "        Table.__init__(self, l, w, h)\n",
        "        self.places = p"
      ],
      "metadata": {
        "id": "7HO9XkrYmxSb"
      },
      "execution_count": null,
      "outputs": []
    },
    {
      "cell_type": "markdown",
      "source": [
        "Теперь при создании объекта типа KitchenTable надо указывать в конструкторе четыре аргумента. Три из них будут переданы выше по лестнице наследования, а четвертый оприходован на месте. "
      ],
      "metadata": {
        "id": "-wWi0zzPbnIz"
      }
    },
    {
      "cell_type": "code",
      "source": [
        "tk = KitchenTable(2, 1.5, 0.7, 10)\n",
        "print(tk.places)\n",
        "print(tk.width)"
      ],
      "metadata": {
        "colab": {
          "base_uri": "https://localhost:8080/"
        },
        "id": "dt-fkpCcnJhv",
        "outputId": "7ad6558f-b232-4ecf-fe3d-5de71eb62329"
      },
      "execution_count": null,
      "outputs": [
        {
          "output_type": "stream",
          "name": "stdout",
          "text": [
            "10\n",
            "1.5\n"
          ]
        }
      ]
    },
    {
      "cell_type": "markdown",
      "source": [
        "**Практическая работа**\n",
        "\n",
        "4-2 Разработайте программу по следующему описанию.\n",
        "\n",
        "\n",
        "\n",
        "*   В некоторой игре-стратегии есть солдаты и герои. У всех есть свойство, содержащее уникальный номер объекта, и свойство, в котором хранится принадлежность команде. У солдат есть метод \"иду за героем\", который в качестве аргумента принмает объект типа \"герой\". У героев есть метод увеличения собственного уровня.\n",
        "*   В основной ветке программы создается по одному терою для каждой команды. В цикле генерируются объекты-солдаты. Их принадлежность команде определяется случайно. Солдаты разных команд добавляются в разные списки.\n",
        "*   Измеряется длина списков солдат противоборствующих команд и выводится на экран. У героя, принадлежащего команде с более длинным списком, поднимается уровень. \n",
        "*   Отправьте одного из солдат первого героя следовать за ним. Выведите на экран идентификационные номера этих двух юнитов.\n",
        "\n",
        "\n",
        "\n"
      ],
      "metadata": {
        "id": "3e2oIY_snXrF"
      }
    },
    {
      "cell_type": "code",
      "source": [
        "from random import randint\n",
        "\n",
        "class Person:\n",
        "    count = 0\n",
        "    def __init__(self, c):\n",
        "        self.id = Person.count\n",
        "        Person.count += 1\n",
        "        self.command = c\n",
        "\n",
        "class Hero(Person):\n",
        "    def __init__(self, c):\n",
        "        Person.__init__(self, c)\n",
        "        self.level = 1\n",
        "    def uplevel(self):\n",
        "        self.level += 1\n",
        "\n",
        "class Soldier(Person):\n",
        "    def __init__(self, c):\n",
        "        Person.__init__(self, c)\n",
        "        self.my_hero = None\n",
        "    def follow(self, hero):\n",
        "        self.my_hero = hero.id\n"
      ],
      "metadata": {
        "id": "XKDQAywonX43"
      },
      "execution_count": null,
      "outputs": []
    },
    {
      "cell_type": "code",
      "source": [
        "h1 = Hero(1)\n",
        "h2 = Hero(2)\n",
        "army1 = []\n",
        "army2 = []\n",
        "for i in range(20):\n",
        "    n = randint(1, 2)\n",
        "    if n == 1:\n",
        "        army1.append(Soldier(n))\n",
        "    else:\n",
        "        army2.append(Soldier(n))\n",
        "print(len(army1), len(army2))\n"
      ],
      "metadata": {
        "colab": {
          "base_uri": "https://localhost:8080/"
        },
        "id": "mPlJmWmUpsFv",
        "outputId": "279a3c04-bd55-468c-e63f-d8a951b8dbe5"
      },
      "execution_count": null,
      "outputs": [
        {
          "output_type": "stream",
          "name": "stdout",
          "text": [
            "11 9\n"
          ]
        }
      ]
    },
    {
      "cell_type": "code",
      "source": [
        "if len(army1) > len(army2):\n",
        "    h1.uplevel()\n",
        "else:\n",
        "    h2.uplevel()\n",
        "\n",
        "army1[0].follow(h1)\n",
        "print(army1[0].id, h1.id)"
      ],
      "metadata": {
        "colab": {
          "base_uri": "https://localhost:8080/"
        },
        "id": "38SUU6XOrNZ8",
        "outputId": "36b76d3d-1cdb-4b7a-b7f0-24275a693f07"
      },
      "execution_count": null,
      "outputs": [
        {
          "output_type": "stream",
          "name": "stdout",
          "text": [
            "69 66\n"
          ]
        }
      ]
    }
  ]
}