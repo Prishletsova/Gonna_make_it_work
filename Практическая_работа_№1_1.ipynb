{
  "nbformat": 4,
  "nbformat_minor": 0,
  "metadata": {
    "colab": {
      "provenance": [],
      "authorship_tag": "ABX9TyOot+JS8AggWk0K2JhbJJDr",
      "include_colab_link": true
    },
    "kernelspec": {
      "name": "python3",
      "display_name": "Python 3"
    },
    "language_info": {
      "name": "python"
    }
  },
  "cells": [
    {
      "cell_type": "markdown",
      "metadata": {
        "id": "view-in-github",
        "colab_type": "text"
      },
      "source": [
        "<a href=\"https://colab.research.google.com/github/Prishletsova/Gonna_make_it_work/blob/main/%D0%9F%D1%80%D0%B0%D0%BA%D1%82%D0%B8%D1%87%D0%B5%D1%81%D0%BA%D0%B0%D1%8F_%D1%80%D0%B0%D0%B1%D0%BE%D1%82%D0%B0_%E2%84%961_1.ipynb\" target=\"_parent\"><img src=\"https://colab.research.google.com/assets/colab-badge.svg\" alt=\"Open In Colab\"/></a>"
      ]
    },
    {
      "cell_type": "code",
      "source": [
        "class A:\n",
        "    __a = int()\n",
        "    __b = int()\n",
        "\n",
        "    def __init__(self, __a, __b):\n",
        "        self.a = __a\n",
        "        self.b = __b\n",
        "\n",
        "    def perv(self):\n",
        "        self.a *= self.b\n",
        "        c = self.a\n",
        "        self.a //= self.b\n",
        "        return c\n",
        "\n",
        "    def vtor(self):\n",
        "        self.a += 1\n",
        "        self.b += 1\n",
        "        return f\"a = {self.a}, b = {self.b}\"\n",
        "\n",
        "    def tret(self):\n",
        "        c = self.a - self.b\n",
        "        return c\n"
      ],
      "metadata": {
        "id": "NBAJufGuwPvp"
      },
      "execution_count": 23,
      "outputs": []
    },
    {
      "cell_type": "code",
      "source": [
        "class Program():\n",
        "        c = A(2, 20)\n",
        "        print(c.perv())\n",
        "        print(c.vtor())\n",
        "        print(c.tret())\n",
        "\n",
        "if __name__ == \"__main__\":\n",
        "    pass\n"
      ],
      "metadata": {
        "id": "3y5J13ZwzmXd",
        "colab": {
          "base_uri": "https://localhost:8080/"
        },
        "outputId": "2bc2efe2-44fd-4a92-c2cb-3abac7491f42"
      },
      "execution_count": 24,
      "outputs": [
        {
          "output_type": "stream",
          "name": "stdout",
          "text": [
            "40\n",
            "a = 3, b = 21\n",
            "-18\n"
          ]
        }
      ]
    }
  ]
}