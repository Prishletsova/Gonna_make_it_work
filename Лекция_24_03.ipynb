{
  "nbformat": 4,
  "nbformat_minor": 0,
  "metadata": {
    "colab": {
      "provenance": [],
      "authorship_tag": "ABX9TyNqMmZ5nS7GwURCgBMTLDv4",
      "include_colab_link": true
    },
    "kernelspec": {
      "name": "python3",
      "display_name": "Python 3"
    },
    "language_info": {
      "name": "python"
    }
  },
  "cells": [
    {
      "cell_type": "markdown",
      "metadata": {
        "id": "view-in-github",
        "colab_type": "text"
      },
      "source": [
        "<a href=\"https://colab.research.google.com/github/Prishletsova/Gonna_make_it_work/blob/main/%D0%9B%D0%B5%D0%BA%D1%86%D0%B8%D1%8F_24_03.ipynb\" target=\"_parent\"><img src=\"https://colab.research.google.com/assets/colab-badge.svg\" alt=\"Open In Colab\"/></a>"
      ]
    },
    {
      "cell_type": "markdown",
      "source": [
        "# Переопределение и перегрузка методов "
      ],
      "metadata": {
        "id": "dwYlaOkSgrdv"
      }
    },
    {
      "cell_type": "markdown",
      "source": [
        "Переопределение метода (overriding) - прием в ООП, позволяющий классам-потомкам реализовать новое поведение метода, определеннеого в родительском классе. \n",
        "\n",
        "Перезагрузка метода (overloading) - определение метода с тем же именем, но оличающегося в сигнатуре (т.е. принимающего или возвращающего значения различных типов, имеющего отличающееся число параметров и т.п.)\n",
        "\n",
        "В Python отсутсвует возможность явной перезагрузки метода.\n",
        "\n",
        "Определение метода в классе-потомке с тем же именем, что и в родительском классе, его переопределяет (независимо от состава парамтеров)"
      ],
      "metadata": {
        "id": "tIHQ1nRglt9A"
      }
    },
    {
      "cell_type": "markdown",
      "source": [
        "Переопределние. Пример"
      ],
      "metadata": {
        "id": "uyD2KwCLgyKs"
      }
    },
    {
      "cell_type": "code",
      "execution_count": null,
      "metadata": {
        "colab": {
          "base_uri": "https://localhost:8080/"
        },
        "id": "wXA4QSIagoAU",
        "outputId": "e18d3b8a-dbb1-4dc0-8c5c-bb4290439d84"
      },
      "outputs": [
        {
          "output_type": "stream",
          "name": "stdout",
          "text": [
            "Hello!\n",
            "Hello,word!\n"
          ]
        }
      ],
      "source": [
        "class A:\n",
        "    def f(self, x):\n",
        "        print(x)\n",
        "\n",
        "class B(A):\n",
        "    def f(self, x, y):\n",
        "        print(x + y)\n",
        "\n",
        "\n",
        "a = A()\n",
        "a.f('Hello!')\n",
        "b = B()\n",
        "b.f('Hello,', 'word!')"
      ]
    },
    {
      "cell_type": "markdown",
      "source": [
        "# Виртуальные методы"
      ],
      "metadata": {
        "id": "OQXio5SE2FB4"
      }
    },
    {
      "cell_type": "markdown",
      "source": [
        "Все методы в Python, за исключением приватных методов, являются виртуальными."
      ],
      "metadata": {
        "id": "SXwui3b32Kvb"
      }
    },
    {
      "cell_type": "code",
      "source": [
        "class A:\n",
        "    def f(self):\n",
        "        return 2\n",
        "    def f_sq(self):\n",
        "        return self.f()**2\n",
        "\n",
        "class B(A):\n",
        "    def f(self):\n",
        "        return 5\n",
        "\n",
        "a = A()\n",
        "a.f_sq()\n",
        "b = B()\n",
        "b.f_sq()"
      ],
      "metadata": {
        "colab": {
          "base_uri": "https://localhost:8080/"
        },
        "id": "TPeQ8wFm2rpl",
        "outputId": "c970e535-1544-403a-e986-93acbdf73446"
      },
      "execution_count": null,
      "outputs": [
        {
          "output_type": "execute_result",
          "data": {
            "text/plain": [
              "25"
            ]
          },
          "metadata": {},
          "execution_count": 3
        }
      ]
    },
    {
      "cell_type": "code",
      "source": [
        "class A:\n",
        "    def __f(self):\n",
        "        return 2\n",
        "    def f_sq(self):\n",
        "        return self.__f()**2\n",
        "\n",
        "class B(A):\n",
        "    def __f(self):\n",
        "        return 5\n",
        "\n",
        "a = A()\n",
        "a.f_sq()\n",
        "b = B()\n",
        "b.f_sq()\n",
        "\n",
        "# Переопредленный приватный метод __f потомка не используется при вызовах\n",
        "# методов родительского класса"
      ],
      "metadata": {
        "colab": {
          "base_uri": "https://localhost:8080/"
        },
        "id": "6ZNPBOUQgz_3",
        "outputId": "70077c8e-2460-4b5c-bbfd-2ebd0e755fa8"
      },
      "execution_count": null,
      "outputs": [
        {
          "output_type": "execute_result",
          "data": {
            "text/plain": [
              "4"
            ]
          },
          "metadata": {},
          "execution_count": 4
        }
      ]
    },
    {
      "cell_type": "markdown",
      "source": [
        "# Наследование от встроенных классов"
      ],
      "metadata": {
        "id": "LhtpTQZfg0Nc"
      }
    },
    {
      "cell_type": "markdown",
      "source": [
        "Большинство встроенных классов (built-in classes) реализованы на языке C. Их методы не могут вызывать методы, переопределенные в потомках. "
      ],
      "metadata": {
        "id": "e9T84S15odkf"
      }
    },
    {
      "cell_type": "code",
      "source": [
        "class Mydict(dict):\n",
        "    def __setitem__(self, key, value):\n",
        "        super().__setitem__(key, [value]*2)\n",
        "\n",
        "a = Mydict(key1 = 1)  # {'key1' : 1}\n",
        "a['key2'] = 2  # {'key1' : 1, 'key2' : [2, 2]}\n",
        "\n",
        "# insert new key via update()\n",
        "\n",
        "a.update(key3 = 3)\n",
        "\n",
        "# {'ket1' : 1, 'key2' : [2, 2], 'key3' : 3}\n",
        "# update() use buit-in implementation of __setitem__"
      ],
      "metadata": {
        "id": "nIrlTZvZg0bo"
      },
      "execution_count": null,
      "outputs": []
    },
    {
      "cell_type": "markdown",
      "source": [
        "# Абстрактные классы"
      ],
      "metadata": {
        "id": "Z3ZtgPDgopz7"
      }
    },
    {
      "cell_type": "markdown",
      "source": [
        "abstract classes - классы, которые не предполагают создания экземпляров. В базовом Python абстрактные классы отсутсвуют, при обращении к чисто виртуальным методам (pure virtual) рекомендуется выбрасывать исключение. "
      ],
      "metadata": {
        "id": "M27SYgK8ptM7"
      }
    },
    {
      "cell_type": "code",
      "source": [
        "class Base(object):\n",
        "    def virtualMethod(self):\n",
        "        raise NotImplementedError()\n",
        "    def usesVirtualMethod(self):\n",
        "        return self.virtualMethod() + 1\n",
        "\n",
        "class Derived(Base):\n",
        "    def virtualMethod(self):\n",
        "        return 1\n",
        "\n",
        "# Base().usesVirtualMethod()\n",
        "Derived().usesVirtualMethod()"
      ],
      "metadata": {
        "colab": {
          "base_uri": "https://localhost:8080/"
        },
        "id": "_E6aUBspoqe5",
        "outputId": "822d6e2a-4cd4-42cc-ea57-bd67016a1953"
      },
      "execution_count": null,
      "outputs": [
        {
          "output_type": "execute_result",
          "data": {
            "text/plain": [
              "2"
            ]
          },
          "metadata": {},
          "execution_count": 8
        }
      ]
    },
    {
      "cell_type": "markdown",
      "source": [
        "# Декоратор @abstractmethod \n",
        "\n",
        "Для объявления абстрактных классов может быть использована библиотека abc (Abstract Base Class)"
      ],
      "metadata": {
        "id": "3RrM1-3np3Yd"
      }
    },
    {
      "cell_type": "code",
      "source": [
        "from abc import ABC, abstractmethod\n",
        "class MyAbstract(ABC):\n",
        "    @abstractmethod\n",
        "    def foo(self):\n",
        "        pass\n",
        "\n",
        "class MyClass(MyAbstract):\n",
        "      def foo(self):\n",
        "          print('Hello, word!')\n",
        "\n",
        "# a = MyAbstract()\n",
        "a = MyClass()"
      ],
      "metadata": {
        "id": "XS9jL2Y2p86B"
      },
      "execution_count": null,
      "outputs": []
    },
    {
      "cell_type": "markdown",
      "source": [
        "# Множественное наследование\n",
        "\n",
        "При множественном наследовании (multiple inheritance) класс-потомок наследуется более чем от одного родительского класса."
      ],
      "metadata": {
        "id": "N-ukViUqq0wP"
      }
    },
    {
      "cell_type": "code",
      "source": [
        "class A:\n",
        "    def m(self):\n",
        "        print(\"In A\")\n",
        "class B(A):\n",
        "    def m(self):\n",
        "        print(\"In B\")\n",
        "class C(A):\n",
        "    def m(self):\n",
        "        print(\"In C\")\n",
        "class D(B, C):\n",
        "    pass\n",
        "\n",
        "d = D()\n",
        "d.m()\n"
      ],
      "metadata": {
        "colab": {
          "base_uri": "https://localhost:8080/"
        },
        "id": "eI_lxKbjq1FY",
        "outputId": "4bbd25ab-9fad-4f53-f2c3-dec8f04a28f1"
      },
      "execution_count": null,
      "outputs": [
        {
          "output_type": "stream",
          "name": "stdout",
          "text": [
            "In B\n"
          ]
        }
      ]
    },
    {
      "cell_type": "markdown",
      "source": [
        "# Полиморфизм"
      ],
      "metadata": {
        "id": "kg0I0d2erOd7"
      }
    },
    {
      "cell_type": "markdown",
      "source": [
        "Полиморфизм в объектно-ориенторванном программировании - это возможность обработки разных типов данных, т.е. принадлежащих к разным классам, с помощью \"одной и той же\" функции или метода.\n",
        "\n",
        "На самом деле одинаковым является только имя метода, его исходный код зависит от класса. Кроме того, результаты работы одноименных методов могут существенно различаться. Поэтому в данном контексте под полиморфизмом понимается множество форм одного и того же слова - имени метода. "
      ],
      "metadata": {
        "id": "xzqw8rSerQ1z"
      }
    },
    {
      "cell_type": "markdown",
      "source": [
        "Например, два разных класса содержат метод total, однако инструкции каждого предусматривают совершенно разные операции. Так в классе T1 - это прибавление 10 к аргументу, в Т2 - подсчет длины строки символов. В зависимости от того, к объекту какого класса применяется метод total, выполняются те или иные инструкции."
      ],
      "metadata": {
        "id": "y3XYurfM810n"
      }
    },
    {
      "cell_type": "code",
      "source": [
        "class T1:\n",
        "    n = 10\n",
        "    def total(self, N):\n",
        "        self.total = int(self.n) + int(N)\n",
        "\n",
        "class T2:\n",
        "    def total(self, s):\n",
        "        self.total = len(str(s))\n",
        "\n",
        "t1 = T1()\n",
        "t2 = T2()\n",
        "t1.total(45)\n",
        "t2.total(45)\n",
        "print(t1.total)\n",
        "print(t2.total)"
      ],
      "metadata": {
        "colab": {
          "base_uri": "https://localhost:8080/"
        },
        "id": "CJK6AKl4rRCi",
        "outputId": "c07c535f-ec3d-4d3f-beb0-90c3ca189405"
      },
      "execution_count": null,
      "outputs": [
        {
          "output_type": "stream",
          "name": "stdout",
          "text": [
            "55\n",
            "2\n"
          ]
        }
      ]
    },
    {
      "cell_type": "markdown",
      "source": [
        "Полиморфизм дает возможность реализовывать так называемые единые инетрфейсы для объектов различных классов. Например, разные классы могут предусматривать различный способ вывода той или иной информации объектов. Однако одинаковое название метода вывода позволит не запутать программу, сделать код более ясным. \n",
        "\n",
        "В Python среди прочего полиморфизм находит отражение в методах перегрузки операторов. Два из них мы уже рассмотрели. Это __init__() и __del__(), которые вызываются при создании объекта и его удалении. Полиморфизм у методов перегрузки операторов проявляется в том, что независимо от типа объекта, его участие в определенной операции, вызывает метод с конкретным именем. В случае __init__() операцией является создание объекта."
      ],
      "metadata": {
        "id": "Hm8SPOY0-L1d"
      }
    },
    {
      "cell_type": "markdown",
      "source": [
        "# Практическая работа 4-3"
      ],
      "metadata": {
        "id": "c00vjMkasqpk"
      }
    },
    {
      "cell_type": "code",
      "source": [
        "class Rectangle:\n",
        "    def __init__(self, width, height, sign):\n",
        "        self.w = int(width)\n",
        "        self.h = int(height)\n",
        "        self.s = str(sign)\n",
        "    def __str__(self):\n",
        "        rect = []\n",
        "        for i in range(self.h):\n",
        "          rect.append(self.s * self.w)\n",
        "        rect = '\\n'.join(rect)\n",
        "        return rect\n",
        "    def __add__(self, other):\n",
        "        return Rectangle(self.w + other.w, self.h + other.h, self.s)\n",
        "\n",
        "a = Rectangle(4, 2, 'w')\n",
        "print(a)\n",
        "b = Rectangle(8, 3, 'z')\n",
        "print(b)\n",
        "print(a + b)\n",
        "print(b + a)"
      ],
      "metadata": {
        "colab": {
          "base_uri": "https://localhost:8080/"
        },
        "id": "_6kFmPQfsvOv",
        "outputId": "79ba6b03-648d-4740-b10a-6a6b19b9cacb"
      },
      "execution_count": null,
      "outputs": [
        {
          "output_type": "stream",
          "name": "stdout",
          "text": [
            "wwww\n",
            "wwww\n",
            "zzzzzzzz\n",
            "zzzzzzzz\n",
            "zzzzzzzz\n",
            "wwwwwwwwwwww\n",
            "wwwwwwwwwwww\n",
            "wwwwwwwwwwww\n",
            "wwwwwwwwwwww\n",
            "wwwwwwwwwwww\n",
            "zzzzzzzzzzzz\n",
            "zzzzzzzzzzzz\n",
            "zzzzzzzzzzzz\n",
            "zzzzzzzzzzzz\n",
            "zzzzzzzzzzzz\n"
          ]
        }
      ]
    },
    {
      "cell_type": "markdown",
      "source": [
        "# Индивидуальное задание"
      ],
      "metadata": {
        "id": "GQA8DzWevmgF"
      }
    },
    {
      "cell_type": "code",
      "source": [
        "class State:\n",
        "  def __init__(self, n, s, q):\n",
        "      self.name = n\n",
        "      self.square = s\n",
        "      self.quantity = q\n",
        "\n",
        "class Republic(State):\n",
        "    def __init__(self, n, s, q):\n",
        "        State.__init__(self, n, s, q)\n",
        "\n",
        "class Monarchy(State):\n",
        "\n",
        "\n",
        "class Kingdom(Monarchy):\n",
        "\n"
      ],
      "metadata": {
        "id": "Yn85ySIKvmFv"
      },
      "execution_count": null,
      "outputs": []
    }
  ]
}