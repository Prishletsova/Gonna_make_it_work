{
  "nbformat": 4,
  "nbformat_minor": 0,
  "metadata": {
    "colab": {
      "provenance": [],
      "authorship_tag": "ABX9TyOtdVpdzqCnd6jQLYL2trdY",
      "include_colab_link": true
    },
    "kernelspec": {
      "name": "python3",
      "display_name": "Python 3"
    },
    "language_info": {
      "name": "python"
    }
  },
  "cells": [
    {
      "cell_type": "markdown",
      "metadata": {
        "id": "view-in-github",
        "colab_type": "text"
      },
      "source": [
        "<a href=\"https://colab.research.google.com/github/Prishletsova/Gonna_make_it_work/blob/main/%D0%9B%D0%B5%D0%BA%D1%86%D0%B8%D1%8F_21_04.ipynb\" target=\"_parent\"><img src=\"https://colab.research.google.com/assets/colab-badge.svg\" alt=\"Open In Colab\"/></a>"
      ]
    },
    {
      "cell_type": "markdown",
      "source": [
        "# Декоратор"
      ],
      "metadata": {
        "id": "OefAiJgKtu-W"
      }
    },
    {
      "cell_type": "markdown",
      "source": [
        "Функции в Python'e являются объектами, а значит:\n",
        "\n",
        "\n",
        "*   могут быть связаны с переменной;\n",
        "*   могут быть определены одна в другой.\n",
        "\n"
      ],
      "metadata": {
        "id": "t1U8Ppa4vPrL"
      }
    },
    {
      "cell_type": "markdown",
      "source": [
        "# Декорирование методов"
      ],
      "metadata": {
        "id": "j2X0C_hLzruW"
      }
    },
    {
      "cell_type": "markdown",
      "source": [
        "Функции и методы в Python'e - это практически одно и то же, за исключением того, что методы всегда ожидают первым параметром ссылку на сам объект (self).\n",
        "\n",
        "Это значит, что мы можем создавать декораторы для методов так же, как и функций, просто не забывая про self."
      ],
      "metadata": {
        "id": "66qlPyynmeAL"
      }
    },
    {
      "cell_type": "code",
      "execution_count": null,
      "metadata": {
        "colab": {
          "base_uri": "https://localhost:8080/"
        },
        "id": "3WKW5341tpGp",
        "outputId": "1ddf0644-278f-4851-ae3d-a21e05a982c8"
      },
      "outputs": [
        {
          "output_type": "stream",
          "name": "stdout",
          "text": [
            "Мне 26, а ты бы сколько дал?\n"
          ]
        }
      ],
      "source": [
        "def method_friendly_decorator(method_to_decorate):\n",
        "    def wrapper(self, lie):\n",
        "        lie = lie - 3\n",
        "        return method_to_decorate(self, lie)\n",
        "    return wrapper\n",
        "\n",
        "class Lucy(object):\n",
        "    def __init__(self):\n",
        "        self.age = 32\n",
        "    @method_friendly_decorator\n",
        "    def say_your_age(self, lie):\n",
        "        print('Мне %s, а ты бы сколько дал?' % (self.age + lie))\n",
        "\n",
        "l = Lucy()\n",
        "l.say_your_age(-3)\n"
      ]
    },
    {
      "cell_type": "markdown",
      "source": [
        "Если создавать общий декоратор, чтобы его можно было применить к любой функции или методу, то стоит воспользоваться тем, что:\n",
        "\n",
        "\n",
        "*   *args распаковывает список args\n",
        "*   **kwargs распаковывает словарь kwargs\n",
        "\n"
      ],
      "metadata": {
        "id": "4Al7Oxgcn0Zd"
      }
    },
    {
      "cell_type": "markdown",
      "source": [
        "# Декораторы классов"
      ],
      "metadata": {
        "id": "ymTK1vkc2GgW"
      }
    },
    {
      "cell_type": "markdown",
      "source": [
        "**Согласно модели данных Python, язык предлагает три вида методов:**\n",
        "\n",
        "Метод экземпляра класса\n",
        "\n",
        "Метод класса\n",
        "\n",
        "Статический метод"
      ],
      "metadata": {
        "id": "lbAVVjrC2PU7"
      }
    },
    {
      "cell_type": "code",
      "source": [
        "class ToyClass:\n",
        "    def instancemethod(self):\n",
        "        return 'instance method called', self\n",
        "\n",
        "    @classmethod\n",
        "    def classmethod(cls):\n",
        "        return 'class method called', cls\n",
        "\n",
        "    @staticmethod\n",
        "    def staticmethod():\n",
        "        return 'static method called'"
      ],
      "metadata": {
        "id": "bDFS9G1x2I92"
      },
      "execution_count": null,
      "outputs": []
    },
    {
      "cell_type": "markdown",
      "source": [
        "**Методы экземпляра класса**\n",
        "\n",
        "\n",
        "\n",
        "*   Методы экземпляра класса принимают объект класса как первый аргумент, который принято называть self и который указывает на сам экземпляр. Количество параметров метода не ограничено.  \n",
        "*   Используя параметр self, мы можем менять состояние объекта и обращаться к другим его методам и параметрам. К тому же, используя атрибут self.class, мы получаем доступ к атрибутам класса и возможности менять состояние самого класса. То есть методы экземпляров класса позволяют менять как состояние определенного объекта, так и класса.\n",
        "\n"
      ],
      "metadata": {
        "id": "TAQxQlsnpY0m"
      }
    },
    {
      "cell_type": "markdown",
      "source": [
        "**Статистические методы**\n",
        "\n",
        "Статистические методы декларируются при помощи декоратора staticmethod. \n",
        "Им не нужен определенный первый аргумент (ни self, ни cls).\n",
        "\n",
        "Их можно воспринимать как методы, которые \"не знают, к какому методу относятся\". Таким образом, статистические методы прикреплены к классу лишь для удобства и не могут менять"
      ],
      "metadata": {
        "id": "0kDGihMZi-VY"
      }
    },
    {
      "cell_type": "markdown",
      "source": [
        "Когда и какой метод стоит использоватьь"
      ],
      "metadata": {
        "id": "j70LFN5a3mY3"
      }
    },
    {
      "cell_type": "code",
      "source": [
        "from datetime import date\n",
        "\n",
        "class Person:\n",
        "    def __init__(self, name, age):\n",
        "        self.name = name\n",
        "        self.age = age\n",
        "\n",
        "    @classmethod\n",
        "    def from_birth_year(cls, name, year):\n",
        "        return cls(name, date.today().year - year)\n",
        "\n",
        "    @staticmethod\n",
        "    def is_adult(age):\n",
        "        return age > 18"
      ],
      "metadata": {
        "id": "GGBQnfwb3rCq"
      },
      "execution_count": null,
      "outputs": []
    },
    {
      "cell_type": "code",
      "source": [
        "person1 = Person('Sarah', 25)\n",
        "person2 = Person.from_birth_year('Roark', 1994)"
      ],
      "metadata": {
        "id": "xtQAOzcy4-dN"
      },
      "execution_count": null,
      "outputs": []
    },
    {
      "cell_type": "code",
      "source": [
        "person1.name, person1.age"
      ],
      "metadata": {
        "colab": {
          "base_uri": "https://localhost:8080/"
        },
        "id": "cOuCI-pe5LmA",
        "outputId": "ac84a388-59f3-44bc-ca61-21545b19d6bc"
      },
      "execution_count": null,
      "outputs": [
        {
          "output_type": "execute_result",
          "data": {
            "text/plain": [
              "('Sarah', 25)"
            ]
          },
          "metadata": {},
          "execution_count": 5
        }
      ]
    },
    {
      "cell_type": "code",
      "source": [
        "person2.name, person2.age"
      ],
      "metadata": {
        "colab": {
          "base_uri": "https://localhost:8080/"
        },
        "id": "juaxbdo85RzP",
        "outputId": "9f34bec3-a4b6-40d7-d9bd-5095d0a492f0"
      },
      "execution_count": null,
      "outputs": [
        {
          "output_type": "execute_result",
          "data": {
            "text/plain": [
              "('Roark', 29)"
            ]
          },
          "metadata": {},
          "execution_count": 6
        }
      ]
    },
    {
      "cell_type": "code",
      "source": [
        "Person.is_adult(25)"
      ],
      "metadata": {
        "colab": {
          "base_uri": "https://localhost:8080/"
        },
        "id": "kmEi0fs85dsF",
        "outputId": "8316e125-b7b2-4635-ecc7-e5e8b12ffbe2"
      },
      "execution_count": null,
      "outputs": [
        {
          "output_type": "execute_result",
          "data": {
            "text/plain": [
              "True"
            ]
          },
          "metadata": {},
          "execution_count": 7
        }
      ]
    },
    {
      "cell_type": "markdown",
      "source": [
        "# Пример 1"
      ],
      "metadata": {
        "id": "xPlonZme6VoA"
      }
    },
    {
      "cell_type": "code",
      "source": [
        "from math import pi\n",
        "class Cylinder:\n",
        "    @staticmethod\n",
        "    def make_area(d, h):\n",
        "        circle = pi *d ** 2 / 4\n",
        "        side = pi * d * h\n",
        "        return round(circle*2 + side, 2)\n",
        "    def __init__(self, diameter, high):\n",
        "        self.dia = diameter\n",
        "        self.h = high\n",
        "        self.area = self.make_area(diameter, high)\n",
        "\n",
        "a = Cylinder(1, 2)\n",
        "print(a.area)\n",
        "print(a.make_area(2, 2))"
      ],
      "metadata": {
        "colab": {
          "base_uri": "https://localhost:8080/"
        },
        "id": "oaR-xyUd6XRd",
        "outputId": "7500e656-289b-472c-ca3a-76a8430fd8c6"
      },
      "execution_count": null,
      "outputs": [
        {
          "output_type": "stream",
          "name": "stdout",
          "text": [
            "7.85\n",
            "18.85\n"
          ]
        }
      ]
    },
    {
      "cell_type": "markdown",
      "source": [
        "# Задача 1"
      ],
      "metadata": {
        "id": "Ev3E42KU7Xue"
      }
    },
    {
      "cell_type": "code",
      "source": [
        "from abc import ABC, abstractmethod\n",
        "class Hero:\n",
        "    def __init__(self):\n",
        "        self.positive_effects = []\n",
        "        self.negative_effects = []\n",
        "        self.stats = {\n",
        "            \"HP\": 128,\n",
        "            \"MP\": 42, \n",
        "            \"SP\": 100,\n",
        "            \"Strength\": 15, \n",
        "            \"Perception\": 4,\n",
        "            \"Endurance\": 8,\n",
        "            \"Charisma\": 2,\n",
        "            \"Intelligence\": 3, \n",
        "            \"Agility\": 8,\n",
        "            \"Luck\": 1\n",
        "        }\n",
        "        \n",
        "    def get_positive_effects(self):\n",
        "        return self.positive_effects.copy()\n",
        "\n",
        "    def get_negative_effects(self):\n",
        "        return self.negative_effects.copy()\n",
        "\n",
        "    def get_stats(self):\n",
        "        return self.stats.copy()"
      ],
      "metadata": {
        "id": "0gytgSi57ZrE"
      },
      "execution_count": null,
      "outputs": []
    },
    {
      "cell_type": "code",
      "source": [
        "class AbstractEffect(Hero, ABC):\n",
        "    def __init__(self, base):\n",
        "        self.base = base\n",
        "\n",
        "    @abstractmethod\n",
        "    def get_positive_effects(self):\n",
        "        return self.positive_effects\n",
        "\n",
        "    @abstractmethod\n",
        "    def get_negative_effects(self):\n",
        "        return self.negative_effects\n",
        "\n",
        "    @abstractmethod\n",
        "    def get_stats(self):\n",
        "        pass\n",
        "\n",
        "\n",
        "class AbstractPositive(AbstractEffect):\n",
        "    def get_negative_effects(self):\n",
        "        return self.base.get_negative_effects()\n",
        "\n",
        "\n",
        "class AbstractNegative(AbstractEffect):\n",
        "    def get_positive_effects(self):\n",
        "        return self.base.get_positive_effects()\n",
        "\n",
        "\n",
        "class Berserk(AbstractPositive):\n",
        "    def get_stats(self):\n",
        "        stats = self.base.get_stats()\n",
        "        stats[\"HP\"] += 50\n",
        "        stats[\"Strength\"] += 7\n",
        "        stats[\"Endurance\"] += 7\n",
        "        stats[\"Agility\"] += 7\n",
        "        stats[\"Luck\"] += 7\n",
        "        stats[\"Perception\"] -= 3\n",
        "        stats[\"Charisma\"] -= 3\n",
        "        stats[\"Intelligence\"] -= 3\n",
        "        return stats\n",
        "\n",
        "    def get_positive_effects(self):\n",
        "        return self.base.get_positive_effects() + [\"Berserk\"]"
      ],
      "metadata": {
        "id": "kc2CXWLfh9LN"
      },
      "execution_count": null,
      "outputs": []
    }
  ]
}