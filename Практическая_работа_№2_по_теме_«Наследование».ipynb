{
  "nbformat": 4,
  "nbformat_minor": 0,
  "metadata": {
    "colab": {
      "provenance": [],
      "authorship_tag": "ABX9TyOKw3hvsFeGJ68vvidvOiU2",
      "include_colab_link": true
    },
    "kernelspec": {
      "name": "python3",
      "display_name": "Python 3"
    },
    "language_info": {
      "name": "python"
    }
  },
  "cells": [
    {
      "cell_type": "markdown",
      "metadata": {
        "id": "view-in-github",
        "colab_type": "text"
      },
      "source": [
        "<a href=\"https://colab.research.google.com/github/Prishletsova/Gonna_make_it_work/blob/main/%D0%9F%D1%80%D0%B0%D0%BA%D1%82%D0%B8%D1%87%D0%B5%D1%81%D0%BA%D0%B0%D1%8F_%D1%80%D0%B0%D0%B1%D0%BE%D1%82%D0%B0_%E2%84%962_%D0%BF%D0%BE_%D1%82%D0%B5%D0%BC%D0%B5_%C2%AB%D0%9D%D0%B0%D1%81%D0%BB%D0%B5%D0%B4%D0%BE%D0%B2%D0%B0%D0%BD%D0%B8%D0%B5%C2%BB.ipynb\" target=\"_parent\"><img src=\"https://colab.research.google.com/assets/colab-badge.svg\" alt=\"Open In Colab\"/></a>"
      ]
    },
    {
      "cell_type": "markdown",
      "source": [
        "# Упражнения для самостоятельного выполнения по теме «Наследование»"
      ],
      "metadata": {
        "id": "3VHJQjFEyHpO"
      }
    },
    {
      "cell_type": "code",
      "source": [
        "class A:\n",
        "    def __init__(self, a, b):\n",
        "        self.a = a\n",
        "        self.b = b\n",
        "\n",
        "class B(A):\n",
        "    def __init__(self, a, b, d):\n",
        "        A.__init__(self, a, b)\n",
        "        self.d = d\n",
        "    def vrem(self):\n",
        "        c1 = ['Самооценка начала увеличиваться.']\n",
        "        while self.d < self.b:\n",
        "            self.d += self.a\n",
        "            c1.append('Увеличивается..')\n",
        "        c1.append('Вы достигли предела своей самооценки! ')\n",
        "        print('\\n'.join(c1))\n",
        "  \n",
        "obj = B(5, 100, 1)\n",
        "obj.vrem()"
      ],
      "metadata": {
        "colab": {
          "base_uri": "https://localhost:8080/"
        },
        "id": "y3QzLFOP-Ez3",
        "outputId": "29653f60-0c9a-42bb-e820-2c0d20f768e2"
      },
      "execution_count": null,
      "outputs": [
        {
          "output_type": "stream",
          "name": "stdout",
          "text": [
            "Самооценка начала увеличиваться.\n",
            "Увеличивается..\n",
            "Увеличивается..\n",
            "Увеличивается..\n",
            "Увеличивается..\n",
            "Увеличивается..\n",
            "Увеличивается..\n",
            "Увеличивается..\n",
            "Увеличивается..\n",
            "Увеличивается..\n",
            "Увеличивается..\n",
            "Увеличивается..\n",
            "Увеличивается..\n",
            "Увеличивается..\n",
            "Увеличивается..\n",
            "Увеличивается..\n",
            "Увеличивается..\n",
            "Увеличивается..\n",
            "Увеличивается..\n",
            "Увеличивается..\n",
            "Увеличивается..\n",
            "Вы достигли предела своей самооценки! \n"
          ]
        }
      ]
    },
    {
      "cell_type": "markdown",
      "source": [
        "# Упражнения для всех вариантов"
      ],
      "metadata": {
        "id": "uo9ycUd7Oe7m"
      }
    },
    {
      "cell_type": "markdown",
      "source": [
        "# №1\n",
        "\n",
        "Создайте класс «зарплата», который вычисляет сумму зарплаты в зависимости\n",
        "от тарифной ставки и числа отработанных дней. Расширьте метод начислением\n",
        "процентов в зависимости от объема продаж."
      ],
      "metadata": {
        "id": "CtYVJH32OgPj"
      }
    },
    {
      "cell_type": "code",
      "source": [
        "class Salary:\n",
        "    def __init__(self, t, o, s):\n",
        "        self.t = t\n",
        "        self.o = o\n",
        "        self.s = s\n",
        "    def calculator(self):\n",
        "        zarpl = self.t * self.o\n",
        "        if self.s >= 50000:\n",
        "            c = zarpl * 0.07\n",
        "            zarpl += c\n",
        "        elif self.s >= 100000:\n",
        "            c = zarpl * 0.1\n",
        "            zarpl += c\n",
        "        elif self.s >= 150000:\n",
        "            c = zarpl * 0.15\n",
        "            zarpl += c\n",
        "        print('--------------------------------------------------------')\n",
        "        print(f'Зарплата сотрудника с учетом премии составляет: {zarpl}')\n",
        "\n",
        "try:\n",
        "    t = int(input(\"Введите тарифную ставку: \"))\n",
        "    o = int(input(\"Введите количество отработанных дней: \"))\n",
        "    if o > 23:\n",
        "        raise ValueError(\"В 2023 году количество отработанных дней\" \\\n",
        "                         \" за месяц не может превышать 23.\")\n",
        "    elif o < 0:\n",
        "        raise ValueError(\"Количество отработанных дней не может\" \\\n",
        "                         \" выражаться в отрицательных числах.\")\n",
        "    elif isinstance(t, int):\n",
        "        pass\n",
        "    else:\n",
        "        raise ValueError(\"Введите целочисленные данные больше нуля.\")\n",
        "    s = int(input(\"Введите объем продаж сотрудника: \"))\n",
        "    if s < 0:\n",
        "        raise ValueError(\"Объем продаж не может\" \\\n",
        "                         \" выражаться в отрицательных числах.\")\n",
        "        \n",
        "    a = Salary(t, o, s)\n",
        "    a.calculator()\n",
        "except ValueError as eh:\n",
        "    print(\"Произошла ошибка!\", eh)\n",
        "except TypeError as em:\n",
        "    print(\"Произошла ошибка!\", em) \n"
      ],
      "metadata": {
        "colab": {
          "base_uri": "https://localhost:8080/"
        },
        "id": "8AhLCheRfsrn",
        "outputId": "636d58ce-39a1-4c3d-d228-f8c866e9fc9c"
      },
      "execution_count": null,
      "outputs": [
        {
          "output_type": "stream",
          "name": "stdout",
          "text": [
            "Введите тарифную ставку: 1500\n",
            "Введите количество отработанных дней: 22\n",
            "Введите объем продаж сотрудника: 0\n",
            "--------------------------------------------------------\n",
            "Зарплата сотрудника с учетом премии составляет: 33000\n"
          ]
        }
      ]
    },
    {
      "cell_type": "markdown",
      "source": [
        "# №2\n",
        "\n",
        "Переопределите метод начисления зарплаты: в случае, если объем продаж в\n",
        "месяц превысил 1 000 000, проценты добавляются к зарплате, в противном\n",
        "случае – вычитаются."
      ],
      "metadata": {
        "id": "6a-J4HybgmO8"
      }
    },
    {
      "cell_type": "code",
      "source": [
        "class Salary:\n",
        "    def __init__(self, t, o, s):\n",
        "        self.t = t\n",
        "        self.o = o\n",
        "        self.s = s\n",
        "    def calculator(self):\n",
        "        zarpl = self.t * self.o\n",
        "        if self.s > 1000000:\n",
        "            c = zarpl * 0.3\n",
        "            zarpl += c\n",
        "        else:\n",
        "            c = zarpl * 0.2\n",
        "            zarpl -= c\n",
        "        print('--------------------------------------------------------')\n",
        "        print(f'Зарплата сотрудника с учетом премии составляет: {zarpl}')\n",
        "\n",
        "try:\n",
        "    t = int(input(\"Введите тарифную ставку: \"))\n",
        "    o = int(input(\"Введите количество отработанных дней: \"))\n",
        "    if o > 23:\n",
        "        raise ValueError(\"В 2023 году количество отработанных дней\" \\\n",
        "                         \" за месяц не может превышать 23.\")\n",
        "    elif o < 0:\n",
        "        raise ValueError(\"Количество отработанных дней не может\" \\\n",
        "                         \" выражаться в отрицательных числах.\")\n",
        "    elif isinstance(t, int):\n",
        "        pass\n",
        "    else:\n",
        "        raise ValueError(\"Введите целочисленные данные больше нуля.\")\n",
        "\n",
        "    s = int(input(\"Введите объем продаж сотрудника: \"))\n",
        "    if s < 0:\n",
        "        raise ValueError(\"Объем продаж не может\" \\\n",
        "                         \" выражаться в отрицательных числах.\")\n",
        "    \n",
        "    a = Salary(t, o, s)\n",
        "    a.calculator()\n",
        "\n",
        "except ValueError as eh:\n",
        "    print(\"Произошла ошибка!\", eh)\n",
        "except TypeError as em:\n",
        "    print(\"Произошла ошибка!\", em)"
      ],
      "metadata": {
        "colab": {
          "base_uri": "https://localhost:8080/"
        },
        "id": "leJQaPEPg66i",
        "outputId": "bdf36f96-a1a8-4164-8005-cedf4b3c8238"
      },
      "execution_count": null,
      "outputs": [
        {
          "output_type": "stream",
          "name": "stdout",
          "text": [
            "Введите тарифную ставку: апрол\n",
            "Произошла ошибка! invalid literal for int() with base 10: 'апрол'\n"
          ]
        }
      ]
    },
    {
      "cell_type": "markdown",
      "source": [
        "# №3\n",
        "\n",
        "Создайте для класса «сотрудники» абстрактный метод начисления зарплаты.\n",
        "Создайте два класса-наследника: сотрудник отдела продаж и сотрудник склада.\n",
        "Для первого класса начисление происходит аналогично заданию 1, а для второго в зависимости от количества отработанных дней."
      ],
      "metadata": {
        "id": "1H3HIFj1gmno"
      }
    },
    {
      "cell_type": "code",
      "source": [
        "from abc import ABC, abstractmethod\n",
        "\n",
        "class Employees(ABC):\n",
        "    @abstractmethod\n",
        "    def salary(self):\n",
        "        pass\n",
        "\n",
        "class Sales_Employee(Employees):\n",
        "    def __init__(self, n, t, d, s):\n",
        "        self.name = n\n",
        "        self.tarif_rate = t\n",
        "        self.days_worked = d\n",
        "        self.sales = s\n",
        "    def salary(self):\n",
        "        zarpl = self.tarif_rate * self.days_worked\n",
        "        if self.sales >= 50000:\n",
        "            c = zarpl * 0.1\n",
        "            zarpl += c\n",
        "        elif self.sales >= 100000:\n",
        "            c = zarpl * 0.15\n",
        "            zarpl += c\n",
        "        elif self.sales >= 150000:\n",
        "            c = zarpl * 0.2\n",
        "            zarpl += c\n",
        "        print('--------------------------------------------------------')\n",
        "        print(f'Зарплата сотрудника отдела продаж с учетом премии' \\\n",
        "              f'составляет: {zarpl}')\n",
        "        print(' ')\n",
        "\n",
        "class Warehouse_Employee(Employees):\n",
        "    def __init__(self, n, t, d):\n",
        "        self.name = n\n",
        "        self.tarif_rate = t\n",
        "        self.days_worked = d\n",
        "    def salary(self):\n",
        "        zarpl = self.tarif_rate * self.days_worked\n",
        "        print('--------------------------------------------------------')\n",
        "        print(f'Зарплата сотрудника склада составляет: {zarpl}')\n",
        "\n",
        "a = Sales_Employee('Брейтенбихер', 1000, 20, 60000)\n",
        "a.salary()\n",
        "\n",
        "b = Warehouse_Employee('Лимонов', 500, 20)\n",
        "b.salary()\n"
      ],
      "metadata": {
        "colab": {
          "base_uri": "https://localhost:8080/"
        },
        "id": "3CfDXiBUjeAf",
        "outputId": "88df0f69-7de9-402d-8f25-d2edf520ce57"
      },
      "execution_count": null,
      "outputs": [
        {
          "output_type": "stream",
          "name": "stdout",
          "text": [
            "--------------------------------------------------------\n",
            "Зарплата сотрудника отдела продаж с учетом премии составляет: 22000.0\n",
            " \n",
            "--------------------------------------------------------\n",
            "Зарплата сотрудника склада составляет: 10000\n"
          ]
        }
      ]
    },
    {
      "cell_type": "markdown",
      "source": [
        "# №4\n",
        "\n",
        "Решите предыдущую задачу, используя декоратор Sabstractmethod.  "
      ],
      "metadata": {
        "id": "iHV5ptSugm34"
      }
    },
    {
      "cell_type": "code",
      "source": [
        "from abc import ABC, abstractmethod\n",
        "\n",
        "class Employees(ABC):\n",
        "    @abstractmethod\n",
        "    def salary(self):\n",
        "        pass\n",
        "\n",
        "class Sales_Employee(Employees):\n",
        "    def __init__(self, n, t, d, s):\n",
        "        self.name = n\n",
        "        self.tarif_rate = t\n",
        "        self.days_worked = d\n",
        "        self.sales = s\n",
        "    def salary(self):\n",
        "        zarpl = self.tarif_rate * self.days_worked\n",
        "        if self.sales >= 50000:\n",
        "            c = zarpl * 0.1\n",
        "            zarpl += c\n",
        "        elif self.sales >= 100000:\n",
        "            c = zarpl * 0.15\n",
        "            zarpl += c\n",
        "        elif self.sales >= 150000:\n",
        "            c = zarpl * 0.2\n",
        "            zarpl += c\n",
        "        print('--------------------------------------------------------')\n",
        "        print(f'Зарплата сотрудника отдела продаж с учетом' \\\n",
        "              f'премии составляет: {zarpl}')\n",
        "        print(' ')\n",
        "\n",
        "class Warehouse_Employee(Employees):\n",
        "    def __init__(self, n, t, d):\n",
        "        self.name = n\n",
        "        self.tarif_rate = t\n",
        "        self.days_worked = d\n",
        "    def salary(self):\n",
        "        zarpl = self.tarif_rate * self.days_worked\n",
        "        print('--------------------------------------------------------')\n",
        "        print(f'Зарплата сотрудника склада составляет: {zarpl}')\n",
        "\n",
        "a = Sales_Employee('Брейтенбихер', 1000, 20, 60000)\n",
        "a.salary()\n",
        "\n",
        "b = Warehouse_Employee('Лимонов', 500, 20)\n",
        "b.salary()"
      ],
      "metadata": {
        "colab": {
          "base_uri": "https://localhost:8080/"
        },
        "id": "1iBppq4x6oOi",
        "outputId": "e00559fc-56ac-4a8a-e8df-8006ebf705a0"
      },
      "execution_count": null,
      "outputs": [
        {
          "output_type": "stream",
          "name": "stdout",
          "text": [
            "--------------------------------------------------------\n",
            "Зарплата сотрудника отдела продаж с учетом премии составляет: 22000.0\n",
            " \n",
            "--------------------------------------------------------\n",
            "Зарплата сотрудника склада составляет: 10000\n"
          ]
        }
      ]
    },
    {
      "cell_type": "markdown",
      "source": [
        "# №5\n",
        "\n",
        "Имеется класс «мебель». Создайте класс «корпусная мебель», «мягкая мебель» и\n",
        "«кухонная мебель». Определите атрибуты и методы родительского класса и\n",
        "классов-наследников."
      ],
      "metadata": {
        "id": "IHXSeMb9gnGj"
      }
    },
    {
      "cell_type": "code",
      "source": [
        "class Furniture:\n",
        "    def __init__(self, n, c, f):\n",
        "        self.name = n\n",
        "        self.color = c\n",
        "        self.features = f\n",
        "\n",
        "    def info(self):\n",
        "        pass\n",
        "\n",
        "\n",
        "class Cabinet_Furniture(Furniture):\n",
        "    def __init__(self, n, c, f):\n",
        "        Furniture.__init__(self, n, c, f)\n",
        "\n",
        "    def info(self):\n",
        "        print(f'{self.color} {self.name} используется для {self.features}')\n",
        "\n",
        "    def move(self):\n",
        "        print(f'Вы передвинули {self.color} {self.name}')\n",
        "        print('')\n",
        "        print('----------------------------------------------------------')\n",
        "        print('')\n",
        "        \n",
        "\n",
        "class Upholstered_Furniture(Furniture):\n",
        "    def __init__(self, n, c, f):\n",
        "        Furniture.__init__(self, n, c, f)\n",
        "\n",
        "    def info(self):\n",
        "        print(f'{self.color} {self.name} используется для {self.features}')\n",
        "\n",
        "    def touch(self):\n",
        "        print(f'Вы пощупали {self.name}')\n",
        "        print('')\n",
        "        print('----------------------------------------------------------')\n",
        "        print('')\n",
        "\n",
        "class Kitchen_Furniture(Furniture):\n",
        "    def __init__(self, n, c, f):\n",
        "        Furniture.__init__(self, n, c, f)\n",
        "\n",
        "    def info(self):\n",
        "        print(f'{self.color} {self.name} используется для {self.features}')\n",
        "\n",
        "    def paint(self):\n",
        "        print(f'Вы перекрасили {self.name}. Теперь {self.name} больше' \\\n",
        "              f' не {self.color}')\n",
        "        \n",
        "a = Cabinet_Furniture('Стол', 'Красный', 'размещения на нем предметов')\n",
        "a.info()\n",
        "a.move()\n",
        "\n",
        "b = Upholstered_Furniture('Кресло', 'Желтое', 'сидения')\n",
        "b.info()\n",
        "b.touch()\n",
        "\n",
        "c = Kitchen_Furniture('Барная стойка', 'Серебряная', 'распития напитков')\n",
        "c.info()\n",
        "c.paint()"
      ],
      "metadata": {
        "colab": {
          "base_uri": "https://localhost:8080/"
        },
        "id": "rXVp54ghkvj-",
        "outputId": "a3528c1d-1872-43be-fd37-58c383de9dd1"
      },
      "execution_count": null,
      "outputs": [
        {
          "output_type": "stream",
          "name": "stdout",
          "text": [
            "Красный Стол используется для размещения на нем предметов\n",
            "Вы передвинули Красный Стол\n",
            "\n",
            "----------------------------------------------------------\n",
            "\n",
            "Желтое Кресло используется для сидения\n",
            "Вы пощупали Кресло\n",
            "\n",
            "----------------------------------------------------------\n",
            "\n",
            "Серебряная Барная стойка используется для распития напитков\n",
            "Вы перекрасили Барная стойка. Теперь Барная стойка больше не Серебряная\n"
          ]
        }
      ]
    },
    {
      "cell_type": "markdown",
      "source": [
        "# №6\n",
        "\n",
        "Создайте приложение, в котором необходимо разработать базовый класс man.\n",
        "Объекты этого класса содержат справочную информацию о конкретном\n",
        "человеке (фамилию, инициалы, телефон, адрес, возраст). Создайте два\n",
        "производных от него класса: manager и secretary. Объекты класса manager\n",
        "дополнительно включают номер отдела и количество подчиненных. Объекты\n",
        "класса manager дополнительно включают номер отдела и количество\n",
        "подчиненных. Объекты класса secretary дополнительно включают фамилию\n",
        "начальника. Данные о менеджерах и секретарях введите с клавиатуры и выведите\n",
        "на экран дисплея. "
      ],
      "metadata": {
        "id": "UQy4xMeEgnTU"
      }
    },
    {
      "cell_type": "code",
      "source": [
        "from os import pipe2\n",
        "class Man:\n",
        "    def __init__(self, s, i, p, ad, ag):\n",
        "        self.surname = s\n",
        "        self.initials = i\n",
        "        self.phone = p\n",
        "        self.address = ad\n",
        "        self.age = ag\n",
        "\n",
        "\n",
        "class Manager(Man):\n",
        "    def __init__(self, s, i, p, ad, ag, n, q):\n",
        "      Man.__init__(self, s, i, p, ad, ag)\n",
        "      self.number = n\n",
        "      self.quantity = q\n",
        "    def info(self):\n",
        "        print('')\n",
        "        print('-------------------------------------------------------------')\n",
        "        print(f'Фамилия менеджера: {self.surname} \\n' \\\n",
        "              f'Инициалы менеджера: {self.initials} \\n' \\\n",
        "              f'Телефон менеджера: {self.phone} \\n' \\\n",
        "              f'Адрес менеджера: {self.address} \\n' \\\n",
        "              f'Возраст менеджера: {self.age} \\n' \\\n",
        "              f'Номер отдела менеджера: {self.number} \\n' \\\n",
        "              f'Количество подчиненных менеджера: {self.quantity}')\n",
        "        print('-------------------------------------------------------------')\n",
        "        print('')\n",
        "\n",
        "class Secretary(Man):\n",
        "    def __init__(self, s, i, p, ad, ag, sB):\n",
        "        Man.__init__(self, s, i, p, ad, ag)\n",
        "        self.surnameBoss = sB\n",
        "    def info(self):\n",
        "        print('')\n",
        "        print('-------------------------------------------------------------')\n",
        "        print(f'Фамилия секретаря: {self.surname} \\n' \\\n",
        "              f'Инициалы секретаря: {self.initials} \\n' \\\n",
        "              f'Телефон секретаря: {self.phone} \\n' \\\n",
        "              f'Адрес секретаря: {self.address} \\n' \\\n",
        "              f'Возраст секретаря: {self.age} \\n' \\\n",
        "              f'Фамилия начальника секретаря: {self.surnameBoss}')\n",
        "        print('-------------------------------------------------------------')\n",
        "\n",
        "\n",
        "s1 = str(input('Введите фамилию менеджера: '))\n",
        "i1 = str(input('Введите инициалы менеджера: '))\n",
        "p1 = int(input('Введите телефон менеджера: '))\n",
        "ad1 = str(input('Введите адрес менеджера: '))\n",
        "ag1 = str(input('Введите возраст менеджера: '))\n",
        "n1 = int(input('Введите номер отдела менеджера: '))\n",
        "q1 = int(input('Введите количество подчиненных менеджера: '))\n",
        "\n",
        "a = Manager(s1, i1, p1, ad1, ag1, n1, q1)\n",
        "a.info()\n",
        "\n",
        "print('')\n",
        "\n",
        "s2 = str(input('Введите фамилию секретаря: '))\n",
        "i2 = str(input('Введите инициалы секретаря: '))\n",
        "p2 = int(input('Введите телефон секретаря: '))\n",
        "ad2 = str(input('Введите адрес секретаря: '))\n",
        "ag2 = str(input('Введите возраст секретаря: '))\n",
        "sB2 = str(input('Введите фамилию начальника секретаря: '))\n",
        "\n",
        "b = Secretary(s2, i2, p2, ad2, ag2, sB2)\n",
        "b.info()"
      ],
      "metadata": {
        "colab": {
          "base_uri": "https://localhost:8080/"
        },
        "id": "QO4w2X0uZnvs",
        "outputId": "87c1746f-c1a2-46a5-af85-7eb88bdae8ee"
      },
      "execution_count": null,
      "outputs": [
        {
          "output_type": "stream",
          "name": "stdout",
          "text": [
            "Введите фамилию менеджера: Летов\n",
            "Введите инициалы менеджера: И. Ф.\n",
            "Введите телефон менеджера: 89957475384\n",
            "Введите адрес менеджера: ул Фауста\n",
            "Введите возраст менеджера: 78\n",
            "Введите номер отдела менеджера: 5\n",
            "Введите количество подчиненных менеджера: 30\n",
            "\n",
            "-------------------------------------------------------------\n",
            "Фамилия менеджера: Летов \n",
            "Инициалы менеджера: И. Ф. \n",
            "Телефон менеджера: 89957475384 \n",
            "Адрес менеджера: ул Фауста \n",
            "Возраст менеджера: 78 \n",
            "Номер отдела менеджера: 5 \n",
            "Количество подчиненных менеджера: 30\n",
            "-------------------------------------------------------------\n",
            "\n",
            "\n",
            "Введите фамилию секретаря: Городищев\n",
            "Введите инициалы секретаря: К. Г.\n",
            "Введите телефон секретаря: 84564367547\n",
            "Введите адрес секретаря: ул Щебеня дом 56\n",
            "Введите возраст секретаря: 40\n",
            "Введите фамилию начальника секретаря: Озлобленов\n",
            "\n",
            "-------------------------------------------------------------\n",
            "Фамилия секретаря: Городищев \n",
            "Инициалы секретаря: К. Г. \n",
            "Телефон секретаря: 84564367547 \n",
            "Адрес секретаря: ул Щебеня дом 56 \n",
            "Возраст секретаря: 40 \n",
            "Фамилия начальника секретаря: Озлобленов\n",
            "-------------------------------------------------------------\n"
          ]
        }
      ]
    },
    {
      "cell_type": "markdown",
      "source": [
        "# №7\n",
        "\n",
        "Разработайте приложение, в котором опишите базовый класс building. Он\n",
        "хранит этаж, число комнат в квартире, общую площадь квартиры. Три\n",
        "производных класса house-k, house-p, house-m наследуют класс building. Каждый\n",
        "из них хранит надбавку к цене квадратного метра площади, зависящую от\n",
        "материала дома. Производный класс office наследует производные классы housek, house-p, house-m и хранит наличие лоджии и надбавку, связанную с районом\n",
        "города. Вывести на экран стоимость конкретной квартиры."
      ],
      "metadata": {
        "id": "YzwZGqz8gnfs"
      }
    },
    {
      "cell_type": "code",
      "source": [
        "class Building:\n",
        "    def __init__(self, f, q, s, c):\n",
        "        self.floor = f\n",
        "        self.quantity = q\n",
        "        self.square = s\n",
        "        self.cost = c \n",
        "\n",
        "class House_k(Building):\n",
        "    price = 200\n",
        "    def __init__(self, f, q, s, c):\n",
        "        Building.__init__(self, f, q, s, c)\n",
        "    def pricce(self):\n",
        "        print(f'Надбавка к цене квадратного метра, зависящая от материала' \\\n",
        "              f' дома: {self.price}%')\n",
        "    def costt(self):\n",
        "        r = self.price * self.square\n",
        "        self.cost += r\n",
        "        print(f'Цена за квартиру составляет: {self.cost}')\n",
        "\n",
        "class House_p(Building):\n",
        "    priсe = 115\n",
        "    def __init__(self, f, q, s, c):\n",
        "        Building.__init__(self, f, q, s, c)\n",
        "    def pricce(self):\n",
        "        print(f'Надбавка к цене квадратного метра, зависящая от материала' \\\n",
        "              f' дома: {self.price}%')\n",
        "    def costt(self):\n",
        "        r = self.price * self.square\n",
        "        self.cost += r\n",
        "        print(f'Цена за квартиру составляет: {self.cost}')\n",
        "\n",
        "\n",
        "class House_m(Building):\n",
        "    price = 75\n",
        "    def __init__(self, f, q, s, c):\n",
        "        Building.__init__(self, f, q, s, c)\n",
        "    def pricce(self):\n",
        "        print(f'Надбавка к цене квадратного метра, зависящая от материала' \\\n",
        "              f' дома: {self.price}%')\n",
        "    def costt(self):\n",
        "        r = self.price * self.square\n",
        "        self.cost += r\n",
        "        print(f'Цена за квартиру составляет: {self.cost}')\n",
        "\n",
        "\n",
        "class Office(House_k, House_p, House_m):\n",
        "    price = 136\n",
        "    def __init__(self, f, q, s, c, l):\n",
        "        House_k.__init__(self, f, q, s, c)\n",
        "        self.loggia = l\n",
        "    def pricce(self):\n",
        "        print(f'Надбавка к цене квадратного метра, зависящая от района' /\n",
        "              f' города: {self.price}%')\n",
        "    def costt(self):\n",
        "        r = self.price * self.square\n",
        "        self.cost += r\n",
        "        print(f'Цена за квартиру составляет: {self.cost}')\n",
        "\n",
        "a = House_k(1, 2, 300, 1000000)\n",
        "a.pricce()\n",
        "a.costt()"
      ],
      "metadata": {
        "colab": {
          "base_uri": "https://localhost:8080/"
        },
        "id": "40st3dAEm4NU",
        "outputId": "22f6b6fc-6274-4c42-988d-61eac7fcb999"
      },
      "execution_count": null,
      "outputs": [
        {
          "output_type": "stream",
          "name": "stdout",
          "text": [
            "Надбавка к цене квадратного метра, зависящая от материала дома: 200%\n",
            "Цена за квартиру составляет: 1060000\n"
          ]
        }
      ]
    },
    {
      "cell_type": "markdown",
      "source": [
        "# №8\n",
        "\n",
        "В программе рассчитываются площади треугольника и прямоугольника. С\n",
        "этой целью создается абстрактный класс area, в котором сохраняются две\n",
        "размерности фигуры. В производных классах задайте вид конкретных фигур и\n",
        "возвратите их площади. "
      ],
      "metadata": {
        "id": "PLn-Km7RgpvA"
      }
    },
    {
      "cell_type": "code",
      "source": [
        "from abc import ABC, abstractmethod\n",
        "\n",
        "class Area(ABC):\n",
        "    @abstractmethod\n",
        "    def __init__(self, f, h, s1, s2):\n",
        "        self.foundation = f\n",
        "        self.height = h\n",
        "        self.side1 = s1\n",
        "        self.side2 = s2\n",
        "    @abstractmethod\n",
        "    def calculation(self):\n",
        "        t = self.foundation * self.height * 0.5\n",
        "        print(f'Площадь треугольника равна: {t}.')\n",
        "        r = self.side1 * self.side2\n",
        "        print(f'Площадь прямоугольника равна: {r}.')\n",
        "\n",
        "class Rhombus(Area):\n",
        "    def __init__(self, f, h):\n",
        "        self.foundation = f\n",
        "        self.height = h\n",
        "    def calculation(self):\n",
        "        r = self.foundation * self.height\n",
        "        print(f'Площадь ромба равна: {r}.')\n",
        "\n",
        "class Trapeze(Area):\n",
        "  def __init__(self, h, f1, f2):\n",
        "      self.height = h\n",
        "      self.foundation1 = f1\n",
        "      self.foundation2 = f2\n",
        "  def calculation(self):\n",
        "      t = 0.5 * self.height * (self.foundation1 + self.foundation2)\n",
        "      print(f'Площадь трапеции равна: {t}.')\n",
        "\n",
        "\n",
        "b = Rhombus(34, 3)\n",
        "b.calculation()\n",
        "print('')\n",
        "\n",
        "c = Trapeze(32, 1, 4)\n",
        "c.calculation()\n",
        "print('')"
      ],
      "metadata": {
        "id": "Jkm18b8rzw2h",
        "colab": {
          "base_uri": "https://localhost:8080/"
        },
        "outputId": "0bc2d2dd-39f7-4664-b5f3-acf4a9e79695"
      },
      "execution_count": 17,
      "outputs": [
        {
          "output_type": "stream",
          "name": "stdout",
          "text": [
            "Площадь ромба равна: 102.\n",
            "\n",
            "Площадь трапеции равна: 80.0.\n",
            "\n"
          ]
        }
      ]
    }
  ]
}