{
  "nbformat": 4,
  "nbformat_minor": 0,
  "metadata": {
    "colab": {
      "provenance": [],
      "authorship_tag": "ABX9TyOMqc/jbu8tbhrfqkCPPMzz",
      "include_colab_link": true
    },
    "kernelspec": {
      "name": "python3",
      "display_name": "Python 3"
    },
    "language_info": {
      "name": "python"
    }
  },
  "cells": [
    {
      "cell_type": "markdown",
      "metadata": {
        "id": "view-in-github",
        "colab_type": "text"
      },
      "source": [
        "<a href=\"https://colab.research.google.com/github/Prishletsova/Gonna_make_it_work/blob/main/%D0%97%D0%B0%D0%BD%D1%8F%D1%82%D0%B8%D0%B5_4_%D0%9F%D0%B0%D1%80%D0%B0%D0%B4%D0%B8%D0%B3%D0%BC%D1%8B_%D0%9E%D0%9E%D0%9F_%D0%9F%D0%BE%D0%BB%D0%B8%D0%BC%D0%BE%D1%80%D1%84%D0%B8%D0%B7%D0%BC.ipynb\" target=\"_parent\"><img src=\"https://colab.research.google.com/assets/colab-badge.svg\" alt=\"Open In Colab\"/></a>"
      ]
    },
    {
      "cell_type": "markdown",
      "source": [
        "Полиморфизм в объектно-ориентированном программировании – это\n",
        "возможность обработки разных типов данных, т. е. принадлежащих к разным\n",
        "классам, с помощью «одно и той же» функции, или метода. На самом деле\n",
        "одинаковым является только имя метода, его исходный код зависит от класса.\n",
        "Кроме того, результаты работы одноименных методов могут существенно\n",
        "различаться. Поэтому в данном контексте под полиморфизмом понимается\n",
        "множество форм одного и того же слова – имени метода.\n",
        "\n",
        "Например, два разных класса содержат метод total, однако инструкции\n",
        "каждого предусматривают совершенно разные операции. Так в классе T1 – это\n",
        "прибавление 10 к аргументу, в T2 – подсчет длины строки символов. В\n",
        "зависимости от того, к объекту какого класса применяется метод total,\n",
        "выполняются те или иные инструкции."
      ],
      "metadata": {
        "id": "wN4RikmSLrGZ"
      }
    },
    {
      "cell_type": "code",
      "execution_count": 1,
      "metadata": {
        "colab": {
          "base_uri": "https://localhost:8080/"
        },
        "id": "U_-uTipALpg9",
        "outputId": "614f82a6-6d35-46b4-b887-7cec9ddf57f8"
      },
      "outputs": [
        {
          "output_type": "stream",
          "name": "stdout",
          "text": [
            "55\n",
            "2\n"
          ]
        }
      ],
      "source": [
        "class T1:\n",
        "    n=10\n",
        "    def total(self, N):\n",
        "        self.total = int(self.n) + int(N)\n",
        "\n",
        "class T2:\n",
        "    def total(self,s):\n",
        "        self.total = len(str(s))\n",
        "\n",
        "t1 = T1()\n",
        "t2 = T2()\n",
        "t1.total(45)\n",
        "t2.total(45)\n",
        "print(t1.total) # Вывод: 55\n",
        "print(t2.total) # Вывод: 2\n"
      ]
    },
    {
      "cell_type": "markdown",
      "source": [
        "Полиморфизм дает возможность реализовывать так называемые единые\n",
        "интерфейсы для объектов различных классов. Например, разные классы могут\n",
        "предусматривать различный способ вывода той или иной информации объектов.\n",
        "Однако одинаковое название метода вывода позволит не запутать программу,\n",
        "сделать код более ясным. В Python среди прочего полиморфизм находит отражение в методах перегрузки операторов ( __init__() и __del__()), которые вызываются при создании объекта и его удалении. Полиморфизм у методов перегрузки операторов проявляется в том, что независимо от типа объекта, его\n",
        "участие в определенной операции, вызывает метод с конкретным именем. В\n",
        "случае __init()__ операцией является создание объекта. Рассмотрим пример\n",
        "полиморфизма на еще одном методе, который перегружает функцию print().\n",
        "\n",
        "Создадим объект собственного класса, а потом вывести его на экран, то\n",
        "получим информацию о классе объекта и его адрес в памяти. Такое поведение\n",
        "функции print() по умолчанию по отношению к пользовательским классам\n",
        "запрограммировано на самом верхнем уровне иерархии, где-то в суперклассе, от\n",
        "которого неявно наследуются все остальные.\n"
      ],
      "metadata": {
        "id": "AyOY4KqDMsDM"
      }
    },
    {
      "cell_type": "code",
      "source": [
        "class A:\n",
        "    def __init__(self, v1, v2):\n",
        "        self.field1 = v1\n",
        "        self.field2 = v2\n",
        "\n",
        "a = A(3, 4)\n",
        "print(a)"
      ],
      "metadata": {
        "colab": {
          "base_uri": "https://localhost:8080/"
        },
        "id": "5_2oM62rNNa_",
        "outputId": "927628d3-13de-4037-acd7-df6de0ad810a"
      },
      "execution_count": 2,
      "outputs": [
        {
          "output_type": "stream",
          "name": "stdout",
          "text": [
            "<__main__.A object at 0x7f2a0d683be0>\n"
          ]
        }
      ]
    },
    {
      "cell_type": "markdown",
      "source": [
        "Парадигма полиморфизма позволяет вместо объекта базового типа\n",
        "использовать его потомка, при этом не указывая это явно."
      ],
      "metadata": {
        "id": "7ztE3FCINee2"
      }
    },
    {
      "cell_type": "code",
      "source": [
        "class Parent:\n",
        "    def some_method(self):\n",
        "        print(\"This is Parent object\")\n",
        "\n",
        "class Child1(Parent):\n",
        "    def some_method(self):\n",
        "        print(\"This is Child1 object\")\n",
        "\n",
        "class Child2(Parent):\n",
        "    def some_method(self):\n",
        "        print(\"This is Child2 object\")\n",
        "\n",
        "def who_am_i(obj):\n",
        "    obj.some_method()\n",
        "\n",
        "p = Parent()\n",
        "c1 = Child1()\n",
        "c2 = Child2()\n",
        "who_am_i(p)\n",
        "who_am_i(c1)\n",
        "who_am_i(c2)\n",
        "print()"
      ],
      "metadata": {
        "colab": {
          "base_uri": "https://localhost:8080/"
        },
        "id": "fV37ofwDNfWn",
        "outputId": "c5fc3aa9-899d-429d-dc64-c8e3645065a9"
      },
      "execution_count": 3,
      "outputs": [
        {
          "output_type": "stream",
          "name": "stdout",
          "text": [
            "This is Parent object\n",
            "This is Child1 object\n",
            "This is Child2 object\n",
            "\n"
          ]
        }
      ]
    }
  ]
}