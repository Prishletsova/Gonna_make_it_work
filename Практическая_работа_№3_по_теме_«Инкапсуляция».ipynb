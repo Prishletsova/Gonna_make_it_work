{
  "nbformat": 4,
  "nbformat_minor": 0,
  "metadata": {
    "colab": {
      "provenance": [],
      "authorship_tag": "ABX9TyObGiarELraVtoO++5z7K2k",
      "include_colab_link": true
    },
    "kernelspec": {
      "name": "python3",
      "display_name": "Python 3"
    },
    "language_info": {
      "name": "python"
    }
  },
  "cells": [
    {
      "cell_type": "markdown",
      "metadata": {
        "id": "view-in-github",
        "colab_type": "text"
      },
      "source": [
        "<a href=\"https://colab.research.google.com/github/Prishletsova/Gonna_make_it_work/blob/main/%D0%9F%D1%80%D0%B0%D0%BA%D1%82%D0%B8%D1%87%D0%B5%D1%81%D0%BA%D0%B0%D1%8F_%D1%80%D0%B0%D0%B1%D0%BE%D1%82%D0%B0_%E2%84%963_%D0%BF%D0%BE_%D1%82%D0%B5%D0%BC%D0%B5_%C2%AB%D0%98%D0%BD%D0%BA%D0%B0%D0%BF%D1%81%D1%83%D0%BB%D1%8F%D1%86%D0%B8%D1%8F%C2%BB.ipynb\" target=\"_parent\"><img src=\"https://colab.research.google.com/assets/colab-badge.svg\" alt=\"Open In Colab\"/></a>"
      ]
    },
    {
      "cell_type": "markdown",
      "source": [
        "# Вариант 13"
      ],
      "metadata": {
        "id": "dUwWuMM-bBJa"
      }
    },
    {
      "cell_type": "markdown",
      "source": [
        "Описать класс для работы со строкой, позволяющей хранить только двоичное число и выполнять с ним арифметические операции. Предусмотреть инициализацию с проверкой допустимости значений. В случае недопустимых значений выбрасываются исключения.\n",
        "\n",
        "Написать программу, демонстрирующую все разработанные элементы\n",
        "класса."
      ],
      "metadata": {
        "id": "Y8873-AAbOE_"
      }
    },
    {
      "cell_type": "code",
      "source": [
        "class Binary:\n",
        "    def __init__(self, number):\n",
        "        self.number = Binary.__binary_check(number)\n",
        "    def __binary_check(num):\n",
        "        if not isinstance(num, str):\n",
        "            raise ValueError(\"Введите двоичное число в виде строки.\")\n",
        "        if not all((a == '0' or a == '1') for a in num):\n",
        "            raise TypeError(\"Введите двоичное число.\")\n",
        "        else:\n",
        "            return num\n",
        "\n",
        "    def multiplication(a, b):\n",
        "        num1 = int(a.number, 2)\n",
        "        num2 = int(b.number, 2)\n",
        "        multi = num1 * num2\n",
        "        return bin(multi)[2:]\n",
        "\n",
        "    def division(a, b):\n",
        "        num1 = int(a.number, 2)\n",
        "        num2 = int(b.number, 2)\n",
        "        div = num1 // num2\n",
        "        return bin(div)[2:]\n",
        "\n",
        "\n",
        "try:\n",
        "    c = Binary(str(input(\"Введите двоичное число в виде строки: \")))\n",
        "    d = Binary(str(input(\"Введите двоичное число в виде строки: \")))\n",
        "\n",
        "    print(\"\")\n",
        "\n",
        "    sum = bin(int(c.number, 2) + int(d.number, 2))\n",
        "    print(f\"Сложение: {c.number} + {d.number} = {sum[2:]}\")\n",
        "\n",
        "    print(\"\")\n",
        "\n",
        "    subtraction1 = bin(int(c.number, 2) - int(d.number, 2))\n",
        "    if any(i == \"-\" for i in subtraction1):\n",
        "        print(f\"Вычитание первого из второго: {c.number} - {d.number} = \" \\\n",
        "          f\"-{subtraction1[3:]}\")\n",
        "    else:\n",
        "        print(f\"Вычитание первого из второго: {c.number} - {d.number} = \" \\\n",
        "              f\"{subtraction1[2:]}\")\n",
        "\n",
        "    print(\"\")\n",
        "\n",
        "    subtraction2 = bin(int(d.number, 2) - int(c.number, 2))\n",
        "    if any(i == \"-\" for i in subtraction2):\n",
        "        print(f\"Вычитание второго из первого: {d.number} - {c.number} = \" \\\n",
        "              f\"-{subtraction2[3:]}\")\n",
        "    else:\n",
        "        print(f\"Вычитание второго из первого: {d.number} - {c.number} = \" \\\n",
        "              f\"{subtraction2[2:]}\")\n",
        "\n",
        "    print(\"\")\n",
        "\n",
        "    print(f\"Умножение: {c.number} * {d.number} = {Binary.multiplication(c, d)}\")\n",
        "\n",
        "    print(\"\")\n",
        "\n",
        "    print(f\"Деление первого на второй: {c.number} / {d.number} = \" \\\n",
        "          f\"{Binary.division(c, d)}\")\n",
        "\n",
        "    print(\"\")\n",
        "\n",
        "    print(f\"Деление второго на первый: {d.number} / {c.number} = \" \\\n",
        "          f\"{Binary.division(d, c)}\")\n",
        "\n",
        "except ValueError as ss:\n",
        "    print(\"Произошла ошибка!\", ss)\n",
        "except TypeError as mm:\n",
        "    print(\"Произошла ошибка!\", mm)\n",
        "\n"
      ],
      "metadata": {
        "colab": {
          "base_uri": "https://localhost:8080/"
        },
        "id": "tM-AForfBzCf",
        "outputId": "e089b7d4-e18f-4662-f512-904bcd028b67"
      },
      "execution_count": 7,
      "outputs": [
        {
          "output_type": "stream",
          "name": "stdout",
          "text": [
            "Введите двоичное число в виде строки: 1101\n",
            "Введите двоичное число в виде строки: 100\n",
            "\n",
            "Сложение: 1101 + 100 = 10001\n",
            "\n",
            "Вычитание первого из второго: 1101 - 100 = 1001\n",
            "\n",
            "Вычитание второго из первого: 100 - 1101 = -1001\n",
            "\n",
            "Умножение: 1101 * 100 = 110100\n",
            "\n",
            "Деление первого на второй: 1101 / 100 = 11\n",
            "\n",
            "Деление второго на первый: 100 / 1101 = 0\n"
          ]
        }
      ]
    }
  ]
}