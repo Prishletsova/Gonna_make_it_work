{
  "nbformat": 4,
  "nbformat_minor": 0,
  "metadata": {
    "colab": {
      "provenance": [],
      "authorship_tag": "ABX9TyPx+oRdeO/zwG+FFn3chepv",
      "include_colab_link": true
    },
    "kernelspec": {
      "name": "python3",
      "display_name": "Python 3"
    },
    "language_info": {
      "name": "python"
    }
  },
  "cells": [
    {
      "cell_type": "markdown",
      "metadata": {
        "id": "view-in-github",
        "colab_type": "text"
      },
      "source": [
        "<a href=\"https://colab.research.google.com/github/Prishletsova/Gonna_make_it_work/blob/main/%D0%97%D0%B0%D0%BD%D1%8F%D1%82%D0%B8%D0%B5_2_%D0%9F%D0%B0%D1%80%D0%B0%D0%B4%D0%B8%D0%B3%D0%BC%D1%8B_%D0%9E%D0%9E%D0%9F_%D0%9D%D0%B0%D1%81%D0%BB%D0%B5%D0%B4%D0%BE%D0%B2%D0%B0%D0%BD%D0%B8%D0%B5.ipynb\" target=\"_parent\"><img src=\"https://colab.research.google.com/assets/colab-badge.svg\" alt=\"Open In Colab\"/></a>"
      ]
    },
    {
      "cell_type": "markdown",
      "source": [
        "# Работник и Клиент - классы-потомки. Человек - класс-родитель. "
      ],
      "metadata": {
        "id": "rbnudMuZfGsC"
      }
    },
    {
      "cell_type": "code",
      "execution_count": 1,
      "metadata": {
        "colab": {
          "base_uri": "https://localhost:8080/"
        },
        "id": "cUKvh3PoeHrc",
        "outputId": "155571a2-7ca2-47e8-dd65-e63f4793ecbc"
      },
      "outputs": [
        {
          "output_type": "stream",
          "name": "stdout",
          "text": [
            "Петр говорит\n",
            "Человек без имени говорит\n",
            "Елена говорит\n"
          ]
        }
      ],
      "source": [
        "class Person:  # Person - родительский класс\n",
        "    def __init__(self, nаmе='Человек без имени'):\n",
        "        self.nаmе = nаmе\n",
        "        self.age = 0\n",
        "    def say(self):\n",
        "        print(\"{0} говорит\".format(self.nаmе))\n",
        "\n",
        "\n",
        "class Employee(Person):\n",
        "    def set_job(self, job_title='Безработный'):\n",
        "        self.job_title = job_title\n",
        "    def get_job(self):\n",
        "        print(self.job_title)\n",
        "\n",
        "class Customer(Person):\n",
        "    def set_email(self, email='Heт почты'):\n",
        "        self.email = email\n",
        "    def get_email(self):\n",
        "        print(self.email)\n",
        "\n",
        "# создаем человека с именем 'Петр':\n",
        "person = Person('Петр')\n",
        "# просим человека что-нибудь сказать:\n",
        "person.say()\n",
        "\n",
        "# создаем работника без имени:\n",
        "emp = Employee()\n",
        "emp.say() \n",
        "# метод наследовался из класса Person\n",
        "# хотим, чтобы в момент создания Employee заполнялась должность\n",
        "\n",
        "cust = Customer('Елена')\n",
        "cust.say()\n",
        "# метод наследовался из класса Person\n",
        "# хотим, чтобы в момент создания Customer заполнялась почта "
      ]
    },
    {
      "cell_type": "code",
      "source": [
        "class Person:\n",
        "    def __init__(self, name='Человек без имени'):\n",
        "        self.name = name\n",
        "        self.age = 0\n",
        "    def say(self):\n",
        "        print(\"{0} говорит\".format(self.name))\n",
        "\n",
        "class Employee(Person):\n",
        "# переопределяем конструктор:\n",
        "    def __init__(self, name):\n",
        "# вызываем конструктор базового класса:\n",
        "        Person.__init__(self)\n",
        "# определяем атрибут по умолчанию:\n",
        "        self.job_title = 'Безработный'\n",
        "    def set_job(self, job_title='Безработный'):\n",
        "        self.job_title = job_title\n",
        "    def get_job(self):\n",
        "        print(self.name, self.job_title)\n",
        "\n",
        "class Customer(Person):\n",
        "    def __init__(self, name):\n",
        "        Person.__init__(self)\n",
        "        self.email = 'Нет почты'\n",
        "    def set_email(self, email='Нет почты'):\n",
        "        self.email = email\n",
        "    def get_email(self):\n",
        "        print(self.name, self.email)\n",
        "\n",
        "person = Person('Иван')\n",
        "person.say()\n",
        "emp = Employee('Игорь')\n",
        "emp.say()\n",
        "emp.get_job()\n",
        "cust = Customer('Петр')\n",
        "cust.say()\n",
        "cust.get_email()"
      ],
      "metadata": {
        "colab": {
          "base_uri": "https://localhost:8080/"
        },
        "id": "0U8P1_Bog0Vg",
        "outputId": "0dcfa94a-2260-43e6-ad95-e2e06f5039b5"
      },
      "execution_count": 2,
      "outputs": [
        {
          "output_type": "stream",
          "name": "stdout",
          "text": [
            "Иван говорит\n",
            "Человек без имени говорит\n",
            "Человек без имени Безработный\n",
            "Человек без имени говорит\n",
            "Человек без имени Нет почты\n"
          ]
        }
      ]
    },
    {
      "cell_type": "markdown",
      "source": [
        "# Множественное наследование"
      ],
      "metadata": {
        "id": "O2KaaovOkgVg"
      }
    },
    {
      "cell_type": "code",
      "source": [
        "class A:\n",
        "    def some_function(self):\n",
        "        print(\"First function\")\n",
        "    def other_function(self):\n",
        "        print(\"Second function\")\n",
        "\n",
        "class B:\n",
        "    def method_in_B(self):\n",
        "        print(\"Third function\")\n",
        "\n",
        "class C(A):\n",
        "    def other_function(self):\n",
        "        print(\"Replaced function\")\n",
        "\n",
        "class D(B, C):\n",
        "    pass\n",
        "\n",
        "# Посмотрим все атрибуты класса, не являющиеся служебными\n",
        "print(\"A:\\t\", list(filter(lambda x: \"__\" not in x, dir(A))))\n",
        "print(\"B:\\t\", list(filter(lambda x: \"__\" not in x, dir(B))))\n",
        "print(\"C(A):\\t\", list(filter(lambda x: \"__\" not in x, dir(C))))\n",
        "print(\"D(B,C):\\t\", list(filter(lambda x: \"__\" not in x, dir(D))))\n",
        "print() \n",
        "\n",
        "# Посмотрим на реализацию функции в D\n",
        "d = D()\n",
        "d.method_in_B()\n",
        "d.some_function()\n",
        "d.other_function()\n",
        "print()"
      ],
      "metadata": {
        "colab": {
          "base_uri": "https://localhost:8080/"
        },
        "id": "a70cecNmki7Q",
        "outputId": "d34eb229-8307-4d0e-c6b7-3691e28ec6f2"
      },
      "execution_count": 3,
      "outputs": [
        {
          "output_type": "stream",
          "name": "stdout",
          "text": [
            "A:\t ['other_function', 'some_function']\n",
            "B:\t ['method_in_B']\n",
            "C(A):\t ['other_function', 'some_function']\n",
            "D(B,C):\t ['method_in_B', 'other_function', 'some_function']\n",
            "\n",
            "Third function\n",
            "First function\n",
            "Replaced function\n",
            "\n"
          ]
        }
      ]
    },
    {
      "cell_type": "markdown",
      "source": [
        "# Пример"
      ],
      "metadata": {
        "id": "ELr9xgNaoZ9w"
      }
    },
    {
      "cell_type": "code",
      "source": [
        "class A:\n",
        "    var_A = 1\n",
        "    def method_A(self):\n",
        "        print(\"A\")\n",
        "\n",
        "class B(A):\n",
        "    var_B = 2\n",
        "    def method_B(self):\n",
        "        print(\"B\")\n",
        "\n",
        "class C(B):\n",
        "    var_C = 3\n",
        "    def method_C(self):\n",
        "        print(\"C\") \n",
        "\n",
        "print(\"A:\\t\", list(filter(lambda x: \"__\" not in x, dir(A))))\n",
        "print(\"B(A):\\t\", list(filter(lambda x: \"__\" not in x, dir(B))))\n",
        "print(\"C(B):\\t\", list(filter(lambda x: \"__\" not in x, dir(C))))\n",
        "print()"
      ],
      "metadata": {
        "colab": {
          "base_uri": "https://localhost:8080/"
        },
        "id": "YMoPuih-oa-O",
        "outputId": "57b72164-42e7-49ee-ec3b-ffeb2fc2d84b"
      },
      "execution_count": 5,
      "outputs": [
        {
          "output_type": "stream",
          "name": "stdout",
          "text": [
            "A:\t ['method_A', 'var_A']\n",
            "B(A):\t ['method_A', 'method_B', 'var_A', 'var_B']\n",
            "C(B):\t ['method_A', 'method_B', 'method_C', 'var_A', 'var_B', 'var_C']\n",
            "\n"
          ]
        }
      ]
    },
    {
      "cell_type": "markdown",
      "source": [
        "При наследовании класс-потомок может переопределять методы и\n",
        "переменные родительского класса:"
      ],
      "metadata": {
        "id": "FuuIfTxbpEVB"
      }
    },
    {
      "cell_type": "code",
      "source": [
        "class A:\n",
        "    value = 13\n",
        "    def some_method(self):\n",
        "        print(f\"Method in A, value = {self.value}\")\n",
        "\n",
        "class B(A):\n",
        "    def some_method(self):\n",
        "        print(f\"Method in B, value = {self.value}\")\n",
        "\n",
        "class C(B):\n",
        "    value = 6\n",
        "    def some_method(self):\n",
        "        print(f\"Method in C, value = {self.value}\")\n",
        "        \n",
        "A().some_method()\n",
        "B().some_method()\n",
        "C().some_method()\n",
        "print()"
      ],
      "metadata": {
        "colab": {
          "base_uri": "https://localhost:8080/"
        },
        "id": "idFqC_OQlk4B",
        "outputId": "03da86b7-bbe3-45fc-8242-c61d768cf271"
      },
      "execution_count": 6,
      "outputs": [
        {
          "output_type": "stream",
          "name": "stdout",
          "text": [
            "Method in A, value = 13\n",
            "Method in B, value = 13\n",
            "Method in C, value = 6\n",
            "\n"
          ]
        }
      ]
    },
    {
      "cell_type": "markdown",
      "source": [
        "Множественное наследование позволяет получить доступ к атрибутам\n",
        "нескольких родительских классов. На примере ниже это продемонстрируем. "
      ],
      "metadata": {
        "id": "ev4HOc_9puR_"
      }
    },
    {
      "cell_type": "code",
      "source": [
        "class A:\n",
        "    def some_function(self):\n",
        "        print(\"First function\")\n",
        "    def other_function(self):\n",
        "        print(\"Second function\")\n",
        "\n",
        "class B:\n",
        "    def method_in_B(self):\n",
        "        print(\"Third function\")\n",
        "\n",
        "class С(A, B):\n",
        "    pass \n",
        "\n",
        "# Посмотрим все атрибуты класса, не являющиеся служебными\n",
        "print(\"A:\\t\", list(filter(lambda x: \"__\" not in x, dir(A))))\n",
        "print(\"B:\\t\", list(filter(lambda x: \"__\" not in x, dir(B))))\n",
        "print(\"С(A,B):\\t\", list(filter(lambda x: \"__\" not in x, dir(С))))\n",
        "print() "
      ],
      "metadata": {
        "colab": {
          "base_uri": "https://localhost:8080/"
        },
        "id": "VyEC7QTxpvUy",
        "outputId": "53113a06-b265-4466-91f3-2c3317956084"
      },
      "execution_count": 7,
      "outputs": [
        {
          "output_type": "stream",
          "name": "stdout",
          "text": [
            "A:\t ['other_function', 'some_function']\n",
            "B:\t ['method_in_B']\n",
            "С(A,B):\t ['method_in_B', 'other_function', 'some_function']\n",
            "\n"
          ]
        }
      ]
    }
  ]
}