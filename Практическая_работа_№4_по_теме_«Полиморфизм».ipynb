{
  "nbformat": 4,
  "nbformat_minor": 0,
  "metadata": {
    "colab": {
      "provenance": [],
      "authorship_tag": "ABX9TyOFtat1CLPvQ+uXhNZfjYdm",
      "include_colab_link": true
    },
    "kernelspec": {
      "name": "python3",
      "display_name": "Python 3"
    },
    "language_info": {
      "name": "python"
    }
  },
  "cells": [
    {
      "cell_type": "markdown",
      "metadata": {
        "id": "view-in-github",
        "colab_type": "text"
      },
      "source": [
        "<a href=\"https://colab.research.google.com/github/Prishletsova/Gonna_make_it_work/blob/main/%D0%9F%D1%80%D0%B0%D0%BA%D1%82%D0%B8%D1%87%D0%B5%D1%81%D0%BA%D0%B0%D1%8F_%D1%80%D0%B0%D0%B1%D0%BE%D1%82%D0%B0_%E2%84%964_%D0%BF%D0%BE_%D1%82%D0%B5%D0%BC%D0%B5_%C2%AB%D0%9F%D0%BE%D0%BB%D0%B8%D0%BC%D0%BE%D1%80%D1%84%D0%B8%D0%B7%D0%BC%C2%BB.ipynb\" target=\"_parent\"><img src=\"https://colab.research.google.com/assets/colab-badge.svg\" alt=\"Open In Colab\"/></a>"
      ]
    },
    {
      "cell_type": "markdown",
      "source": [
        "Упражнения для самостоятельного выполнения по теме «Полиморфизм»\n",
        "Построить класс 1-го уровня с указанными в задании полями и методами:\n",
        "- конструктор,\n",
        "- функция, которая определяет “качество” (Q ) по заданной формуле,\n",
        "- вывод информации об объекте.\n",
        "\n",
        "Построить класс-потомок, который содержит дополнительное поле P и\n",
        "перекрывает функцию качества (Q ), выполняя вычисление по новой формуле\n",
        "(Qp)."
      ],
      "metadata": {
        "id": "IVsucduzPjnC"
      }
    },
    {
      "cell_type": "markdown",
      "source": [
        "**Вариант 13**"
      ],
      "metadata": {
        "id": "49pXaL2udphY"
      }
    },
    {
      "cell_type": "markdown",
      "source": [
        "**Поля и функция (Q)\n",
        "класса 1-го уровня:**\n",
        "\n",
        "Компьютерная сеть:\n",
        "- название организации,\n",
        "- число рабочих станций,\n",
        "- среднее расстояние между станциями\n",
        "(м).\n",
        "\n",
        "Q = число станций*среднее расстояние\n"
      ],
      "metadata": {
        "id": "mU3BUBr3PqZS"
      }
    },
    {
      "cell_type": "markdown",
      "source": [
        "**Поле и функция (Qp)\n",
        "класса-потомка:**\n",
        "\n",
        "P: средняя скорость передачи\n",
        "данных в сети (Мб/с)\n",
        "\n",
        "Qp = Q*Р"
      ],
      "metadata": {
        "id": "73NhX5vzP58B"
      }
    },
    {
      "cell_type": "code",
      "execution_count": 6,
      "metadata": {
        "colab": {
          "base_uri": "https://localhost:8080/"
        },
        "id": "rcRPV-zCPhOx",
        "outputId": "462d50b3-1303-416b-c212-19918fe8fef4"
      },
      "outputs": [
        {
          "output_type": "stream",
          "name": "stdout",
          "text": [
            "2563.0\n",
            "320760000\n"
          ]
        }
      ],
      "source": [
        "class Computer_network:\n",
        "    def __init__(self, name, workstation_count, average_distance):\n",
        "        if not isinstance(name, str):\n",
        "            raise TypeError(\"Введите название компютерной сети в виде строки.\")\n",
        "        elif not isinstance(workstation_count, int):\n",
        "            raise TypeError(\"Введите количество рабочих станций в виде \" /\n",
        "                            \"целого числа.\")\n",
        "        elif not (isinstance(average_distance, int) or\n",
        "                  isinstance(average_distance, float)):\n",
        "                    raise TypeError(\"Введите среднее расстояние между \" /\n",
        "                                    \"станциями в виде числа.\")\n",
        "        else:\n",
        "            self.name = name\n",
        "            self.wc = workstation_count\n",
        "            self.ad = average_distance\n",
        "\n",
        "    def q(self):\n",
        "        return self.wc * self.ad\n",
        "\n",
        "\n",
        "class CNchild(Computer_network):\n",
        "    def __init__(self, name, workstation_count, average_distance,\n",
        "                 data_transfer_speed):\n",
        "        Computer_network.__init__(self, name, workstation_count,\n",
        "                                  average_distance)\n",
        "        if not isinstance(data_transfer_speed, int):\n",
        "            raise TypeError(\"Введите среднюю скорость передачи данных в \" /\n",
        "                            \"сети в виде целого числа.\")\n",
        "        else:\n",
        "            self.dts = data_transfer_speed\n",
        "\n",
        "    def q(self):\n",
        "        mama = super().q()\n",
        "        qp = mama * self.dts\n",
        "        return qp\n",
        "\n",
        "\n",
        "try:\n",
        "    a = Computer_network(\"Чума\", 10, 256.3)\n",
        "    print(a.q())\n",
        "\n",
        "    b = CNchild(\"Улей\", 27, 198, 60000)\n",
        "    print(b.q())\n",
        "except ValueError as s:\n",
        "    print(\"Произошла ошибка!\", s)\n",
        "except TypeError as mmm:\n",
        "    print(\"Проищошла ошибка!\", mmm)\n",
        ""
      ]
    }
  ]
}