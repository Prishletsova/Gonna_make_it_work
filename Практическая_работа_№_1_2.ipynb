{
  "nbformat": 4,
  "nbformat_minor": 0,
  "metadata": {
    "colab": {
      "provenance": [],
      "authorship_tag": "ABX9TyNJYmwyA2bRW4reZf8IVW2+",
      "include_colab_link": true
    },
    "kernelspec": {
      "name": "python3",
      "display_name": "Python 3"
    },
    "language_info": {
      "name": "python"
    }
  },
  "cells": [
    {
      "cell_type": "markdown",
      "metadata": {
        "id": "view-in-github",
        "colab_type": "text"
      },
      "source": [
        "<a href=\"https://colab.research.google.com/github/Prishletsova/Gonna_make_it_work/blob/main/%D0%9F%D1%80%D0%B0%D0%BA%D1%82%D0%B8%D1%87%D0%B5%D1%81%D0%BA%D0%B0%D1%8F_%D1%80%D0%B0%D0%B1%D0%BE%D1%82%D0%B0_%E2%84%96_1_2.ipynb\" target=\"_parent\"><img src=\"https://colab.research.google.com/assets/colab-badge.svg\" alt=\"Open In Colab\"/></a>"
      ]
    },
    {
      "cell_type": "markdown",
      "source": [
        "# №1.2.1 Реализация цитаты Джоржа Бернарда Шоу"
      ],
      "metadata": {
        "id": "_xuHRuF85YBs"
      }
    },
    {
      "cell_type": "code",
      "execution_count": null,
      "metadata": {
        "colab": {
          "base_uri": "https://localhost:8080/"
        },
        "id": "f5UsQcuvyVtO",
        "outputId": "50773aaf-d83f-429f-98e4-7eee34c6f06f"
      },
      "outputs": [
        {
          "output_type": "stream",
          "name": "stdout",
          "text": [
            "Johanna has 2 apples and Martin has 1 apples\n",
            "Johanna has 6 ideas and Martin has 6 ideas\n"
          ]
        }
      ],
      "source": [
        "# “Если у тебя есть яблоко, а у меня есть яблоко, и мы\n",
        "# обменяемся этими яблоками, тогда\n",
        "# у нас с тобой по-прежнему будет по одному яблоку. Но если у\n",
        "# вас есть идея, а у меня есть\n",
        "# идея, и мы обмениваемся этими идеями, тогда у каждого из нас\n",
        "# будет по две идеи”. \n",
        "\n",
        "# Джордж Бернард Шоу\n",
        "class Person:\n",
        "  apples = 0\n",
        "  ideas = 0\n",
        "johanna = Person()\n",
        "johanna.apples = 1\n",
        "johanna.ideas = 1\n",
        "martin = Person()\n",
        "martin.apples = 2\n",
        "martin.ideas = 1\n",
        "def exchange_apples(you, me):\n",
        "    # Здесь, несмотря на цитату Дж.Б. Шоу, наши персонажи начали с\n",
        "    # разного количества яблок, чтобы лучше понять результат.\n",
        "    # Мы собираемся попросить Мартина и Джоанну обменяться ВСЕМИ\n",
        "    # своими яблоками друг с другом.\n",
        "    a = you.apples\n",
        "    b = me.apples\n",
        "    you.apples = b\n",
        "    me.apples = a  \n",
        "    return you.apples, me.apples\n",
        "def exchange_ideas(you, me):\n",
        "    # \"ты\" и \"я\" обменяемся своими идеями друг с другом.\n",
        "    # Какие операции необходимо выполнить, чтобы каждый объект\n",
        "    #  получал общее количество идей?\n",
        "    # Подсказка: как бы вы распределили общее количество идей по\n",
        "    # атрибут каждой идеи? Вам нужна временная переменная для хранения \n",
        "    # суммы идей, или вы можете найти другой способ?\n",
        "    # Используйте здесь столько строк кода, сколько вам нужно.\n",
        "    c = you.ideas + me.ideas\n",
        "    you.ideas = c\n",
        "    me.ideas = c\n",
        "    return you.ideas, me.ideas\n",
        "\n",
        "\n",
        "exchange_apples(johanna, martin)\n",
        "print(\"Johanna has {} apples and Martin has {} apples\".format(johanna.apples,\n",
        "                                                              martin.apples))\n",
        "exchange_ideas(johanna, martin)\n",
        "print(\"Johanna has {} ideas and Martin has {} ideas\".format(johanna.ideas,\n",
        "                                                            martin.ideas)) "
      ]
    },
    {
      "cell_type": "markdown",
      "source": [
        "# №1.2.2 Класс City"
      ],
      "metadata": {
        "id": "XFfsbmoo5joe"
      }
    },
    {
      "cell_type": "code",
      "source": [
        "class City:\n",
        "    name = \"\"\n",
        "    country = \"\"\n",
        "    elevation = 0\n",
        "    population = 0\n",
        "\n",
        "city1 = City()\n",
        "city1.name = \"Cusco\"\n",
        "city1.country = \"Peru\"\n",
        "city1.elevation = 3399\n",
        "city1.population = 358052\n",
        "\n",
        "city2 = City()\n",
        "city2.name = \"Sofia\"\n",
        "city2.country = \"Bulgaria\"\n",
        "city2.elevation = 2290\n",
        "city2.population = 1241675\n",
        "\n",
        "city3 = City()\n",
        "city3.name = \"Seoul\"\n",
        "city3.country = \"South Korea\"\n",
        "city3.elevation = 38\n",
        "city3.population = 9733509\n",
        "\n",
        "def max_elevation_city(min_population): \n",
        "    # Инициализируйте переменную, которая будет содержать\n",
        "    # информация о городе с\n",
        "    # самой высокой возвышенностью\n",
        "    return_city = City()\n",
        "    # Оцените 1-й экземпляр на соответствие требованиям:\n",
        "    # есть ли в городе #1 хотя бы минимальное население и\n",
        "    # является ли его возвышенность самой высокой из оцененных на данный момент?\n",
        "    if city1.population >= min_population:\n",
        "        return_city = city1\n",
        "    if city2.population >= min_population and (city2.elevation > \n",
        "                                                 return_city.elevation):\n",
        "        return_city = city2\n",
        "    if city3.population >= min_population and (city3.elevation > \n",
        "                                                 return_city.elevation):\n",
        "        return_city = city3\n",
        "\n",
        "     #Форматирование возвращаемой строки\n",
        "    if return_city.name:\n",
        "        return f\"{return_city.name}, {return_city.country}\"\n",
        "    else:\n",
        "        return \"\"\n"
      ],
      "metadata": {
        "id": "0R1EKoWe5XNr"
      },
      "execution_count": 6,
      "outputs": []
    },
    {
      "cell_type": "code",
      "source": [
        "print(max_elevation_city(100000))\n",
        "# Вывод на экран \"Cusco, Peru\"\n",
        "print(max_elevation_city(1000000))\n",
        "# Вывод на экран \"Sofia, Bulgaria\"\n",
        "print(max_elevation_city(10000000))"
      ],
      "metadata": {
        "colab": {
          "base_uri": "https://localhost:8080/"
        },
        "id": "GrEp2SLUAlzv",
        "outputId": "2c203127-14a7-4a45-e9fa-904886e3259a"
      },
      "execution_count": 7,
      "outputs": [
        {
          "output_type": "stream",
          "name": "stdout",
          "text": [
            "Cusco, Peru\n",
            "Sofia, Bulgaria\n",
            "\n"
          ]
        }
      ]
    },
    {
      "cell_type": "markdown",
      "source": [
        "# №1.2.3 Furniture"
      ],
      "metadata": {
        "id": "aHrSjB-tTQMn"
      }
    },
    {
      "cell_type": "code",
      "source": [
        "class Furniture:\n",
        "    color = \"\"\n",
        "    material = \"\"\n",
        "\n",
        "table = Furniture()\n",
        "table.color = \"коричневого\"\n",
        "table.material = \"дерева\"\n",
        "\n",
        "couch = Furniture()\n",
        "couch.color = \"красной\"\n",
        "couch.material = \"кожи\"\n",
        "\n",
        "def describe_furniture(piece):\n",
        "    return (\"Этот предмет мебели изготовлен из {} {}\".format(piece.color, \n",
        "                                                             piece.material))\n",
        "    \n",
        "print(describe_furniture(table))\n",
        "# Вывод на экран\" Этот предмет мебели сделан из коричневого дерева \"\n",
        "print(describe_furniture(couch))\n",
        "# Вывод на экран\" Этот предмет мебели сделан из красной кожи \" "
      ],
      "metadata": {
        "colab": {
          "base_uri": "https://localhost:8080/"
        },
        "id": "jOzjLlWwTQbd",
        "outputId": "32705bbd-c37c-41a7-9c7c-4b5d72fb62d6"
      },
      "execution_count": 8,
      "outputs": [
        {
          "output_type": "stream",
          "name": "stdout",
          "text": [
            "Этот предмет мебели изготовлен из коричневого дерева\n",
            "Этот предмет мебели изготовлен из красной кожи\n"
          ]
        }
      ]
    }
  ]
}