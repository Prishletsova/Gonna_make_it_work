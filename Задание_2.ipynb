{
  "nbformat": 4,
  "nbformat_minor": 0,
  "metadata": {
    "colab": {
      "provenance": [],
      "authorship_tag": "ABX9TyMynmN4SpShd0z7JVE/x6y+",
      "include_colab_link": true
    },
    "kernelspec": {
      "name": "python3",
      "display_name": "Python 3"
    },
    "language_info": {
      "name": "python"
    }
  },
  "cells": [
    {
      "cell_type": "markdown",
      "metadata": {
        "id": "view-in-github",
        "colab_type": "text"
      },
      "source": [
        "<a href=\"https://colab.research.google.com/github/Prishletsova/Gonna_make_it_work/blob/main/%D0%97%D0%B0%D0%B4%D0%B0%D0%BD%D0%B8%D0%B5_2.ipynb\" target=\"_parent\"><img src=\"https://colab.research.google.com/assets/colab-badge.svg\" alt=\"Open In Colab\"/></a>"
      ]
    },
    {
      "cell_type": "code",
      "source": [
        "class Track:\n",
        "    def __init__(self, n, m):\n",
        "        self.name = n\n",
        "        self.min = int(m)\n",
        "    a = []\n",
        "    def show1(self):\n",
        "        print(f'{self.name} - {self.min}')\n",
        "        self.a.append(f'{self.name} - {self.min}')\n",
        "\n",
        "    def pri1(self):\n",
        "        print(self.a)\n",
        "\n",
        "    b = []\n",
        "    def show2(self):\n",
        "        print(f'{self.name} - {self.min}')\n",
        "        self.b.append(f'{self.name} - {self.min}')\n",
        "\n",
        "    def pri2(self):\n",
        "        print(self.b)\n",
        "        \n",
        "\n",
        "\n",
        "class Album(Track):\n",
        "    def __init__(self, n, g):\n",
        "        self.name = n\n",
        "        self.groupe = g\n",
        "\n",
        "    def get_tracks1(self):\n",
        "         l = 0\n",
        "         print(f\"Информация по всем трекам из альбома {self.name}:\")\n",
        "         print(\"\")\n",
        "         print(\"\")\n",
        "         for i in self.a:\n",
        "            print(self.a[l])\n",
        "            print(\"\")\n",
        "            l += 1\n",
        "\n",
        "    def add_track1(self, n, m):\n",
        "        Track.__init__(self, n, m)\n",
        "        self.a.append(f'{self.name} - {self.min}')\n",
        "        print(f\"Вы добавили новый трек: {self.name} - {self.min}\")\n",
        "\n",
        "    def get_duration(self):\n",
        "        print(f'Продолжительность альбома: {self.a1}')\n",
        "\n",
        "    def get_tracks2(self):\n",
        "         l = 0\n",
        "         print(f\"Информация по всем трекам из альбома {self.name}:\")\n",
        "         for i in self.b:\n",
        "            print(self.b[l])\n",
        "            print(\"\")\n",
        "            l += 1\n",
        "\n",
        "    def add_track2(self, n, m):\n",
        "        Track.__init__(self, n, m)\n",
        "        self.b.append(f'{self.name} - {self.min}')\n",
        "        print(f\"Вы добавили новый трек: {self.name} - {self.min}\")\n",
        "\n",
        "        \n",
        "\n",
        "\n",
        "\n",
        "a = Track('ааааааааааа', 56)\n",
        "b = Track('kkkkkkk', 4)\n",
        "c = Track('dddddddd', 333)\n",
        "\n",
        "a.show1()\n",
        "b.show1()\n",
        "c.show1()\n",
        "\n",
        "print(\"\")\n",
        "\n",
        "A = Album('NOBRAIN', 'little cats')\n",
        "A.get_tracks1()\n",
        "A.add_track1(\"cfhgvj\", 44)\n",
        "print(\"\")\n",
        "print(\"\")\n",
        "\n",
        "d = Track('fGffggh', 32)\n",
        "e = Track('QQQQ', 2)\n",
        "f = Track('WHEN ITS BE OVER?', 3)\n",
        "\n",
        "a.show2()\n",
        "b.show2()\n",
        "c.show2()\n",
        "print(\"\")\n",
        "\n",
        "B = Album('MAMAHELPMEPLEASE', 'lonely men')\n",
        "B.get_tracks2()\n",
        "B.add_track2(\"jfsgndk\", 8)\n",
        "print(\"\")\n",
        "print(\"\")"
      ],
      "metadata": {
        "colab": {
          "base_uri": "https://localhost:8080/"
        },
        "id": "3YW8JY4SCQyv",
        "outputId": "49a93415-9beb-4752-ad1e-3cf8712c6a73"
      },
      "execution_count": 40,
      "outputs": [
        {
          "output_type": "stream",
          "name": "stdout",
          "text": [
            "ааааааааааа - 56\n",
            "kkkkkkk - 4\n",
            "dddddddd - 333\n",
            "\n",
            "Информация по всем трекам из альбома NOBRAIN:\n",
            "\n",
            "\n",
            "ааааааааааа - 56\n",
            "\n",
            "kkkkkkk - 4\n",
            "\n",
            "dddddddd - 333\n",
            "\n",
            "Вы добавили новый трек: cfhgvj - 44\n",
            "\n",
            "\n",
            "ааааааааааа - 56\n",
            "kkkkkkk - 4\n",
            "dddddddd - 333\n",
            "\n",
            "Информация по всем трекам из альбома MAMAHELPMEPLEASE:\n",
            "ааааааааааа - 56\n",
            "\n",
            "kkkkkkk - 4\n",
            "\n",
            "dddddddd - 333\n",
            "\n",
            "Вы добавили новый трек: jfsgndk - 8\n",
            "\n",
            "\n"
          ]
        }
      ]
    },
    {
      "cell_type": "code",
      "source": [
        "if __name__ == \"__main__\":\n",
        "    pass"
      ],
      "metadata": {
        "id": "K9Tj2dhI96pz"
      },
      "execution_count": null,
      "outputs": []
    }
  ]
}