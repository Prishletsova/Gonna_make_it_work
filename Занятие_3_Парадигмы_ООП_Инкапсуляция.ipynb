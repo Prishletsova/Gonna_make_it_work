{
  "nbformat": 4,
  "nbformat_minor": 0,
  "metadata": {
    "colab": {
      "provenance": [],
      "authorship_tag": "ABX9TyPH6/5Jbre48VtGeglKS19X",
      "include_colab_link": true
    },
    "kernelspec": {
      "name": "python3",
      "display_name": "Python 3"
    },
    "language_info": {
      "name": "python"
    }
  },
  "cells": [
    {
      "cell_type": "markdown",
      "metadata": {
        "id": "view-in-github",
        "colab_type": "text"
      },
      "source": [
        "<a href=\"https://colab.research.google.com/github/Prishletsova/Gonna_make_it_work/blob/main/%D0%97%D0%B0%D0%BD%D1%8F%D1%82%D0%B8%D0%B5_3_%D0%9F%D0%B0%D1%80%D0%B0%D0%B4%D0%B8%D0%B3%D0%BC%D1%8B_%D0%9E%D0%9E%D0%9F_%D0%98%D0%BD%D0%BA%D0%B0%D0%BF%D1%81%D1%83%D0%BB%D1%8F%D1%86%D0%B8%D1%8F.ipynb\" target=\"_parent\"><img src=\"https://colab.research.google.com/assets/colab-badge.svg\" alt=\"Open In Colab\"/></a>"
      ]
    },
    {
      "cell_type": "markdown",
      "source": [
        "Парадигма инкапсуляции предлагает объединять переменные и методы,\n",
        "относящиеся к одному объекту в единый компонент. По сути, соблюдение\n",
        "парадигмы инкапсуляции и заключается в создании классов.\n",
        "\n",
        "Под инкапсуляцией в объектно-ориентированном программировании\n",
        "понимается упаковка данных и методов для их обработки вместе, т. е. в классе.\n",
        "\n",
        "С точки зрения разграничения доступа к атрибутам класса Python является\n",
        "особенным языком - в нем отсутствует механизм, который мог бы запретить\n",
        "доступ к переменной или методу внутри класса. Вместо этого создатели Python\n",
        "предложили соглашение, в соответствии с которым:\n",
        "\n",
        "*   Если переменная/метод начинается с одного нижнего подчеркивания (_protected_example), то – считается защищенным (protected).\n",
        "\n",
        "*   Если переменная/метод начинается с двух нижних подчеркиваний\n",
        "(__private_example), то – считается приватным (private).\n",
        "\n",
        "\n"
      ],
      "metadata": {
        "id": "gyoJYsArQ15I"
      }
    },
    {
      "cell_type": "markdown",
      "source": [
        "Рассмотрим пример создания и работы с публичными (public) методами в Python. "
      ],
      "metadata": {
        "id": "Xz0zy9wiRa9x"
      }
    },
    {
      "cell_type": "code",
      "execution_count": 2,
      "metadata": {
        "id": "XlauwJhkzl-C",
        "colab": {
          "base_uri": "https://localhost:8080/"
        },
        "outputId": "0618f995-ca81-4bd1-b1f2-68b8d1c77dbf"
      },
      "outputs": [
        {
          "output_type": "stream",
          "name": "stdout",
          "text": [
            "Grey\n",
            "Red\n"
          ]
        }
      ],
      "source": [
        "class Car:\n",
        "    def __init__(self, color, model):\n",
        "        # Объявляем публичное поле color\n",
        "        self.color = color\n",
        "\n",
        "# Создаем экземпляр класса Car\n",
        "car = Car('Grey', 'Chevrolet')\n",
        "# Обращаемся к свойству color\n",
        "print(car.color)\n",
        "# Изменяем свойство color\n",
        "car.color = 'Red'\n",
        "print(car.color)"
      ]
    },
    {
      "cell_type": "markdown",
      "source": [
        "В соответствии с соглашением чтобы сделать атрибут класса защищенным\n",
        "(protected), необходимо добавить к имени символ подчеркивания _ . Пример\n",
        "такой реализации представлен ниже."
      ],
      "metadata": {
        "id": "YM1RYwEhT9pn"
      }
    },
    {
      "cell_type": "code",
      "source": [
        "class Car:\n",
        "    def __init__(self, color):\n",
        "        self._color = color "
      ],
      "metadata": {
        "id": "f4-wYimtT-fL"
      },
      "execution_count": 3,
      "outputs": []
    },
    {
      "cell_type": "markdown",
      "source": [
        "В Python такой атрибут все равно будет доступен снаружи класса.\n",
        "Возможно выполнить операции, которые рассмотрены выше. "
      ],
      "metadata": {
        "id": "Hrmh8dEKUI4d"
      }
    },
    {
      "cell_type": "code",
      "source": [
        "# Создаем экземпляр класса Car\n",
        "car = Car('Grey')\n",
        "# Обращаемся к свойству color\n",
        "print(car._color)\n",
        "# Изменяем свойство color\n",
        "car._color = 'Red'\n",
        "print(car._color) "
      ],
      "metadata": {
        "colab": {
          "base_uri": "https://localhost:8080/"
        },
        "id": "b1deO9clUJji",
        "outputId": "e827e4a4-26d8-4228-efe7-14735d0ad06d"
      },
      "execution_count": 4,
      "outputs": [
        {
          "output_type": "stream",
          "name": "stdout",
          "text": [
            "Grey\n",
            "Red\n"
          ]
        }
      ]
    },
    {
      "cell_type": "markdown",
      "source": [
        "Это задача программиста – он не должен работать с атрибутами, имена\n",
        "которых начинаются с нижнего подчёркивания _ , снаружи класса."
      ],
      "metadata": {
        "id": "4Rs4J0zNUTmZ"
      }
    },
    {
      "cell_type": "markdown",
      "source": [
        "Часто намеренно скрываются поля самого класса, а не его объектов.\n",
        "Например, если класс имеет счетчик своих объектов, то необходимо исключить\n",
        "возможность его случайного изменения из вне. Рассмотрим пример с таким\n",
        "счетчиком на языке Python. "
      ],
      "metadata": {
        "id": "aKie1oJpUcmj"
      }
    },
    {
      "cell_type": "code",
      "source": [
        "class B:\n",
        "    count = 0\n",
        "\n",
        "    def __init__(self):\n",
        "        B.count += 1\n",
        "    def __del__(self):\n",
        "        B.count -= 1\n",
        "\n",
        "a = B()\n",
        "b = B() \n",
        "\n",
        "print(B.count) # выведет 2\n",
        "del a\n",
        "print(B.count) # выведет 1\n",
        "\n",
        "B.count -= 1\n",
        "print(B.count) # будет выведен 0, хотя остался объект b "
      ],
      "metadata": {
        "colab": {
          "base_uri": "https://localhost:8080/"
        },
        "id": "46GdP4seUdaT",
        "outputId": "55ff8ed7-b507-4916-bf6d-fb289864f3a5"
      },
      "execution_count": 6,
      "outputs": [
        {
          "output_type": "stream",
          "name": "stdout",
          "text": [
            "2\n",
            "1\n",
            "0\n"
          ]
        }
      ]
    },
    {
      "cell_type": "markdown",
      "source": [
        "Для имитации сокрытия атрибутов в Python используется соглашение – это\n",
        "не синтаксическое правило языка, при желании его можно нарушить, согласно\n",
        "которому, если поле или метод имеют два знака подчеркивания впереди имени,\n",
        "но не сзади, то этот атрибут предусмотрен исключительно для внутреннего\n",
        "пользования. "
      ],
      "metadata": {
        "id": "owZe1JXYVid4"
      }
    },
    {
      "cell_type": "code",
      "source": [
        "class B:\n",
        "    __count = 0\n",
        "    def __init__(self):\n",
        "        B.__count += 1\n",
        "    def __del__(self):\n",
        "        B.__count -= 1\n",
        "\n",
        "a = B()\n",
        "print(B.__count)\n",
        "\n",
        "# Попытка выполнить этот код приведет к выбросу исключения.\n",
        "# File \"test.py\", line 9, in <module> print(B.__count)\n",
        "# AttributeError: type object 'B' has no attribute '__count'"
      ],
      "metadata": {
        "colab": {
          "base_uri": "https://localhost:8080/",
          "height": 235
        },
        "id": "9_xRNsQlVj6P",
        "outputId": "ecc3bf10-ae4c-412d-c1ad-bfda02cacaf1"
      },
      "execution_count": 7,
      "outputs": [
        {
          "output_type": "error",
          "ename": "AttributeError",
          "evalue": "ignored",
          "traceback": [
            "\u001b[0;31m---------------------------------------------------------------------------\u001b[0m",
            "\u001b[0;31mAttributeError\u001b[0m                            Traceback (most recent call last)",
            "\u001b[0;32m<ipython-input-7-be0fab6fb165>\u001b[0m in \u001b[0;36m<cell line: 9>\u001b[0;34m()\u001b[0m\n\u001b[1;32m      7\u001b[0m \u001b[0;34m\u001b[0m\u001b[0m\n\u001b[1;32m      8\u001b[0m \u001b[0ma\u001b[0m \u001b[0;34m=\u001b[0m \u001b[0mB\u001b[0m\u001b[0;34m(\u001b[0m\u001b[0;34m)\u001b[0m\u001b[0;34m\u001b[0m\u001b[0;34m\u001b[0m\u001b[0m\n\u001b[0;32m----> 9\u001b[0;31m \u001b[0mprint\u001b[0m\u001b[0;34m(\u001b[0m\u001b[0mB\u001b[0m\u001b[0;34m.\u001b[0m\u001b[0m__count\u001b[0m\u001b[0;34m)\u001b[0m\u001b[0;34m\u001b[0m\u001b[0;34m\u001b[0m\u001b[0m\n\u001b[0m\u001b[1;32m     10\u001b[0m \u001b[0;34m\u001b[0m\u001b[0m\n\u001b[1;32m     11\u001b[0m \u001b[0;31m# Попытка выполнить этот код приведет к выбросу исключения.\u001b[0m\u001b[0;34m\u001b[0m\u001b[0;34m\u001b[0m\u001b[0m\n",
            "\u001b[0;31mAttributeError\u001b[0m: type object 'B' has no attribute '__count'"
          ]
        }
      ]
    },
    {
      "cell_type": "markdown",
      "source": [
        "То есть атрибут __count за пределами класса становится невидимым, хотя\n",
        "внутри класса он вполне себе видимый. Понятно, если не можем даже получить\n",
        "значение поля за пределами класса, то присвоить ему значение – тем более. На\n",
        "самом деле сокрытие в Python не настоящее и доступ к счетчику получить все же\n",
        "можем. Но для этого надо написать B._B__count."
      ],
      "metadata": {
        "id": "2rn2Qrw1VjMQ"
      }
    },
    {
      "cell_type": "code",
      "source": [
        "print(B._B__count)"
      ],
      "metadata": {
        "colab": {
          "base_uri": "https://localhost:8080/"
        },
        "id": "7pIg3b9wdYzU",
        "outputId": "e44021b0-5079-4b4f-bf5d-899652733fc0"
      },
      "execution_count": 8,
      "outputs": [
        {
          "output_type": "stream",
          "name": "stdout",
          "text": [
            "1\n"
          ]
        }
      ]
    },
    {
      "cell_type": "markdown",
      "source": [
        "Хорошо, мы защитили поле от\n",
        "случайных изменений. Но как теперь получить его значение? Сделать это можно\n",
        "с помощью добавления метода/"
      ],
      "metadata": {
        "id": "g1DGaJxld2Se"
      }
    },
    {
      "cell_type": "code",
      "source": [
        "class B:\n",
        "    __count = 0\n",
        "    def __init__(self):\n",
        "        B.__count += 1\n",
        "    def __del__(self):\n",
        "        B.__count -= 1\n",
        "    def qtyObject():\n",
        "        return B.__count\n",
        "\n",
        "a = B()\n",
        "b = B()\n",
        "\n",
        "print(B.qtyObject()) # будет выведено 2"
      ],
      "metadata": {
        "colab": {
          "base_uri": "https://localhost:8080/"
        },
        "id": "DyVk2LLSd3CW",
        "outputId": "c31fd064-8217-4182-bb0e-5635d3a94176"
      },
      "execution_count": 9,
      "outputs": [
        {
          "output_type": "stream",
          "name": "stdout",
          "text": [
            "2\n"
          ]
        },
        {
          "output_type": "stream",
          "name": "stderr",
          "text": [
            "Exception ignored in: <function B.__del__ at 0x7f505c862b90>\n",
            "Traceback (most recent call last):\n",
            "  File \"<ipython-input-6-1162a7d6cdfd>\", line 7, in __del__\n",
            "AttributeError: type object 'B' has no attribute 'count'\n"
          ]
        }
      ]
    },
    {
      "cell_type": "markdown",
      "source": [
        "В данном случае метод qtyObject()) не принимает объект (нет self), поэтому\n",
        "вызывать его надо через класс. То же самое с методами. Их можно сделать\n",
        "\"приватными\" с помощью двойного подчеркивания. "
      ],
      "metadata": {
        "id": "DeRZqhZUf-sI"
      }
    },
    {
      "cell_type": "code",
      "source": [
        "class DoubleList:\n",
        "    def __init__(self, l):\n",
        "        self.double = DoubleList.__makeDouble(l)\n",
        "    def __makeDouble(old):\n",
        "        new = []\n",
        "        for i in old:\n",
        "            new.append(i)\n",
        "            new.append(i)\n",
        "        return new\n",
        "\n",
        "nums = DoubleList([1, 3, 4, 6, 12])\n",
        "print(nums.double)\n",
        "print(DoubleList.__makeDouble([1,2]))\n",
        "\n",
        "# Результат работы фрагмента кода:\n",
        "# [1, 1, 3, 3, 4, 4, 6, 6, 12, 12]\n",
        "# Traceback (most recent call last):\n",
        "# File \"test.py\", line 13, in <module>\n",
        "# print(DoubleList.__makeDouble([1,2]))\n",
        "# AttributeError: type object 'DoubleList' has no attribute '__makeDouble'"
      ],
      "metadata": {
        "colab": {
          "base_uri": "https://localhost:8080/",
          "height": 252
        },
        "id": "M6A3C9wPgAG7",
        "outputId": "b120925b-4ceb-4fe1-a81e-8e10caa4a13f"
      },
      "execution_count": 10,
      "outputs": [
        {
          "output_type": "stream",
          "name": "stdout",
          "text": [
            "[1, 1, 3, 3, 4, 4, 6, 6, 12, 12]\n"
          ]
        },
        {
          "output_type": "error",
          "ename": "AttributeError",
          "evalue": "ignored",
          "traceback": [
            "\u001b[0;31m---------------------------------------------------------------------------\u001b[0m",
            "\u001b[0;31mAttributeError\u001b[0m                            Traceback (most recent call last)",
            "\u001b[0;32m<ipython-input-10-0f112e4622b9>\u001b[0m in \u001b[0;36m<cell line: 13>\u001b[0;34m()\u001b[0m\n\u001b[1;32m     11\u001b[0m \u001b[0mnums\u001b[0m \u001b[0;34m=\u001b[0m \u001b[0mDoubleList\u001b[0m\u001b[0;34m(\u001b[0m\u001b[0;34m[\u001b[0m\u001b[0;36m1\u001b[0m\u001b[0;34m,\u001b[0m \u001b[0;36m3\u001b[0m\u001b[0;34m,\u001b[0m \u001b[0;36m4\u001b[0m\u001b[0;34m,\u001b[0m \u001b[0;36m6\u001b[0m\u001b[0;34m,\u001b[0m \u001b[0;36m12\u001b[0m\u001b[0;34m]\u001b[0m\u001b[0;34m)\u001b[0m\u001b[0;34m\u001b[0m\u001b[0;34m\u001b[0m\u001b[0m\n\u001b[1;32m     12\u001b[0m \u001b[0mprint\u001b[0m\u001b[0;34m(\u001b[0m\u001b[0mnums\u001b[0m\u001b[0;34m.\u001b[0m\u001b[0mdouble\u001b[0m\u001b[0;34m)\u001b[0m\u001b[0;34m\u001b[0m\u001b[0;34m\u001b[0m\u001b[0m\n\u001b[0;32m---> 13\u001b[0;31m \u001b[0mprint\u001b[0m\u001b[0;34m(\u001b[0m\u001b[0mDoubleList\u001b[0m\u001b[0;34m.\u001b[0m\u001b[0m__makeDouble\u001b[0m\u001b[0;34m(\u001b[0m\u001b[0;34m[\u001b[0m\u001b[0;36m1\u001b[0m\u001b[0;34m,\u001b[0m\u001b[0;36m2\u001b[0m\u001b[0;34m]\u001b[0m\u001b[0;34m)\u001b[0m\u001b[0;34m)\u001b[0m\u001b[0;34m\u001b[0m\u001b[0;34m\u001b[0m\u001b[0m\n\u001b[0m\u001b[1;32m     14\u001b[0m \u001b[0;34m\u001b[0m\u001b[0m\n\u001b[1;32m     15\u001b[0m \u001b[0;31m# Результат работы фрагмента кода:\u001b[0m\u001b[0;34m\u001b[0m\u001b[0;34m\u001b[0m\u001b[0m\n",
            "\u001b[0;31mAttributeError\u001b[0m: type object 'DoubleList' has no attribute '__makeDouble'"
          ]
        }
      ]
    },
    {
      "cell_type": "markdown",
      "source": [
        "Подведя итоги, можно сказать следующее:\n",
        "\n",
        "*   существует три уровня доступа к свойствам/методам класса: public, protected, private;\n",
        "\n",
        "*   физически данный механизм ограничения доступа к атрибутам класса в\n",
        "Python реализован слабо, что от части может противоречить одному из главных\n",
        "принципов ООП - инкапсуляции.\n",
        "\n",
        "*   существует некоторое соглашение, по которому в Python задать уровень\n",
        "доступа к свойству/методу класса можно с помощью добавления к имени одного\n",
        "(protected) или двух (private) подчеркиваний. Ответственность за соблюдение\n",
        "данного соглашения ложится на плечи программистов.\n"
      ],
      "metadata": {
        "id": "BhPw69shg1N7"
      }
    }
  ]
}