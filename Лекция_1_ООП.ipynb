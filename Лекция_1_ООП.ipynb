{
  "nbformat": 4,
  "nbformat_minor": 0,
  "metadata": {
    "colab": {
      "provenance": [],
      "authorship_tag": "ABX9TyNWN4DbbBjgjOj/Gkdn+hS5",
      "include_colab_link": true
    },
    "kernelspec": {
      "name": "python3",
      "display_name": "Python 3"
    },
    "language_info": {
      "name": "python"
    }
  },
  "cells": [
    {
      "cell_type": "markdown",
      "metadata": {
        "id": "view-in-github",
        "colab_type": "text"
      },
      "source": [
        "<a href=\"https://colab.research.google.com/github/Prishletsova/Gonna_make_it_work/blob/main/%D0%9B%D0%B5%D0%BA%D1%86%D0%B8%D1%8F_1_%D0%9E%D0%9E%D0%9F.ipynb\" target=\"_parent\"><img src=\"https://colab.research.google.com/assets/colab-badge.svg\" alt=\"Open In Colab\"/></a>"
      ]
    },
    {
      "cell_type": "markdown",
      "source": [
        "# **1.1 Введение в объектно-ориентированное программирование**\n",
        "\n",
        "Объектно-ориентированное программирование (ООП) – методология\n",
        "программирования, основанная на представлении программы в виде\n",
        "совокупности объектов, каждый из которых является экземпляром\n",
        "определённого класса, а классы образуют иерархию наследования.\n",
        "В основе ООП лежит идея, в соответствии с которой главное в программе\n",
        "– это данные. Именно они определяют, какие методы будут использоваться для\n",
        "их обработки. Т. е. данные первичны, код для обработки этих данных – вторичен. "
      ],
      "metadata": {
        "id": "DGuq5vCCqaWz"
      }
    },
    {
      "cell_type": "markdown",
      "source": [
        "В Python объект – это набор данных и инструкций, хранящихся в памяти\n",
        "компьютера, состоящий из: типа,\n",
        "\n",
        "*   типа,\n",
        "*   уникального идентификатора,\n",
        "*   данных (или контента),\n",
        "*   методов.\n"
      ],
      "metadata": {
        "id": "ilPE8RNUqu5M"
      }
    },
    {
      "cell_type": "markdown",
      "source": [
        "**1.3.1 Тип**"
      ],
      "metadata": {
        "id": "CV9IM9E8ruiR"
      }
    },
    {
      "cell_type": "code",
      "source": [
        "s = 'Это строка'\n",
        "type(s)"
      ],
      "metadata": {
        "colab": {
          "base_uri": "https://localhost:8080/"
        },
        "id": "7AaEOjblkqkF",
        "outputId": "c5fc0266-76c0-4cf9-fbce-a983dcc69c2c"
      },
      "execution_count": null,
      "outputs": [
        {
          "output_type": "execute_result",
          "data": {
            "text/plain": [
              "str"
            ]
          },
          "metadata": {},
          "execution_count": 2
        }
      ]
    },
    {
      "cell_type": "code",
      "source": [
        "x = 42 # Создание переменной целочисленного типа\n",
        "type(x)"
      ],
      "metadata": {
        "colab": {
          "base_uri": "https://localhost:8080/"
        },
        "id": "0y5GRdV9kxcP",
        "outputId": "685215c5-1806-4f9d-9421-c4b5a5bc31cc"
      },
      "execution_count": null,
      "outputs": [
        {
          "output_type": "execute_result",
          "data": {
            "text/plain": [
              "int"
            ]
          },
          "metadata": {},
          "execution_count": 3
        }
      ]
    },
    {
      "cell_type": "code",
      "source": [
        "int('300') + 400"
      ],
      "metadata": {
        "colab": {
          "base_uri": "https://localhost:8080/"
        },
        "id": "Cqr9M4OKsOwr",
        "outputId": "dbe93f46-9755-4a37-ca09-19a2c9bd05fb"
      },
      "execution_count": null,
      "outputs": [
        {
          "output_type": "execute_result",
          "data": {
            "text/plain": [
              "700"
            ]
          },
          "metadata": {},
          "execution_count": 6
        }
      ]
    },
    {
      "cell_type": "markdown",
      "source": [
        "**1.3.2 Уникальный идентификатор**"
      ],
      "metadata": {
        "id": "kkz4bCQssdUs"
      }
    },
    {
      "cell_type": "code",
      "source": [
        "y = 2.5\n",
        "x = 2.5\n",
        "print(id(y))\n",
        "print(id(x))"
      ],
      "metadata": {
        "colab": {
          "base_uri": "https://localhost:8080/"
        },
        "id": "5SDhKDHuGM8Z",
        "outputId": "3c4ebffc-883b-410a-b944-e5a7294bcfe2"
      },
      "execution_count": null,
      "outputs": [
        {
          "output_type": "stream",
          "name": "stdout",
          "text": [
            "139829479500368\n",
            "139829479501360\n"
          ]
        }
      ]
    },
    {
      "cell_type": "markdown",
      "source": [
        "**1.3.3 Содержимое объекта: данные и атрибуты**"
      ],
      "metadata": {
        "id": "uWQSVCgJtqq8"
      }
    },
    {
      "cell_type": "code",
      "source": [
        "x = 42\n",
        "x\n",
        "print(x.imag)\n",
        "print(x.__class__) "
      ],
      "metadata": {
        "colab": {
          "base_uri": "https://localhost:8080/"
        },
        "id": "g8bDp4kVI7CK",
        "outputId": "ad74a129-c019-49af-e3e6-23aa2b53bb76"
      },
      "execution_count": null,
      "outputs": [
        {
          "output_type": "stream",
          "name": "stdout",
          "text": [
            "0\n",
            "<class 'int'>\n"
          ]
        }
      ]
    },
    {
      "cell_type": "markdown",
      "source": [
        "Когда Python создает этот целочисленный объект, он сохраняет с ним\n",
        "различную вспомогательную информацию, такую как мнимая часть и тип.\n",
        "Любое имя, следующее за точкой, называется атрибутом объекта слева от точки.\n",
        "например, ``imag`` и __class__ являются атрибутами x. Из этого примера видно,\n",
        "что у объектов есть атрибуты, содержащие вспомогательную информацию. У\n",
        "них также есть атрибуты, которые действуют как функции, называемые\n",
        "методами. \n"
      ],
      "metadata": {
        "id": "NUZ847XhtzHh"
      }
    },
    {
      "cell_type": "markdown",
      "source": [
        "**1.3.4 Методы** \n",
        "\n",
        "Методы Методы – это функции, связанные с объектами. Формально методы – это атрибуты объектов, которые могут вызываться (т. е. могут вызываться как функции)."
      ],
      "metadata": {
        "id": "geMcqtPnSj62"
      }
    },
    {
      "cell_type": "code",
      "source": [
        "x = ['foo', 'bar']\n",
        "print(callable(x.append)) \n",
        "print(callable(x.__doc__))"
      ],
      "metadata": {
        "colab": {
          "base_uri": "https://localhost:8080/"
        },
        "id": "Ow6vdAUqR4k6",
        "outputId": "ecfd010b-057e-45e5-8a8f-b4224601a8a1"
      },
      "execution_count": null,
      "outputs": [
        {
          "output_type": "stream",
          "name": "stdout",
          "text": [
            "True\n",
            "False\n"
          ]
        }
      ]
    },
    {
      "cell_type": "code",
      "source": [
        "class Pup:\n",
        "    \"\"\" fffffffffffjjjjjjjjjjjjoooooooooo \"\"\"\n",
        "    def inh():\n",
        "        pass\n",
        "\n",
        "Pup.__doc__"
      ],
      "metadata": {
        "colab": {
          "base_uri": "https://localhost:8080/",
          "height": 36
        },
        "id": "AKnfpkL_vYgm",
        "outputId": "3d340977-051d-446c-9d15-59b01444a77e"
      },
      "execution_count": null,
      "outputs": [
        {
          "output_type": "execute_result",
          "data": {
            "text/plain": [
              "' fffffffffffjjjjjjjjjjjjoooooooooo '"
            ],
            "application/vnd.google.colaboratory.intrinsic+json": {
              "type": "string"
            }
          },
          "metadata": {},
          "execution_count": 10
        }
      ]
    },
    {
      "cell_type": "code",
      "source": [
        "x = ['a', 'b'] \n",
        "x.append('c')\n",
        "x"
      ],
      "metadata": {
        "colab": {
          "base_uri": "https://localhost:8080/"
        },
        "id": "DlW7TjqdTU_W",
        "outputId": "142db80f-683d-474a-df36-0fb7a684a1e8"
      },
      "execution_count": null,
      "outputs": [
        {
          "output_type": "execute_result",
          "data": {
            "text/plain": [
              "['a', 'b', 'c']"
            ]
          },
          "metadata": {},
          "execution_count": 14
        }
      ]
    },
    {
      "cell_type": "code",
      "source": [
        "s = 'This is a string'\n",
        "print(s.upper())\n",
        "print(s.lower())\n",
        "print(s.replace('This', 'That'))\n"
      ],
      "metadata": {
        "id": "2xIYFVlkTp3C",
        "colab": {
          "base_uri": "https://localhost:8080/"
        },
        "outputId": "cc6aefca-1469-48ad-bd7b-99b06703951b"
      },
      "execution_count": null,
      "outputs": [
        {
          "output_type": "stream",
          "name": "stdout",
          "text": [
            "THIS IS A STRING\n",
            "this is a string\n",
            "That is a string\n"
          ]
        }
      ]
    },
    {
      "cell_type": "code",
      "source": [
        "x = ['a', 'b']\n",
        "x[0] = 'aa'\n",
        "x"
      ],
      "metadata": {
        "colab": {
          "base_uri": "https://localhost:8080/"
        },
        "id": "i3VLCZyBokFZ",
        "outputId": "91a10b7b-7ad3-49ac-dec9-6e1d2c66c8d2"
      },
      "execution_count": null,
      "outputs": [
        {
          "output_type": "execute_result",
          "data": {
            "text/plain": [
              "['aa', 'b']"
            ]
          },
          "metadata": {},
          "execution_count": 7
        }
      ]
    },
    {
      "cell_type": "code",
      "source": [
        "x = ['a', 'b']\n",
        "x.__setitem__(0, 'aa') # Equivalent to x[0] = 'aa'\n",
        "x "
      ],
      "metadata": {
        "colab": {
          "base_uri": "https://localhost:8080/"
        },
        "id": "D7poTiAto3fi",
        "outputId": "4b8809be-c7c5-4abe-8f91-513fdf272fe8"
      },
      "execution_count": null,
      "outputs": [
        {
          "output_type": "execute_result",
          "data": {
            "text/plain": [
              "['aa', 'b']"
            ]
          },
          "metadata": {},
          "execution_count": 8
        }
      ]
    },
    {
      "cell_type": "markdown",
      "source": [
        "В Python все, что находится в памяти, рассматривается как объект. Сюда\n",
        "входят не только списки, строки и т. д., но и менее очевидные вещи, такие как:\n",
        "\n",
        "*   функции (после того, как они были считаны в память),\n",
        "*   модули (тоже самое),\n",
        "*   файлы, открытые для чтения или записи,\n",
        "*   целые числа и т.д.\n",
        "\n",
        "Когда Python читает определение функции, он создает объект функции и\n",
        "сохраняет его в памяти."
      ],
      "metadata": {
        "id": "UrYAqZUbw0Dw"
      }
    },
    {
      "cell_type": "markdown",
      "source": [
        "**1.4 Определение собственных классов и объектов в Python**\n",
        "\n",
        "Классы на языке Python – это абстрактные классы, которые описывают\n",
        "сущности предметной области, содержат атрибуты (свойства), методы и\n",
        "предназначены для создания экземпляров (объектов) класса. Как подчеркивалось\n",
        "ранее, в Python любое значение (данные) – это объект. Списки, числа, кортежи и\n",
        "т.п. являются все теми же объектами, а переменные, которым присваиваются\n",
        "объекты, являются ссылками на них.\n",
        "Создание классов и присвоение их\n",
        "определенным переменным в ООП считается созданием экземпляра класса.\n",
        "Для создания класса используется инструкция class. Синтаксис:\n",
        "\n",
        "class имя_класса:\n",
        "  переменная=значение\n",
        "  def имя_метода(self, [список передаваемых переменных]):\n",
        "    s e l f .переменная=значение\n",
        "\n",
        "```\n",
        "class имя_класса:\n",
        "    переменная=значение\n",
        "    def имя_метода(self, [список передаваемых переменных]):\n",
        "        s e l f .переменная=значение\n",
        "```\n",
        "\n",
        " "
      ],
      "metadata": {
        "id": "x0LFFLuBq1_s"
      }
    },
    {
      "cell_type": "code",
      "source": [
        "class Car:\n",
        "    pass \n",
        "\n",
        "car_object = Car()\n",
        "\n",
        "print(type(Car))\n",
        "print(type(car_object))"
      ],
      "metadata": {
        "id": "bZm6aY2Cq4wK",
        "colab": {
          "base_uri": "https://localhost:8080/"
        },
        "outputId": "ffa62025-949e-404c-a4bb-e0b5eb36effa"
      },
      "execution_count": null,
      "outputs": [
        {
          "output_type": "stream",
          "name": "stdout",
          "text": [
            "<class 'type'>\n",
            "<class '__main__.Car'>\n"
          ]
        }
      ]
    },
    {
      "cell_type": "markdown",
      "source": [
        " **1.4.2 Атрибуты класса в Python**\n",
        " \n",
        "Атрибутом класса/объекта называется любой элемент класса/объекта\n",
        "(переменную, метод, подкласс), на который можно сослаться через символ\n",
        "точки. Например:\n",
        "\n",
        "MyClass.<атрибут> или my_object.<атрибут>.\n",
        "\n",
        "Все атрибуты можно разделить на 2 группы:\n",
        "\n",
        "*   встроенные(служебные) атрибуты;\n",
        "*   пользовательские атрибуты.\n",
        "\n",
        " \n"
      ],
      "metadata": {
        "id": "Q9G4bY78zOKI"
      }
    },
    {
      "cell_type": "markdown",
      "source": [
        " **1.4.2.1 Встроенные атрибуты**\n",
        " \n",
        "Все классы, начиная с 3-й версии Python, имеют один общий родительский\n",
        "класс – object. Это значит, что когда создается новый класс, он неявно\n",
        "наследуется от класса object, и потому новый класс наследует все его атрибуты.\n",
        "Именно их и называют встроенными(служебными)."
      ],
      "metadata": {
        "id": "M_p46vc8r0Lf"
      }
    },
    {
      "cell_type": "markdown",
      "source": [
        "АТРИБУТЫ И ИХ НАЗНАЧЕНИЕ"
      ],
      "metadata": {
        "id": "Jickn0-QsQ9u"
      }
    },
    {
      "cell_type": "markdown",
      "source": [
        "Конструктор. Создает экземпляр(объект) класса. Сам класс передается в качестве аргумента."
      ],
      "metadata": {
        "id": "_hNCdpEwsTuu"
      }
    },
    {
      "cell_type": "code",
      "source": [
        "__new__(cls[, ...])"
      ],
      "metadata": {
        "id": "vWfUF7cEsfND"
      },
      "execution_count": null,
      "outputs": []
    },
    {
      "cell_type": "markdown",
      "source": [
        "Инициализатор. Принимает объект класса из конструктора."
      ],
      "metadata": {
        "id": "MNB1DdcStEjH"
      }
    },
    {
      "cell_type": "code",
      "source": [
        "__init__(self[, ...])"
      ],
      "metadata": {
        "id": "Odc2IKAgtE-S"
      },
      "execution_count": null,
      "outputs": []
    },
    {
      "cell_type": "markdown",
      "source": [
        "Деструктор. Вызывается при удалении объекта сборщиком мусора"
      ],
      "metadata": {
        "id": "yRA4TWQttaUO"
      }
    },
    {
      "cell_type": "code",
      "source": [
        "__del__(self)"
      ],
      "metadata": {
        "id": "lJXQYRYFtagg"
      },
      "execution_count": null,
      "outputs": []
    },
    {
      "cell_type": "markdown",
      "source": [
        "Возвращает строковое представление объекта."
      ],
      "metadata": {
        "id": "zTBUux81tlUF"
      }
    },
    {
      "cell_type": "code",
      "source": [
        "__str__(self)"
      ],
      "metadata": {
        "id": "5-zJr2Y2tlfP"
      },
      "execution_count": null,
      "outputs": []
    },
    {
      "cell_type": "markdown",
      "source": [
        "Возвращает хэш-сумму объекта."
      ],
      "metadata": {
        "id": "_zHs3_KyttfQ"
      }
    },
    {
      "cell_type": "code",
      "source": [
        "__hash__(self) "
      ],
      "metadata": {
        "id": "1sH1cMvktts2"
      },
      "execution_count": null,
      "outputs": []
    },
    {
      "cell_type": "markdown",
      "source": [
        "Создает новый атрибут для объекта класса с именем attr и значением val "
      ],
      "metadata": {
        "id": "lzHbZq5CtzYC"
      }
    },
    {
      "cell_type": "code",
      "source": [
        "__setattr__(self, attr, val) "
      ],
      "metadata": {
        "id": "iipyg7Tttzmy"
      },
      "execution_count": null,
      "outputs": []
    },
    {
      "cell_type": "markdown",
      "source": [
        "Документация класса. "
      ],
      "metadata": {
        "id": "P6khiOlbuFV-"
      }
    },
    {
      "cell_type": "code",
      "source": [
        "__doc__ "
      ],
      "metadata": {
        "id": "Hk7Q2QatuFjx"
      },
      "execution_count": null,
      "outputs": []
    },
    {
      "cell_type": "markdown",
      "source": [
        "Словарь, в котором хранится пространство имен класса"
      ],
      "metadata": {
        "id": "CYYDF5zauLGJ"
      }
    },
    {
      "cell_type": "code",
      "source": [
        "__dict__ "
      ],
      "metadata": {
        "id": "c4FxoStuuLSR"
      },
      "execution_count": null,
      "outputs": []
    },
    {
      "cell_type": "markdown",
      "source": [
        "В теории ООП конструктор класса – это специальный блок инструкций,\n",
        "который вызывается при создании объекта. При написании кода считается, что\n",
        "метод __init__(self) – это и есть конструктор, но это не совсем так. При создании\n",
        "объекта в Python вызывается метод __new__(cls, *args, **kwargs) – он является\n",
        "конструктором класса. Метод __init__() является инициализатором класса.\n",
        "Этот метод первый принимает созданный конструктором объект."
      ],
      "metadata": {
        "id": "NldpFDtq0geI"
      }
    },
    {
      "cell_type": "markdown",
      "source": [
        " **1.4.2.2 Пользовательские атрибуты**\n",
        " \n",
        "Это атрибуты, которые непосредственно составляют основной\n",
        "функционал класса. Если служебные атрибуты наследуются от базового класса\n",
        "object, то пользовательские – пишутся программистом во время реализации\n",
        "класса. "
      ],
      "metadata": {
        "id": "dtFCwCwG0yxs"
      }
    },
    {
      "cell_type": "code",
      "source": [
        "class Car:\n",
        "    color = 'Grey'\n",
        "    def drive(self):\n",
        "        pass\n",
        "    def price(self):\n",
        "        pass \n"
      ],
      "metadata": {
        "id": "6YbVQweNikNe"
      },
      "execution_count": null,
      "outputs": []
    },
    {
      "cell_type": "markdown",
      "source": [
        "Пользовательскими атрибутами являются color, drive, price. Список\n",
        "атрибутов класса / объекта можно получить с помощью команды dir().\n",
        "Посмотрим атрибуты класса Car на примере ниже:"
      ],
      "metadata": {
        "id": "rT7e2Efo1BXO"
      }
    },
    {
      "cell_type": "code",
      "source": [
        "car_object = Car()\n",
        "dir(car_object) "
      ],
      "metadata": {
        "colab": {
          "base_uri": "https://localhost:8080/"
        },
        "id": "EAXcHDfzjIJV",
        "outputId": "ef8a3932-6781-4cdb-c446-44c317b03963"
      },
      "execution_count": null,
      "outputs": [
        {
          "output_type": "execute_result",
          "data": {
            "text/plain": [
              "['__class__',\n",
              " '__delattr__',\n",
              " '__dict__',\n",
              " '__dir__',\n",
              " '__doc__',\n",
              " '__eq__',\n",
              " '__format__',\n",
              " '__ge__',\n",
              " '__getattribute__',\n",
              " '__gt__',\n",
              " '__hash__',\n",
              " '__init__',\n",
              " '__init_subclass__',\n",
              " '__le__',\n",
              " '__lt__',\n",
              " '__module__',\n",
              " '__ne__',\n",
              " '__new__',\n",
              " '__reduce__',\n",
              " '__reduce_ex__',\n",
              " '__repr__',\n",
              " '__setattr__',\n",
              " '__sizeof__',\n",
              " '__str__',\n",
              " '__subclasshook__',\n",
              " '__weakref__',\n",
              " 'color',\n",
              " 'drive',\n",
              " 'price']"
            ]
          },
          "metadata": {},
          "execution_count": 2
        }
      ]
    },
    {
      "cell_type": "markdown",
      "source": [
        " **1.4.3 Поля (свойства) класса в Python**\n",
        "\n",
        "Поля(свойства или переменные) делятся на две основные группы:\n",
        "*   статические поля;\n",
        "*   динамические поля.\n",
        "\n",
        "\n",
        " "
      ],
      "metadata": {
        "id": "YIfQl6KijUOG"
      }
    },
    {
      "cell_type": "markdown",
      "source": [
        "**1.4.3.1 Статические поля (переменные или свойства класса)**\n",
        "\n",
        "Это переменные, которые объявляются внутри тела класса и создаются\n",
        "тогда, когда создается класс. Создали класс – создалась переменная. "
      ],
      "metadata": {
        "id": "xvK-xULMkjp3"
      }
    },
    {
      "cell_type": "code",
      "source": [
        "class Car:\n",
        "# Статические поля (переменные класса)\n",
        "    default_color = 'Grey'\n",
        "    default_model = 'BMW'\n",
        "    def drive(self):\n",
        "        pass\n",
        "    def price(self):\n",
        "        pass \n",
        "\n",
        "bip = Car()\n",
        "print(bip.default_color)\n",
        "print(bip.default_model)"
      ],
      "metadata": {
        "id": "QP3CBUCkjiVi",
        "colab": {
          "base_uri": "https://localhost:8080/"
        },
        "outputId": "d45922da-7b35-4054-9a2a-16ff79e3b02a"
      },
      "execution_count": null,
      "outputs": [
        {
          "output_type": "stream",
          "name": "stdout",
          "text": [
            "Grey\n",
            "BMW\n"
          ]
        }
      ]
    },
    {
      "cell_type": "markdown",
      "source": [
        "**1.4.3.2 Динамические поля (переменные или свойства экземпляра класса)**\n",
        "\n",
        "Это переменные, которые создаются на уровне экземпляра класса. Нет\n",
        "экземпляра - нет его переменных. Для создания динамического свойства\n",
        "необходимо обратиться к self внутри метода."
      ],
      "metadata": {
        "id": "iV_Vqt31lOJB"
      }
    },
    {
      "cell_type": "code",
      "source": [
        "class Car:\n",
        "    default_color = 'Grey'\n",
        "    default_model = 'BMW'\n",
        "    def __init__(self, color, model):\n",
        "# Динамические поля (переменные объекта)\n",
        "        self.color = color\n",
        "        self.model = model \n",
        "\n",
        "bip = Car(\"Yellow\", \"Toyota\")\n",
        "print(bip.color)\n",
        "print(bip.model)"
      ],
      "metadata": {
        "id": "iHCnf4TTlRCG",
        "colab": {
          "base_uri": "https://localhost:8080/"
        },
        "outputId": "95eed9ab-3d3d-4f61-f2ab-38e3cb56848e"
      },
      "execution_count": null,
      "outputs": [
        {
          "output_type": "stream",
          "name": "stdout",
          "text": [
            "Yellow\n",
            "Toyota\n"
          ]
        }
      ]
    },
    {
      "cell_type": "markdown",
      "source": [
        "**1.4.4 Методы класса**\n",
        "\n",
        "Функции внутри класса называются методами. Определяют три основных\n",
        "группы:\n",
        "1. методы экземпляра класса;\n",
        "2. статические методы;\n",
        "3. методы класса. "
      ],
      "metadata": {
        "id": "SP7PWolJl_Ve"
      }
    },
    {
      "cell_type": "markdown",
      "source": [
        "**1.4.4.1 Методы экземпляра класса**\n",
        "\n",
        "Это группа методов, которые становятся доступны только после создания\n",
        "экземпляра класса, то есть чтобы вызвать такой метод, надо обратиться к\n",
        "экземпляру. Как следствие – первым параметром такого метода является\n",
        "слово self. С помощью данного параметра в метод передается ссылка на объект\n",
        "класса, для которого он был вызван."
      ],
      "metadata": {
        "id": "ZzDAT9mamNRA"
      }
    },
    {
      "cell_type": "code",
      "source": [
        "class Car:\n",
        "    def __init__(self, color, model):\n",
        "        self.color = color\n",
        "        self.model = model\n",
        "# Методы экземпляра класса\n",
        "# Первый параметр метода - self\n",
        "    def check_sim(self, country):\n",
        "        if self.model == 'BMW' and country == 'Germany':\n",
        "            print('Your car is good')\n",
        "\n",
        "\n",
        "bipbip = Car(\"Black\", \"BMW\")\n",
        "bipbip.color\n",
        "bipbip.model\n",
        "bipbip.check_sim(\"Germany\")"
      ],
      "metadata": {
        "id": "AdYllczhmmtV",
        "colab": {
          "base_uri": "https://localhost:8080/"
        },
        "outputId": "15fce5be-4b79-44e3-9306-0e6d778d133b"
      },
      "execution_count": null,
      "outputs": [
        {
          "output_type": "stream",
          "name": "stdout",
          "text": [
            "Your car is good\n"
          ]
        }
      ]
    },
    {
      "cell_type": "markdown",
      "source": [
        "**1.4.4.2 Статические методы**\n",
        "\n",
        "Статические методы – это функции, которые помещены в класс и\n",
        "располагаются в области видимости этого класса. Особенность заключается в\n",
        "том, что данные методы можно вызывать посредством обращения к имени\n",
        "класса, создавать объект класса при этом не обязательно. В таких методах не\n",
        "используется self – этому методу не важна информация об объектах класса.\n",
        "Чтобы создать статический метод в Python, необходимо воспользоваться\n",
        "специальным декоратором - @staticmethod."
      ],
      "metadata": {
        "id": "1OXk0EcunRP_"
      }
    },
    {
      "cell_type": "code",
      "source": [
        "import hashlib\n",
        "class Car:\n",
        "# Статический метод справочного характера\n",
        "# Возвращает хэш по номеру модели\n",
        "# self внутри метода отсутствует\n",
        "    @staticmethod\n",
        "    def model_hash(model):\n",
        "        if model == 'BMW':\n",
        "            return 'the machine series is not defined in'\n",
        "        elif model == 'BMW X6':\n",
        "            return hash(model)\n",
        "        else:\n",
        "            return 'The manufacturer is not defined'\n",
        "# Обычный метод\n",
        "    def check_model(self, model):\n",
        "        pass \n",
        "\n",
        "bip = Car()\n",
        "print(bip.model_hash(\"BMW\"))\n",
        "print(bip.model_hash(\"BMW X6\"))\n",
        "print(bip.model_hash(\"Toyota\"))\n",
        "print(bip.check_model(\"Porsche\"))"
      ],
      "metadata": {
        "id": "ZDTvt8nxnhEL",
        "colab": {
          "base_uri": "https://localhost:8080/"
        },
        "outputId": "3ed6be5b-378c-4b63-c0b1-b6161e06c6b3"
      },
      "execution_count": null,
      "outputs": [
        {
          "output_type": "stream",
          "name": "stdout",
          "text": [
            "the machine series is not defined in\n",
            "5468968717774226361\n",
            "The manufacturer is not defined\n",
            "None\n"
          ]
        }
      ]
    },
    {
      "cell_type": "markdown",
      "source": [
        "**1.4.4.3 Методы класса**\n",
        "\n",
        "Методы класса являются средним между обычными методами (привязаны к\n",
        "объекту) и статическими методами (привязаны только к области видимости).\n",
        "Такие методы могут менять состояние самого класса, что в свою очередь\n",
        "отражается на ВСЕХ экземплярах данного класса. При этом менять конкретный\n",
        "объект класса они не могут (этим занимаются методы экземпляра класса).\n",
        "Чтобы создать метод класса, необходимо воспользоваться соответствующим\n",
        "декоратором - @classmethod. При этом в качестве первого параметра такого\n",
        "метода передается служебное слово cls, которое в отличие от self является\n",
        "ссылкой на сам класс (а не на объект)."
      ],
      "metadata": {
        "id": "ztjLOWzww7S8"
      }
    },
    {
      "cell_type": "code",
      "source": [
        "class Car:\n",
        "    def __init__(self, color, model, price):\n",
        "        self.color = color\n",
        "        self.model = model\n",
        "        self.price = price\n",
        " # Метод класса\n",
        " # Принимает 1) ссылку на класс Car и 2) цвет в качестве параметров\n",
        " # Создает специфический объект класса Car(особенность объекта в том,\n",
        " # что это модель от завода изготовителя)\n",
        " # При этом вызывается инициализатор класса Car\n",
        " # которому в качестве аргументов передается цвет и модель,\n",
        " # соответствующую оригинальной машины\n",
        "    @classmethod\n",
        "    def origin_car(cls, color):\n",
        "        origin_car = cls(color, 'Origin Car from Germany', None)\n",
        "        return origin_car\n",
        " # Статический метод\n",
        "    @staticmethod\n",
        "    def model_hash(model):\n",
        "        if model == 'BMW':\n",
        "            return 'the machine series is not defined in'\n",
        "        elif model == 'BMW X6':\n",
        "            return hash(model)\n",
        "        else:\n",
        "            return 'The manufacturer is not defined'\n",
        " # Обычный метод\n",
        "    def check_model(self, model):\n",
        "        pass\n",
        "\n",
        "a = Car(\"White\", \"Porsche\", 5650000)\n",
        "a.origin_car(\"White\")"
      ],
      "metadata": {
        "colab": {
          "base_uri": "https://localhost:8080/"
        },
        "id": "gx4HNM8YxkRW",
        "outputId": "cd48f196-df61-4d91-ff60-9291be94d6c2"
      },
      "execution_count": null,
      "outputs": [
        {
          "output_type": "execute_result",
          "data": {
            "text/plain": [
              "<__main__.Car at 0x7f40ce909c70>"
            ]
          },
          "metadata": {},
          "execution_count": 14
        }
      ]
    },
    {
      "cell_type": "markdown",
      "source": [
        "**1.4.5 Метод __init__()**\n",
        "\n",
        "Метод класса __init __() – специальный метод, который при создании\n",
        "экземпляра класса автоматически создает ему атрибуты (указывается два\n",
        "нижних подчеркивания слева и справа). Синтаксис:\n",
        "\n",
        "\n",
        "```\n",
        "def __init __(self [, список передаваемых аргументов]):\n",
        "    self.имя_аргумента=передаваемый аргумент(значение)\n",
        "```\n",
        "\n",
        "\n",
        "\n",
        "При этом некоторые аргументы можно задать по умолчанию. Тогда в\n",
        "случае отсутствия значения аргумента его значение будет установлено по\n",
        "умолчанию.\n",
        "\n",
        "Использование ссылки на экземпляр класса позволяет на основе уже\n",
        "существующего экземпляра создать новый экземпляр класса простым\n",
        "присвоением."
      ],
      "metadata": {
        "id": "JkHR5TNrzrsM"
      }
    },
    {
      "cell_type": "code",
      "source": [
        "class student:\n",
        "    def __init__(self, kurs, idl):\n",
        "        self.kurs = kurs\n",
        "        self.id = idl\n",
        "\n",
        "idl = input('Введите идентификатор студента: ')\n",
        "kurs = input('Введите курс студента : ')\n",
        "studentl = student(kurs, idl) # создание экземпляра\n",
        "print('Курс :', studentl.kurs, studentl.id, sep = ' ')\n",
        "\n",
        "student2 = studentl\n",
        "idl = input('Введите идентификатор 2-го студента: ')\n",
        "student2.id =idl\n",
        "print('Курс: 1', studentl.kurs, studentl.id, sep = ' ')\n",
        "kurs=input('Введите новый курс студентов: ')\n",
        "studentl.kurs = kurs\n",
        "print('Новый курс : ', studentl.kurs , 'Идентификатор:',\n",
        "studentl.id, sep = ' ')\n",
        "print('Новый курс : ', student2.kurs, 'Идентификатор:',\n",
        "student2.id, sep = ' ')"
      ],
      "metadata": {
        "colab": {
          "base_uri": "https://localhost:8080/"
        },
        "id": "W3UL8LHe1Mvo",
        "outputId": "8183ce45-99c7-4c24-e9db-5d6324d7dc4b"
      },
      "execution_count": null,
      "outputs": [
        {
          "output_type": "stream",
          "name": "stdout",
          "text": [
            "Введите идентификатор студента: a\n",
            "Введите курс студента : 1\n",
            "Курс : 1 a\n",
            "Введите идентификатор 2-го студента: b\n",
            "Курс: 1 1 b\n",
            "Введите новый курс студентов: 3\n",
            "Новый курс :  3 Идентификатор: b\n",
            "Новый курс :  3 Идентификато2р: b\n"
          ]
        }
      ]
    },
    {
      "cell_type": "markdown",
      "source": [
        "**Пример Класс Consumer**\n",
        "\n",
        "Создать класс Потребитель (Customer). с атрибутом достатка, в котором\n",
        "хранится текущее материальное состояние (данные) потребителя, метод\n",
        "заработка, где метод заработка (y) увеличивает достаток потребителя на y, метод\n",
        "расходов, где трата (x) либо уменьшает достаток на x, либо возвращается\n",
        "значение ошибка, если недостаточно средств.\n",
        "Определим две функции earn и spend. "
      ],
      "metadata": {
        "id": "agV99TLK5ttB"
      }
    },
    {
      "cell_type": "code",
      "source": [
        "def earn(w, y):\n",
        "# Потребитель с первоначальным достатком w зарабатывает y\n",
        "    return w+y\n",
        "\n",
        "def spend(w, x):\n",
        "# Потребитель с начальным достатком w тратит x \"\n",
        "    new_wealth = w -x\n",
        "    if new_wealth < 0:\n",
        "        print(\"Insufficient funds\")\n",
        "    else:\n",
        "        return new_wealth\n",
        "\n",
        "w0=100\n",
        "w1=earn(w0,10)\n",
        "w2=spend(w1,20)\n",
        "w3=earn(w2,10)\n",
        "w4=spend(w3,20)\n",
        "print(\"w0,w1,w2,w3,w4 = \", w0,w1,w2,w3,w4)"
      ],
      "metadata": {
        "colab": {
          "base_uri": "https://localhost:8080/"
        },
        "id": "INzKXEYmGUOZ",
        "outputId": "16e521c9-01fe-4182-cd2a-d6981364c4e3"
      },
      "execution_count": null,
      "outputs": [
        {
          "output_type": "stream",
          "name": "stdout",
          "text": [
            "w0,w1,w2,w3,w4 =  100 110 90 100 80\n"
          ]
        }
      ]
    },
    {
      "cell_type": "markdown",
      "source": [
        "**Пример класса Consumer**"
      ],
      "metadata": {
        "id": "EojrnRVVIHvU"
      }
    },
    {
      "cell_type": "code",
      "source": [
        "class Consumer:\n",
        "    def __init__(self, w):\n",
        "# Initialize consumer with w dollars of wealth\n",
        "        self.wealth = w\n",
        "    def earn(self, y):\n",
        "# The consumer earns y dollars\n",
        "        self.wealth += y\n",
        "    def spend(self, x):\n",
        "# The consumer spends x dollars if feasible\n",
        "        new_wealth = self.wealth - x\n",
        "        if new_wealth < 0:\n",
        "            print(\"Insufficent funds\")\n",
        "        else:\n",
        "            self.wealth = new_wealth\n",
        "\n",
        "wallet = Consumer(100)\n",
        "wallet.earn(10)\n",
        "wallet.spend(20)\n",
        "wallet.earn(10)\n",
        "wallet.spend(20)\n",
        "print(wallet.wealth)   "
      ],
      "metadata": {
        "colab": {
          "base_uri": "https://localhost:8080/"
        },
        "id": "0wd2dJBsIK3o",
        "outputId": "ad8dce62-d79a-4cf2-a6f7-c6f4388afbc5"
      },
      "execution_count": null,
      "outputs": [
        {
          "output_type": "stream",
          "name": "stdout",
          "text": [
            "80\n"
          ]
        }
      ]
    },
    {
      "cell_type": "markdown",
      "source": [
        "Рассмотрим использование класса Consumer для создания экземпляра\n",
        "потребителя, которого назовем c1."
      ],
      "metadata": {
        "id": "YUdA0-GOLCIP"
      }
    },
    {
      "cell_type": "code",
      "source": [
        "c1 = Consumer(10) # Create instance with initial wealth 10\n",
        "c1.spend(5)\n",
        "print(\"c1 = \", c1.wealth)\n",
        "c1.earn(15)\n",
        "print(\"c1 = \", c1.wealth)\n",
        "c1.spend(100)\n",
        "print(\"c1 = \", c1.wealth)\n",
        "c1 = Consumer(10)\n",
        "c2 = Consumer(12)\n",
        "c2.spend(4)\n",
        "print(\"c1 = \", c1.wealth)\n",
        "c2.wealth\n",
        "print(\"c2 = \", c2.wealth)\n",
        "print(c1.__dict__)\n",
        "print(c2.__dict__) "
      ],
      "metadata": {
        "colab": {
          "base_uri": "https://localhost:8080/"
        },
        "id": "Tq8-iV3qLC8o",
        "outputId": "e4503819-96f2-4901-d417-17efdeb9f883"
      },
      "execution_count": null,
      "outputs": [
        {
          "output_type": "stream",
          "name": "stdout",
          "text": [
            "c1 =  5\n",
            "c1 =  20\n",
            "Insufficent funds\n",
            "c1 =  20\n",
            "c1 =  10\n",
            "c2 =  8\n",
            "{'wealth': 10}\n",
            "{'wealth': 8}\n"
          ]
        }
      ]
    },
    {
      "cell_type": "markdown",
      "source": [
        "Если посмотреть на определение класса Consumer, увидим слово self в\n",
        "коде. Правила использования self при создании класса:\n",
        "\n",
        "*   любые данные экземпляра должны начинаться с обращения к служебному слову self. Например, метод wealth использует self.wealth, а не просто wealth;\n",
        "\n",
        "*   метод, определенный в коде, определяющем класс, должен иметь self в\n",
        "качестве первого аргумента, например, defear(self,y), а не просто defear(y);\n",
        "\n",
        "*   любой метод, на который ссылается класс, должен вызываться как\n",
        "self.method_name.\n"
      ],
      "metadata": {
        "id": "VSFK5-vbMqo2"
      }
    },
    {
      "cell_type": "code",
      "source": [
        "print(Consumer.__dict__) "
      ],
      "metadata": {
        "colab": {
          "base_uri": "https://localhost:8080/"
        },
        "id": "MSl8pk9mMWv_",
        "outputId": "d9d2c526-9a7e-4645-ec92-167fee3f6760"
      },
      "execution_count": null,
      "outputs": [
        {
          "output_type": "stream",
          "name": "stdout",
          "text": [
            "{'__module__': '__main__', '__init__': <function Consumer.__init__ at 0x7f40ce8bbca0>, 'earn': <function Consumer.earn at 0x7f40ce8bb790>, 'spend': <function Consumer.spend at 0x7f40ce8bbd30>, '__dict__': <attribute '__dict__' of 'Consumer' objects>, '__weakref__': <attribute '__weakref__' of 'Consumer' objects>, '__doc__': None}\n"
          ]
        }
      ]
    },
    {
      "cell_type": "code",
      "source": [
        "# c1 = Consumer(10)\n",
        "# c1.earn(10)\n",
        "# c1.wealth \n"
      ],
      "metadata": {
        "id": "rtVKsv7INIbk"
      },
      "execution_count": null,
      "outputs": []
    },
    {
      "cell_type": "code",
      "source": [
        "Consumer.earn(c1, 10)\n",
        "c1.wealth"
      ],
      "metadata": {
        "colab": {
          "base_uri": "https://localhost:8080/"
        },
        "id": "v1xR6-CLNTlY",
        "outputId": "3b97ed7d-7a3c-4dd3-fa62-7446751dec0f"
      },
      "execution_count": null,
      "outputs": [
        {
          "output_type": "execute_result",
          "data": {
            "text/plain": [
              "130"
            ]
          },
          "metadata": {},
          "execution_count": 45
        }
      ]
    },
    {
      "cell_type": "code",
      "source": [
        "def earn(self, y):\n",
        " \"The consumer earns y dollars\"\n",
        " self.wealth += y"
      ],
      "metadata": {
        "id": "emggUisMOKbL"
      },
      "execution_count": null,
      "outputs": []
    },
    {
      "cell_type": "markdown",
      "source": [
        "**Пример Модель роста Солоу**"
      ],
      "metadata": {
        "id": "NiUspUgROVyD"
      }
    },
    {
      "cell_type": "code",
      "source": [
        "class Solow:\n",
        "# Реализует модель роста Солоу с правилом обновления\n",
        "# k_{t+1} = [(s z k^α_t) + (1 - δ)k_t] /(1 + n)\n",
        "\n",
        "    def __init__(self, n=0.05, # темпы прироста населения\n",
        "                       s=0.25, # норма сбережений\n",
        "                       δ=0.1, # норма амортизации\n",
        "                       α=0.3, # доля рабочей силы\n",
        "                       z=2.0, # производительность\n",
        "                       k=1.0): # текущий основной капитал\n",
        "        self.n, self.s, self.δ, self.α, self.z = n, s, δ, α, z\n",
        "        self.k = k\n",
        "    def h(self):\n",
        "        print(\" Оценка функции h\")\n",
        "        # Распаковка параметров\n",
        "        #(избавляемся от self для упрощения обозначения)\n",
        "        n, s, δ, α, z = self.n, self.s, self.δ, self.α, self.z\n",
        "        # обновляем на выходе h\n",
        "        return (s * z * self.k**α + (1 - δ) * self.k) / (1 + n)\n",
        "    def update(self):\n",
        "        print(\" Обновляем состояние (основной капитал).\")\n",
        "        self.k = self.h()\n",
        "    def steady_state(self):\n",
        "        print(\" Вычисляем устойчивую стоимость капитала.\")\n",
        "        #(избавляемся от self для упрощения обозначения)\n",
        "        n, s, δ, α, z = self.n, self.s, self.δ, self.α, self.z\n",
        "        # Вычисление и возврат устойчивого состояния\n",
        "        return ((s * z) / (n + δ))**(1 / (1 - α))\n",
        "    def generate_sequence(self, t):\n",
        "        print(\"Генерация и возврат временного ряда\")\n",
        "        path = []\n",
        "        for i in range(t):\n",
        "            path.append(self.k)\n",
        "            self.update()\n",
        "        return path"
      ],
      "metadata": {
        "id": "oKhamfzCjUsL"
      },
      "execution_count": null,
      "outputs": []
    },
    {
      "cell_type": "code",
      "source": [
        "import matplotlib.pyplot as plt\n",
        "s1 = Solow()\n",
        "s2 = Solow(k=8.0)\n",
        "T = 60\n",
        "fig, ax = plt.subplots(figsize=(9, 6))\n",
        "# Построение графика общей установившейся стоимости капитала\n",
        "ax.plot([s1.steady_state()]*T, 'k-', label='устойчивое состояние')\n",
        "# Построение временных рядов для каждой экономики\n",
        "for s in s1, s2:\n",
        "    lb = f' основной ряд от первоначального состояния {s.k}'\n",
        "    ax.plot(s.generate_sequence(T), 'o-', lw=2, alpha=0.6, label=lb)\n",
        "ax.set_xlabel('$t$', fontsize=14)\n",
        "ax.set_ylabel('$k_t$', fontsize=14)\n",
        "ax.legend()\n",
        "plt.show()"
      ],
      "metadata": {
        "colab": {
          "base_uri": "https://localhost:8080/",
          "height": 1000
        },
        "id": "DpKwugiql73-",
        "outputId": "3297716a-3a5e-4700-f01f-d8fbfab1dc3d"
      },
      "execution_count": null,
      "outputs": [
        {
          "output_type": "stream",
          "name": "stdout",
          "text": [
            " Вычисляем устойчивую стоимость капитала.\n",
            "Генерация и возврат временного ряда\n",
            " Обновляем состояние (основной капитал).\n",
            " Оценка функции h\n",
            " Обновляем состояние (основной капитал).\n",
            " Оценка функции h\n",
            " Обновляем состояние (основной капитал).\n",
            " Оценка функции h\n",
            " Обновляем состояние (основной капитал).\n",
            " Оценка функции h\n",
            " Обновляем состояние (основной капитал).\n",
            " Оценка функции h\n",
            " Обновляем состояние (основной капитал).\n",
            " Оценка функции h\n",
            " Обновляем состояние (основной капитал).\n",
            " Оценка функции h\n",
            " Обновляем состояние (основной капитал).\n",
            " Оценка функции h\n",
            " Обновляем состояние (основной капитал).\n",
            " Оценка функции h\n",
            " Обновляем состояние (основной капитал).\n",
            " Оценка функции h\n",
            " Обновляем состояние (основной капитал).\n",
            " Оценка функции h\n",
            " Обновляем состояние (основной капитал).\n",
            " Оценка функции h\n",
            " Обновляем состояние (основной капитал).\n",
            " Оценка функции h\n",
            " Обновляем состояние (основной капитал).\n",
            " Оценка функции h\n",
            " Обновляем состояние (основной капитал).\n",
            " Оценка функции h\n",
            " Обновляем состояние (основной капитал).\n",
            " Оценка функции h\n",
            " Обновляем состояние (основной капитал).\n",
            " Оценка функции h\n",
            " Обновляем состояние (основной капитал).\n",
            " Оценка функции h\n",
            " Обновляем состояние (основной капитал).\n",
            " Оценка функции h\n",
            " Обновляем состояние (основной капитал).\n",
            " Оценка функции h\n",
            " Обновляем состояние (основной капитал).\n",
            " Оценка функции h\n",
            " Обновляем состояние (основной капитал).\n",
            " Оценка функции h\n",
            " Обновляем состояние (основной капитал).\n",
            " Оценка функции h\n",
            " Обновляем состояние (основной капитал).\n",
            " Оценка функции h\n",
            " Обновляем состояние (основной капитал).\n",
            " Оценка функции h\n",
            " Обновляем состояние (основной капитал).\n",
            " Оценка функции h\n",
            " Обновляем состояние (основной капитал).\n",
            " Оценка функции h\n",
            " Обновляем состояние (основной капитал).\n",
            " Оценка функции h\n",
            " Обновляем состояние (основной капитал).\n",
            " Оценка функции h\n",
            " Обновляем состояние (основной капитал).\n",
            " Оценка функции h\n",
            " Обновляем состояние (основной капитал).\n",
            " Оценка функции h\n",
            " Обновляем состояние (основной капитал).\n",
            " Оценка функции h\n",
            " Обновляем состояние (основной капитал).\n",
            " Оценка функции h\n",
            " Обновляем состояние (основной капитал).\n",
            " Оценка функции h\n",
            " Обновляем состояние (основной капитал).\n",
            " Оценка функции h\n",
            " Обновляем состояние (основной капитал).\n",
            " Оценка функции h\n",
            " Обновляем состояние (основной капитал).\n",
            " Оценка функции h\n",
            " Обновляем состояние (основной капитал).\n",
            " Оценка функции h\n",
            " Обновляем состояние (основной капитал).\n",
            " Оценка функции h\n",
            " Обновляем состояние (основной капитал).\n",
            " Оценка функции h\n",
            " Обновляем состояние (основной капитал).\n",
            " Оценка функции h\n",
            " Обновляем состояние (основной капитал).\n",
            " Оценка функции h\n",
            " Обновляем состояние (основной капитал).\n",
            " Оценка функции h\n",
            " Обновляем состояние (основной капитал).\n",
            " Оценка функции h\n",
            " Обновляем состояние (основной капитал).\n",
            " Оценка функции h\n",
            " Обновляем состояние (основной капитал).\n",
            " Оценка функции h\n",
            " Обновляем состояние (основной капитал).\n",
            " Оценка функции h\n",
            " Обновляем состояние (основной капитал).\n",
            " Оценка функции h\n",
            " Обновляем состояние (основной капитал).\n",
            " Оценка функции h\n",
            " Обновляем состояние (основной капитал).\n",
            " Оценка функции h\n",
            " Обновляем состояние (основной капитал).\n",
            " Оценка функции h\n",
            " Обновляем состояние (основной капитал).\n",
            " Оценка функции h\n",
            " Обновляем состояние (основной капитал).\n",
            " Оценка функции h\n",
            " Обновляем состояние (основной капитал).\n",
            " Оценка функции h\n",
            " Обновляем состояние (основной капитал).\n",
            " Оценка функции h\n",
            " Обновляем состояние (основной капитал).\n",
            " Оценка функции h\n",
            " Обновляем состояние (основной капитал).\n",
            " Оценка функции h\n",
            " Обновляем состояние (основной капитал).\n",
            " Оценка функции h\n",
            " Обновляем состояние (основной капитал).\n",
            " Оценка функции h\n",
            " Обновляем состояние (основной капитал).\n",
            " Оценка функции h\n",
            "Генерация и возврат временного ряда\n",
            " Обновляем состояние (основной капитал).\n",
            " Оценка функции h\n",
            " Обновляем состояние (основной капитал).\n",
            " Оценка функции h\n",
            " Обновляем состояние (основной капитал).\n",
            " Оценка функции h\n",
            " Обновляем состояние (основной капитал).\n",
            " Оценка функции h\n",
            " Обновляем состояние (основной капитал).\n",
            " Оценка функции h\n",
            " Обновляем состояние (основной капитал).\n",
            " Оценка функции h\n",
            " Обновляем состояние (основной капитал).\n",
            " Оценка функции h\n",
            " Обновляем состояние (основной капитал).\n",
            " Оценка функции h\n",
            " Обновляем состояние (основной капитал).\n",
            " Оценка функции h\n",
            " Обновляем состояние (основной капитал).\n",
            " Оценка функции h\n",
            " Обновляем состояние (основной капитал).\n",
            " Оценка функции h\n",
            " Обновляем состояние (основной капитал).\n",
            " Оценка функции h\n",
            " Обновляем состояние (основной капитал).\n",
            " Оценка функции h\n",
            " Обновляем состояние (основной капитал).\n",
            " Оценка функции h\n",
            " Обновляем состояние (основной капитал).\n",
            " Оценка функции h\n",
            " Обновляем состояние (основной капитал).\n",
            " Оценка функции h\n",
            " Обновляем состояние (основной капитал).\n",
            " Оценка функции h\n",
            " Обновляем состояние (основной капитал).\n",
            " Оценка функции h\n",
            " Обновляем состояние (основной капитал).\n",
            " Оценка функции h\n",
            " Обновляем состояние (основной капитал).\n",
            " Оценка функции h\n",
            " Обновляем состояние (основной капитал).\n",
            " Оценка функции h\n",
            " Обновляем состояние (основной капитал).\n",
            " Оценка функции h\n",
            " Обновляем состояние (основной капитал).\n",
            " Оценка функции h\n",
            " Обновляем состояние (основной капитал).\n",
            " Оценка функции h\n",
            " Обновляем состояние (основной капитал).\n",
            " Оценка функции h\n",
            " Обновляем состояние (основной капитал).\n",
            " Оценка функции h\n",
            " Обновляем состояние (основной капитал).\n",
            " Оценка функции h\n",
            " Обновляем состояние (основной капитал).\n",
            " Оценка функции h\n",
            " Обновляем состояние (основной капитал).\n",
            " Оценка функции h\n",
            " Обновляем состояние (основной капитал).\n",
            " Оценка функции h\n",
            " Обновляем состояние (основной капитал).\n",
            " Оценка функции h\n",
            " Обновляем состояние (основной капитал).\n",
            " Оценка функции h\n",
            " Обновляем состояние (основной капитал).\n",
            " Оценка функции h\n",
            " Обновляем состояние (основной капитал).\n",
            " Оценка функции h\n",
            " Обновляем состояние (основной капитал).\n",
            " Оценка функции h\n",
            " Обновляем состояние (основной капитал).\n",
            " Оценка функции h\n",
            " Обновляем состояние (основной капитал).\n",
            " Оценка функции h\n",
            " Обновляем состояние (основной капитал).\n",
            " Оценка функции h\n",
            " Обновляем состояние (основной капитал).\n",
            " Оценка функции h\n",
            " Обновляем состояние (основной капитал).\n",
            " Оценка функции h\n",
            " Обновляем состояние (основной капитал).\n",
            " Оценка функции h\n",
            " Обновляем состояние (основной капитал).\n",
            " Оценка функции h\n",
            " Обновляем состояние (основной капитал).\n",
            " Оценка функции h\n",
            " Обновляем состояние (основной капитал).\n",
            " Оценка функции h\n",
            " Обновляем состояние (основной капитал).\n",
            " Оценка функции h\n",
            " Обновляем состояние (основной капитал).\n",
            " Оценка функции h\n",
            " Обновляем состояние (основной капитал).\n",
            " Оценка функции h\n",
            " Обновляем состояние (основной капитал).\n",
            " Оценка функции h\n",
            " Обновляем состояние (основной капитал).\n",
            " Оценка функции h\n",
            " Обновляем состояние (основной капитал).\n",
            " Оценка функции h\n",
            " Обновляем состояние (основной капитал).\n",
            " Оценка функции h\n",
            " Обновляем состояние (основной капитал).\n",
            " Оценка функции h\n",
            " Обновляем состояние (основной капитал).\n",
            " Оценка функции h\n",
            " Обновляем состояние (основной капитал).\n",
            " Оценка функции h\n",
            " Обновляем состояние (основной капитал).\n",
            " Оценка функции h\n",
            " Обновляем состояние (основной капитал).\n",
            " Оценка функции h\n",
            " Обновляем состояние (основной капитал).\n",
            " Оценка функции h\n",
            " Обновляем состояние (основной капитал).\n",
            " Оценка функции h\n",
            " Обновляем состояние (основной капитал).\n",
            " Оценка функции h\n",
            " Обновляем состояние (основной капитал).\n",
            " Оценка функции h\n"
          ]
        },
        {
          "output_type": "display_data",
          "data": {
            "text/plain": [
              "<Figure size 648x432 with 1 Axes>"
            ],
            "image/png": "[encoded data removed]"
          },
          "metadata": {
            "needs_background": "light"
          }
        }
      ]
    },
    {
      "cell_type": "markdown",
      "source": [
        "**Пример Класс Market**"
      ],
      "metadata": {
        "id": "raYHX4eNmhQa"
      }
    },
    {
      "cell_type": "code",
      "source": [
        "from scipy.integrate import quad\n",
        "class Market:\n",
        "    def __init__(self, ad, bd, az, bz, tax):\n",
        "        \"\"\" \n",
        "        Настройка параметров рынка. Все параметры являются скалярами.\n",
        "        \"\"\"\n",
        "        self.ad, self.bd, self.az, self.bz, self.tax = ad, bd, az, bz, tax\n",
        "        if ad < az:\n",
        "            raise ValueError(' Недостаточный спрос.')\n",
        "    def price(self):\n",
        "        \" Расчет равновесной цены\"\n",
        "        return (self.ad - self.az + self.bz * self.tax)/ (self.bd + self.bz)\n",
        "    def quantity(self):\n",
        "        \" Расчет равновесного количества\"\n",
        "        return self.ad - self.bd * self.price()\n",
        "    def consumer_surp(self):\n",
        "        \" Расчет потребительского излишка \"\n",
        "        # == Расчет площадь при обнаружении функции потребления == #\n",
        "        integrand = lambda x: (self.ad / self.bd) - (1 /self.bd) * x \n",
        "        area, error = quad(integrand, 0, self.quantity())\n",
        "        return area - self.price() * self.quantity()\n",
        "    def producer_surp(self):\n",
        "        \" Расчет излишка у производителя \"\n",
        "        # == Расчет площади над обратной кривой предложения, исключая налог == #\n",
        "        integrand = lambda x: - (self.az / self.bz) + (1 / self.bz) * x\n",
        "        area, error = quad(integrand, 0, self.quantity())\n",
        "        return (self.price() - self.tax) * self.quantity() - area\n",
        "    def taxrev(self):\n",
        "        \" Расчет налоговых поступлений \"\n",
        "        return self.tax * self.quantity()\n",
        "    def inverse_demand(self, x):\n",
        "        \" Расчет обратного спроса \"\n",
        "        return self.ad / self.bd - (1 / self.bd)* x\n",
        "    def inverse_supply(self, x):\n",
        "         \" Расчет обратной кривой предложения \"\n",
        "         return - (self.az / self.bz) + (1 / self.bz) * x + self.tax\n",
        "    def inverse_supply_no_tax(self, x):\n",
        "         \"Расчет обратной кривой предложения без налога \"\n",
        "         return -(self.az / self.bz) + (1 / self.bz) * x \n"
      ],
      "metadata": {
        "id": "SlpOxqE3mhga"
      },
      "execution_count": null,
      "outputs": []
    },
    {
      "cell_type": "code",
      "source": [
        "baseline_params = 15, .5, -2, .5, 3\n",
        "m = Market(*baseline_params)\n",
        "print(\"равновесная цена = \", m.price())\n",
        "# равновеснная цена = 18.5\n",
        "print(\"потребительский излишек = \", m.consumer_surp())\n",
        "# потребительский излишек = 33.0625"
      ],
      "metadata": {
        "colab": {
          "base_uri": "https://localhost:8080/"
        },
        "id": "_xey63cEophd",
        "outputId": "4a7fb8d4-cb10-462e-d900-3ca990c1bcd3"
      },
      "execution_count": null,
      "outputs": [
        {
          "output_type": "stream",
          "name": "stdout",
          "text": [
            "равновесная цена =  18.5\n",
            "потребительский излишек =  33.0625\n"
          ]
        }
      ]
    },
    {
      "cell_type": "code",
      "source": [
        "import numpy as np\n",
        "# Исходные значения ad, bd, az, bz, tax\n",
        "baseline_params = 15, .5, -2, .5, 3\n",
        "m = Market(*baseline_params)\n",
        "q_max = m.quantity() * 2\n",
        "q_grid = np.linspace(0.0, q_max, 100)\n",
        "pd = m.inverse_demand(q_grid)\n",
        "ps = m.inverse_supply(q_grid)\n",
        "psno = m.inverse_supply_no_tax(q_grid)\n",
        "fig, ax = plt.subplots()\n",
        "ax.plot(q_grid, pd, lw=2, alpha=0.6, label='спрос')\n",
        "ax.plot(q_grid, ps, lw=2, alpha=0.6, label='предложение')\n",
        "ax.plot(q_grid, psno, '--k', lw=2, alpha=0.6, label='предложение без налогов')\n",
        "ax.set_xlabel('количество', fontsize=14)\n",
        "ax.set_xlim(0, q_max)\n",
        "ax.set_ylabel('цена', fontsize=14)\n",
        "ax.legend(loc='lower right', frameon=False, fontsize=14)\n",
        "plt.show()"
      ],
      "metadata": {
        "colab": {
          "base_uri": "https://localhost:8080/",
          "height": 283
        },
        "id": "_NRiSOTro9sw",
        "outputId": "41cf9784-12f5-42c8-c1e1-18dc0421c12b"
      },
      "execution_count": null,
      "outputs": [
        {
          "output_type": "display_data",
          "data": {
            "text/plain": [
              "<Figure size 432x288 with 1 Axes>"
            ],
            "image/png": "[encoded data removed]"
          },
          "metadata": {
            "needs_background": "light"
          }
        }
      ]
    },
    {
      "cell_type": "code",
      "source": [
        "def deadw(m):\n",
        "    \" Вычисление безвозвратные потери для рынка m.\"\n",
        "    # == Создание аналогичный рынок без налогов == #\n",
        "    m_no_tax = Market(m.ad, m.bd, m.az, m.bz, 0)\n",
        "    # == Сравнение излишков разницы в доходности == #\n",
        "    surp1 = m_no_tax.consumer_surp() + m_no_tax.producer_surp()\n",
        "    surp2 = m.consumer_surp() + m.producer_surp() + m.taxrev()\n",
        "    return surp1 - surp2\n",
        "\n",
        "baseline_params = 15, .5, -2, .5, 3\n",
        "m = Market(*baseline_params)\n",
        "deadw(m) # Безвозвратные потери\n",
        "# 1.125"
      ],
      "metadata": {
        "colab": {
          "base_uri": "https://localhost:8080/"
        },
        "id": "stt-12r3pgWN",
        "outputId": "1be48523-7535-477e-c6fe-7e081ee9f608"
      },
      "execution_count": null,
      "outputs": [
        {
          "output_type": "execute_result",
          "data": {
            "text/plain": [
              "1.125"
            ]
          },
          "metadata": {},
          "execution_count": 55
        }
      ]
    }
  ]
}