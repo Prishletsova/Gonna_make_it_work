{
  "nbformat": 4,
  "nbformat_minor": 0,
  "metadata": {
    "colab": {
      "provenance": [],
      "authorship_tag": "ABX9TyM7JIHaKrJ8+BpGv/WGtCb5",
      "include_colab_link": true
    },
    "kernelspec": {
      "name": "python3",
      "display_name": "Python 3"
    },
    "language_info": {
      "name": "python"
    }
  },
  "cells": [
    {
      "cell_type": "markdown",
      "metadata": {
        "id": "view-in-github",
        "colab_type": "text"
      },
      "source": [
        "<a href=\"https://colab.research.google.com/github/Prishletsova/Gonna_make_it_work/blob/main/%D0%9B%D0%B5%D0%BA%D1%86%D0%B8%D1%8F_07_04.ipynb\" target=\"_parent\"><img src=\"https://colab.research.google.com/assets/colab-badge.svg\" alt=\"Open In Colab\"/></a>"
      ]
    },
    {
      "cell_type": "markdown",
      "source": [
        "# Композиция\n",
        "\n",
        "Особенность объектно-ориентированного программирования является возможность реализовывать так называемый композиционный подход. Заключается он в том, что есть класс-контейнер, он же агрегатор, который включает в себя вызовы других класссов. В результате получается, что при создании объекта класса-контейнера, также создаются объекты включенных в него классов. "
      ],
      "metadata": {
        "id": "1cA2D86IoyaH"
      }
    },
    {
      "cell_type": "markdown",
      "source": [
        "# Композиция и наследование"
      ],
      "metadata": {
        "id": "XX7Om6LTHBpg"
      }
    },
    {
      "cell_type": "markdown",
      "source": [
        "Наследование предполагает принадлежность к какой-то общноси (похожесть), а композиция - формирование целого из частей.\n",
        "\n",
        "Наследуются атрибуты, т.е. возможности другого класса, при этом объкты непосредственно родительского класса не создаются. \n",
        "\n",
        "При композиции - класс-агрегатор создает объекты других классов."
      ],
      "metadata": {
        "id": "4xlOwxLMo5k6"
      }
    },
    {
      "cell_type": "markdown",
      "source": [
        "# Что такое наследование?\n",
        "\n",
        "1. Наследование представляется с помощью унифицированного языка моделирования или UML следующи образом:\n",
        "\n",
        "\n",
        "*   Классы, которые наследуются от другого, называются производными классами, подклассами или подтипами.\n",
        "*   Классы, от которых происходят другие классы, называются базовыми классами или суперклассами.\n",
        "*   Говорят, что производный класс наследует и расширяет базовый класс.\n",
        "\n",
        "\n",
        "\n"
      ],
      "metadata": {
        "id": "856RTkbbHmSM"
      }
    },
    {
      "cell_type": "markdown",
      "source": [
        "# Что за композиция?\n",
        "\n",
        "Композиция представляет собой концепцию, которая моделирует имеет отношения. Это позволяет создавать сложные типы, комбинируя объекты других типов. Это означает, что класс Composite может содержать объект другого класса Component. Это отношение означает, что у Composite есть Component.\n"
      ],
      "metadata": {
        "id": "nVIlN68IInQj"
      }
    },
    {
      "cell_type": "markdown",
      "source": [
        "Композиция позволяет повторно использовать код, добавляя объекты к другим объектам, в отличие от наследования интерфейса и реализации других классов."
      ],
      "metadata": {
        "id": "PvgkFvM_JwNs"
      }
    },
    {
      "cell_type": "markdown",
      "source": [
        "\n",
        "\n",
        "*    В композиции класс, известный как составной, содержит объект другого класса, известного как компонент. Другими словами, составной класс имеет компонент другого класса.\n",
        "*   Композиция позволяет составным классам повторно использовать реализацию компонентов, которые он содержит.\n",
        "*   Составной класс не наследует интерфейс класса компонента, но может использовать его реализацию.\n",
        "\n",
        "\n",
        "\n"
      ],
      "metadata": {
        "id": "QswiZrnQTffX"
      }
    },
    {
      "cell_type": "markdown",
      "source": [
        "# Практичсекая работа. Реализация композиции в PYthon"
      ],
      "metadata": {
        "id": "wijKseZ4vtXj"
      }
    },
    {
      "cell_type": "code",
      "execution_count": null,
      "metadata": {
        "colab": {
          "base_uri": "https://localhost:8080/"
        },
        "id": "jAT9H4tjmz4t",
        "outputId": "c5861a0c-cd81-4a40-9f8e-4b12d9ddc2c7"
      },
      "outputs": [
        {
          "output_type": "stream",
          "name": "stdout",
          "text": [
            "48.6\n",
            "45.6\n"
          ]
        }
      ],
      "source": [
        "class Win_Door:\n",
        "    def __init__(self, x, y):\n",
        "        self.square = x * y\n",
        "\n",
        "class Room:\n",
        "    def __init__(self, x, y, z):\n",
        "        self.square = 2 * z * (x + y)\n",
        "        self.wd = []\n",
        "    def addWD(self, w, h):\n",
        "        self.wd.append(Win_Door(w, h))\n",
        "    def workSurface(self):\n",
        "        new_square = self.square\n",
        "        for i in self.wd:\n",
        "            new_square -= i.square\n",
        "        return new_square\n",
        "\n",
        "r1 = Room(6, 3, 2.7)\n",
        "print(r1.square)  # Общая площадь квартиры\n",
        "r1.addWD(1, 1)    # Площадь окна\n",
        "r1.addWD(1, 2)    # Площадь двери\n",
        "print(r1.workSurface())"
      ]
    },
    {
      "cell_type": "code",
      "source": [
        "class Win_Door:\n",
        "    def __init__(self, x, y):\n",
        "        self.square = x * y\n",
        "\n",
        "class Room:\n",
        "    def __init__(self, x, y, z):\n",
        "        self.square = 2 * z * (x + y)\n",
        "        self.width = x\n",
        "        self.lenght = y\n",
        "        self.height = z\n",
        "        self.wd = []\n",
        "    def addWD(self, w, h):\n",
        "        self.wd.append(Win_Door(w, h))\n",
        "    def workSurface(self):\n",
        "        new_square = self.square\n",
        "        for i in self.wd:\n",
        "            new_square -= i.square\n",
        "        return new_square\n",
        "    def roll(self, l, w):\n",
        "        \n",
        "\n",
        "r1 = Room(6, 3, 2.7)\n",
        "print(r1.square)  # Общая площадь квартиры\n",
        "r1.addWD(1, 1)    # Площадь окна\n",
        "r1.addWD(1, 2)    # Площадь двери\n",
        "print(r1.workSurface())"
      ],
      "metadata": {
        "id": "729_Qo0d2FKq"
      },
      "execution_count": null,
      "outputs": []
    }
  ]
}